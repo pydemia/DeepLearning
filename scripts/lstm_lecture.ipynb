{
 "cells": [
  {
   "cell_type": "markdown",
   "metadata": {
    "toc": "true"
   },
   "source": [
    "# Table of Contents\n",
    " <p><div class=\"lev1 toc-item\"><a href=\"#LSTM-Lecture\" data-toc-modified-id=\"LSTM-Lecture-1\"><span class=\"toc-item-num\">1&nbsp;&nbsp;</span>LSTM Lecture</a></div><div class=\"lev1 toc-item\"><a href=\"#Many-to-One\" data-toc-modified-id=\"Many-to-One-2\"><span class=\"toc-item-num\">2&nbsp;&nbsp;</span>Many to One</a></div><div class=\"lev2 toc-item\"><a href=\"#Preparing-the-Data\" data-toc-modified-id=\"Preparing-the-Data-21\"><span class=\"toc-item-num\">2.1&nbsp;&nbsp;</span>Preparing the Data</a></div><div class=\"lev3 toc-item\"><a href=\"#Input-Dimension\" data-toc-modified-id=\"Input-Dimension-211\"><span class=\"toc-item-num\">2.1.1&nbsp;&nbsp;</span>Input Dimension</a></div><div class=\"lev3 toc-item\"><a href=\"#Assignment\" data-toc-modified-id=\"Assignment-212\"><span class=\"toc-item-num\">2.1.2&nbsp;&nbsp;</span>Assignment</a></div><div class=\"lev3 toc-item\"><a href=\"#Reshaping-:-1D-to-2D-(for-MinMaxScaler)\" data-toc-modified-id=\"Reshaping-:-1D-to-2D-(for-MinMaxScaler)-213\"><span class=\"toc-item-num\">2.1.3&nbsp;&nbsp;</span>Reshaping : 1D to 2D (for <code>MinMaxScaler</code>)</a></div><div class=\"lev3 toc-item\"><a href=\"#Scaling-:-MinMax,-0-~-1\" data-toc-modified-id=\"Scaling-:-MinMax,-0-~-1-214\"><span class=\"toc-item-num\">2.1.4&nbsp;&nbsp;</span>Scaling : <code>MinMax</code>, 0 ~ 1</a></div><div class=\"lev3 toc-item\"><a href=\"#Reshaping-X:-2D-to-3D,-(Samples,-Timestep-Sequence,-Features)\" data-toc-modified-id=\"Reshaping-X:-2D-to-3D,-(Samples,-Timestep-Sequence,-Features)-215\"><span class=\"toc-item-num\">2.1.5&nbsp;&nbsp;</span>Reshaping <code>X</code>: 2D to 3D, (Samples, Timestep-Sequence, Features)</a></div><div class=\"lev2 toc-item\"><a href=\"#LSTM-Model-:-Single-Output\" data-toc-modified-id=\"LSTM-Model-:-Single-Output-22\"><span class=\"toc-item-num\">2.2&nbsp;&nbsp;</span>LSTM Model : Single Output</a></div><div class=\"lev3 toc-item\"><a href=\"#Callback-Objects\" data-toc-modified-id=\"Callback-Objects-221\"><span class=\"toc-item-num\">2.2.1&nbsp;&nbsp;</span>Callback Objects</a></div><div class=\"lev3 toc-item\"><a href=\"#Modeling\" data-toc-modified-id=\"Modeling-222\"><span class=\"toc-item-num\">2.2.2&nbsp;&nbsp;</span>Modeling</a></div><div class=\"lev3 toc-item\"><a href=\"#Training\" data-toc-modified-id=\"Training-223\"><span class=\"toc-item-num\">2.2.3&nbsp;&nbsp;</span>Training</a></div><div class=\"lev3 toc-item\"><a href=\"#Scoring\" data-toc-modified-id=\"Scoring-224\"><span class=\"toc-item-num\">2.2.4&nbsp;&nbsp;</span>Scoring</a></div><div class=\"lev3 toc-item\"><a href=\"#Testing\" data-toc-modified-id=\"Testing-225\"><span class=\"toc-item-num\">2.2.5&nbsp;&nbsp;</span>Testing</a></div><div class=\"lev1 toc-item\"><a href=\"#Many-to-Many-:-Equal-Length-(with-padding)\" data-toc-modified-id=\"Many-to-Many-:-Equal-Length-(with-padding)-3\"><span class=\"toc-item-num\">3&nbsp;&nbsp;</span>Many to Many : Equal Length (with <code>padding</code>)</a></div><div class=\"lev2 toc-item\"><a href=\"#Preparing-the-Data\" data-toc-modified-id=\"Preparing-the-Data-31\"><span class=\"toc-item-num\">3.1&nbsp;&nbsp;</span>Preparing the Data</a></div><div class=\"lev3 toc-item\"><a href=\"#Input-Dimension\" data-toc-modified-id=\"Input-Dimension-311\"><span class=\"toc-item-num\">3.1.1&nbsp;&nbsp;</span>Input Dimension</a></div><div class=\"lev3 toc-item\"><a href=\"#Assignment\" data-toc-modified-id=\"Assignment-312\"><span class=\"toc-item-num\">3.1.2&nbsp;&nbsp;</span>Assignment</a></div><div class=\"lev3 toc-item\"><a href=\"#Reshaping-:-1D-to-2D-(for-MinMaxScaler)\" data-toc-modified-id=\"Reshaping-:-1D-to-2D-(for-MinMaxScaler)-313\"><span class=\"toc-item-num\">3.1.3&nbsp;&nbsp;</span>Reshaping : 1D to 2D (for <code>MinMaxScaler</code>)</a></div><div class=\"lev3 toc-item\"><a href=\"#Scaling-:-MinMax,-0-~-1\" data-toc-modified-id=\"Scaling-:-MinMax,-0-~-1-314\"><span class=\"toc-item-num\">3.1.4&nbsp;&nbsp;</span>Scaling : <code>MinMax</code>, 0 ~ 1</a></div><div class=\"lev3 toc-item\"><a href=\"#Reshaping-X:-2D-to-3D,-(Samples,-Timestep-Sequence,-Features)\" data-toc-modified-id=\"Reshaping-X:-2D-to-3D,-(Samples,-Timestep-Sequence,-Features)-315\"><span class=\"toc-item-num\">3.1.5&nbsp;&nbsp;</span>Reshaping <code>X</code>: 2D to 3D, (Samples, Timestep-Sequence, Features)</a></div><div class=\"lev3 toc-item\"><a href=\"#Padding\" data-toc-modified-id=\"Padding-316\"><span class=\"toc-item-num\">3.1.6&nbsp;&nbsp;</span>Padding</a></div><div class=\"lev2 toc-item\"><a href=\"#LSTM-Model-:-Multiple-Outputs\" data-toc-modified-id=\"LSTM-Model-:-Multiple-Outputs-32\"><span class=\"toc-item-num\">3.2&nbsp;&nbsp;</span>LSTM Model : Multiple Outputs</a></div><div class=\"lev3 toc-item\"><a href=\"#Callback-Objects\" data-toc-modified-id=\"Callback-Objects-321\"><span class=\"toc-item-num\">3.2.1&nbsp;&nbsp;</span>Callback Objects</a></div><div class=\"lev3 toc-item\"><a href=\"#Modeling\" data-toc-modified-id=\"Modeling-322\"><span class=\"toc-item-num\">3.2.2&nbsp;&nbsp;</span>Modeling</a></div><div class=\"lev3 toc-item\"><a href=\"#Training\" data-toc-modified-id=\"Training-323\"><span class=\"toc-item-num\">3.2.3&nbsp;&nbsp;</span>Training</a></div><div class=\"lev3 toc-item\"><a href=\"#Scoring\" data-toc-modified-id=\"Scoring-324\"><span class=\"toc-item-num\">3.2.4&nbsp;&nbsp;</span>Scoring</a></div><div class=\"lev3 toc-item\"><a href=\"#Testing\" data-toc-modified-id=\"Testing-325\"><span class=\"toc-item-num\">3.2.5&nbsp;&nbsp;</span>Testing</a></div><div class=\"lev1 toc-item\"><a href=\"#Many-to-Many-2-:-(Encoder-Decoder)\" data-toc-modified-id=\"Many-to-Many-2-:-(Encoder-Decoder)-4\"><span class=\"toc-item-num\">4&nbsp;&nbsp;</span>Many to Many 2 : (Encoder-Decoder)</a></div><div class=\"lev2 toc-item\"><a href=\"#Preparing-the-Data\" data-toc-modified-id=\"Preparing-the-Data-41\"><span class=\"toc-item-num\">4.1&nbsp;&nbsp;</span>Preparing the Data</a></div><div class=\"lev3 toc-item\"><a href=\"#Input-Dimension\" data-toc-modified-id=\"Input-Dimension-411\"><span class=\"toc-item-num\">4.1.1&nbsp;&nbsp;</span>Input Dimension</a></div><div class=\"lev3 toc-item\"><a href=\"#Assignment\" data-toc-modified-id=\"Assignment-412\"><span class=\"toc-item-num\">4.1.2&nbsp;&nbsp;</span>Assignment</a></div><div class=\"lev3 toc-item\"><a href=\"#Reshaping-:-1D-to-2D-(for-MinMaxScaler)\" data-toc-modified-id=\"Reshaping-:-1D-to-2D-(for-MinMaxScaler)-413\"><span class=\"toc-item-num\">4.1.3&nbsp;&nbsp;</span>Reshaping : 1D to 2D (for <code>MinMaxScaler</code>)</a></div><div class=\"lev3 toc-item\"><a href=\"#Scaling-:-MinMax,-0-~-1\" data-toc-modified-id=\"Scaling-:-MinMax,-0-~-1-414\"><span class=\"toc-item-num\">4.1.4&nbsp;&nbsp;</span>Scaling : <code>MinMax</code>, 0 ~ 1</a></div><div class=\"lev3 toc-item\"><a href=\"#Reshaping-X:-2D-to-3D,-(Samples,-Timestep-Sequence,-Features)\" data-toc-modified-id=\"Reshaping-X:-2D-to-3D,-(Samples,-Timestep-Sequence,-Features)-415\"><span class=\"toc-item-num\">4.1.5&nbsp;&nbsp;</span>Reshaping <code>X</code>: 2D to 3D, (Samples, Timestep-Sequence, Features)</a></div><div class=\"lev3 toc-item\"><a href=\"#Padding\" data-toc-modified-id=\"Padding-416\"><span class=\"toc-item-num\">4.1.6&nbsp;&nbsp;</span>Padding</a></div><div class=\"lev2 toc-item\"><a href=\"#LSTM-Model-:-Multiple-Outputs\" data-toc-modified-id=\"LSTM-Model-:-Multiple-Outputs-42\"><span class=\"toc-item-num\">4.2&nbsp;&nbsp;</span>LSTM Model : Multiple Outputs</a></div><div class=\"lev3 toc-item\"><a href=\"#Callback-Objects\" data-toc-modified-id=\"Callback-Objects-421\"><span class=\"toc-item-num\">4.2.1&nbsp;&nbsp;</span>Callback Objects</a></div><div class=\"lev3 toc-item\"><a href=\"#Modeling\" data-toc-modified-id=\"Modeling-422\"><span class=\"toc-item-num\">4.2.2&nbsp;&nbsp;</span>Modeling</a></div><div class=\"lev3 toc-item\"><a href=\"#Training\" data-toc-modified-id=\"Training-423\"><span class=\"toc-item-num\">4.2.3&nbsp;&nbsp;</span>Training</a></div><div class=\"lev3 toc-item\"><a href=\"#Scoring\" data-toc-modified-id=\"Scoring-424\"><span class=\"toc-item-num\">4.2.4&nbsp;&nbsp;</span>Scoring</a></div><div class=\"lev3 toc-item\"><a href=\"#Testing\" data-toc-modified-id=\"Testing-425\"><span class=\"toc-item-num\">4.2.5&nbsp;&nbsp;</span>Testing</a></div>"
   ]
  },
  {
   "cell_type": "markdown",
   "metadata": {},
   "source": [
    "# LSTM Lecture"
   ]
  },
  {
   "cell_type": "markdown",
   "metadata": {},
   "source": [
    "!['lstm'](lstm.jpg)"
   ]
  },
  {
   "cell_type": "markdown",
   "metadata": {},
   "source": [
    "# Many to One"
   ]
  },
  {
   "cell_type": "markdown",
   "metadata": {},
   "source": [
    "!['lstm_many_to_one'](lstm_many_to_one.jpg)"
   ]
  },
  {
   "cell_type": "code",
   "execution_count": 132,
   "metadata": {
    "run_control": {
     "marked": false
    }
   },
   "outputs": [],
   "source": [
    "import os\n",
    "import math\n",
    "import datetime as dt\n",
    "import itertools as it\n",
    "from glob import glob\n",
    "from pprint import pprint\n",
    "\n",
    "import numpy as np\n",
    "import pandas as pd\n",
    "from sklearn.preprocessing import MinMaxScaler\n",
    "from sklearn.metrics import mean_squared_error\n",
    "import keras\n",
    "from keras.models import Sequential\n",
    "from keras.layers import LSTM, Dense, Flatten, RepeatVector\n",
    "from keras.callbacks import LambdaCallback\n",
    "\n",
    "import matplotlib.pyplot as plt\n",
    "%matplotlib inline"
   ]
  },
  {
   "cell_type": "markdown",
   "metadata": {},
   "source": [
    "## Preparing the Data"
   ]
  },
  {
   "cell_type": "code",
   "execution_count": 133,
   "metadata": {},
   "outputs": [
    {
     "data": {
      "text/html": [
       "<div>\n",
       "<style>\n",
       "    .dataframe thead tr:only-child th {\n",
       "        text-align: right;\n",
       "    }\n",
       "\n",
       "    .dataframe thead th {\n",
       "        text-align: left;\n",
       "    }\n",
       "\n",
       "    .dataframe tbody tr th {\n",
       "        vertical-align: top;\n",
       "    }\n",
       "</style>\n",
       "<table border=\"1\" class=\"dataframe\">\n",
       "  <thead>\n",
       "    <tr style=\"text-align: right;\">\n",
       "      <th></th>\n",
       "      <th>col1</th>\n",
       "      <th>col2</th>\n",
       "    </tr>\n",
       "  </thead>\n",
       "  <tbody>\n",
       "    <tr>\n",
       "      <th>0</th>\n",
       "      <td>0</td>\n",
       "      <td>2</td>\n",
       "    </tr>\n",
       "    <tr>\n",
       "      <th>1</th>\n",
       "      <td>1</td>\n",
       "      <td>3</td>\n",
       "    </tr>\n",
       "    <tr>\n",
       "      <th>2</th>\n",
       "      <td>2</td>\n",
       "      <td>4</td>\n",
       "    </tr>\n",
       "    <tr>\n",
       "      <th>3</th>\n",
       "      <td>3</td>\n",
       "      <td>5</td>\n",
       "    </tr>\n",
       "    <tr>\n",
       "      <th>4</th>\n",
       "      <td>4</td>\n",
       "      <td>6</td>\n",
       "    </tr>\n",
       "    <tr>\n",
       "      <th>5</th>\n",
       "      <td>5</td>\n",
       "      <td>7</td>\n",
       "    </tr>\n",
       "  </tbody>\n",
       "</table>\n",
       "</div>"
      ],
      "text/plain": [
       "   col1  col2\n",
       "0     0     2\n",
       "1     1     3\n",
       "2     2     4\n",
       "3     3     5\n",
       "4     4     6\n",
       "5     5     7"
      ]
     },
     "execution_count": 133,
     "metadata": {},
     "output_type": "execute_result"
    }
   ],
   "source": [
    "data_len = 6\n",
    "data = pd.DataFrame({'col1': np.arange(data_len),\n",
    "                     'col2': np.arange(data_len) + 2})\n",
    "data"
   ]
  },
  {
   "cell_type": "markdown",
   "metadata": {},
   "source": [
    "### Input Dimension"
   ]
  },
  {
   "cell_type": "code",
   "execution_count": 134,
   "metadata": {},
   "outputs": [],
   "source": [
    "xfeature = 2\n",
    "yfeature = 1\n",
    "look_back = timestep = xlen = 2\n",
    "foresight = 2\n",
    "ylen = 1"
   ]
  },
  {
   "cell_type": "markdown",
   "metadata": {},
   "source": [
    "### Assignment"
   ]
  },
  {
   "cell_type": "code",
   "execution_count": 135,
   "metadata": {},
   "outputs": [
    {
     "data": {
      "text/plain": [
       "array([[ 0.,  2.],\n",
       "       [ 1.,  3.],\n",
       "       [ 2.,  4.],\n",
       "       [ 3.,  5.],\n",
       "       [ 4.,  6.],\n",
       "       [ 5.,  7.]], dtype=float32)"
      ]
     },
     "execution_count": 135,
     "metadata": {},
     "output_type": "execute_result"
    }
   ],
   "source": [
    "data_X_1d = data.iloc[:, :xfeature].values.astype('float32')\n",
    "data_X_1d"
   ]
  },
  {
   "cell_type": "code",
   "execution_count": 136,
   "metadata": {},
   "outputs": [
    {
     "data": {
      "text/plain": [
       "array([[ 0.],\n",
       "       [ 1.],\n",
       "       [ 2.],\n",
       "       [ 3.],\n",
       "       [ 4.],\n",
       "       [ 5.]], dtype=float32)"
      ]
     },
     "execution_count": 136,
     "metadata": {},
     "output_type": "execute_result"
    }
   ],
   "source": [
    "data_Y_1d = data.iloc[:, :yfeature].values.astype('float32')\n",
    "data_Y_1d"
   ]
  },
  {
   "cell_type": "markdown",
   "metadata": {},
   "source": [
    "### Reshaping : 1D to 2D (for `MinMaxScaler`)"
   ]
  },
  {
   "cell_type": "code",
   "execution_count": 137,
   "metadata": {},
   "outputs": [
    {
     "data": {
      "text/plain": [
       "(6, 2)"
      ]
     },
     "execution_count": 137,
     "metadata": {},
     "output_type": "execute_result"
    }
   ],
   "source": [
    "data_X_1d.shape"
   ]
  },
  {
   "cell_type": "code",
   "execution_count": 138,
   "metadata": {},
   "outputs": [
    {
     "name": "stdout",
     "output_type": "stream",
     "text": [
      "(6, 2)\n"
     ]
    },
    {
     "data": {
      "text/plain": [
       "array([[ 0.,  2.],\n",
       "       [ 1.,  3.],\n",
       "       [ 2.,  4.],\n",
       "       [ 3.,  5.],\n",
       "       [ 4.,  6.],\n",
       "       [ 5.,  7.]], dtype=float32)"
      ]
     },
     "execution_count": 138,
     "metadata": {},
     "output_type": "execute_result"
    }
   ],
   "source": [
    "data_X_2d = data_X_1d.reshape(-1, xfeature)\n",
    "print(data_X_2d.shape)\n",
    "data_X_2d"
   ]
  },
  {
   "cell_type": "code",
   "execution_count": 139,
   "metadata": {},
   "outputs": [
    {
     "name": "stdout",
     "output_type": "stream",
     "text": [
      "(6, 1)\n"
     ]
    },
    {
     "data": {
      "text/plain": [
       "array([[ 0.],\n",
       "       [ 1.],\n",
       "       [ 2.],\n",
       "       [ 3.],\n",
       "       [ 4.],\n",
       "       [ 5.]], dtype=float32)"
      ]
     },
     "execution_count": 139,
     "metadata": {},
     "output_type": "execute_result"
    }
   ],
   "source": [
    "data_Y_2d = data_Y_1d.reshape(-1, yfeature)\n",
    "print(data_Y_2d.shape)\n",
    "data_Y_2d"
   ]
  },
  {
   "cell_type": "markdown",
   "metadata": {},
   "source": [
    "### Scaling : `MinMax`, 0 ~ 1"
   ]
  },
  {
   "cell_type": "code",
   "execution_count": 140,
   "metadata": {},
   "outputs": [
    {
     "name": "stdout",
     "output_type": "stream",
     "text": [
      "[[ 0.          0.        ]\n",
      " [ 0.2         0.20000002]\n",
      " [ 0.40000001  0.40000001]\n",
      " [ 0.60000002  0.60000002]\n",
      " [ 0.80000001  0.80000007]\n",
      " [ 1.          1.        ]]\n",
      "[[ 0.        ]\n",
      " [ 0.2       ]\n",
      " [ 0.40000001]\n",
      " [ 0.60000002]\n",
      " [ 0.80000001]\n",
      " [ 1.        ]]\n"
     ]
    }
   ],
   "source": [
    "scalerX = MinMaxScaler(feature_range=(0, 1))\n",
    "scalerY = MinMaxScaler(feature_range=(0, 1))\n",
    "\n",
    "scaled_X = scalerX.fit_transform(data_X_2d)\n",
    "scaled_Y = scalerY.fit_transform(data_Y_2d)\n",
    "\n",
    "print(scaled_X)\n",
    "print(scaled_Y)"
   ]
  },
  {
   "cell_type": "markdown",
   "metadata": {},
   "source": [
    "### Reshaping `X`: 2D to 3D, (Samples, Timestep-Sequence, Features)"
   ]
  },
  {
   "cell_type": "code",
   "execution_count": 141,
   "metadata": {},
   "outputs": [
    {
     "data": {
      "text/plain": [
       "1"
      ]
     },
     "execution_count": 141,
     "metadata": {},
     "output_type": "execute_result"
    }
   ],
   "source": [
    "len(scaled_X) - xlen - foresight - ylen"
   ]
  },
  {
   "cell_type": "code",
   "execution_count": 142,
   "metadata": {},
   "outputs": [
    {
     "name": "stdout",
     "output_type": "stream",
     "text": [
      "X Shape: (3, 2, 2)\n"
     ]
    },
    {
     "data": {
      "text/plain": [
       "array([[[ 0.        ,  0.        ],\n",
       "        [ 0.2       ,  0.20000002]],\n",
       "\n",
       "       [[ 0.2       ,  0.20000002],\n",
       "        [ 0.40000001,  0.40000001]],\n",
       "\n",
       "       [[ 0.40000001,  0.40000001],\n",
       "        [ 0.60000002,  0.60000002]]], dtype=float32)"
      ]
     },
     "execution_count": 142,
     "metadata": {},
     "output_type": "execute_result"
    }
   ],
   "source": [
    "seq_X = np.array([scaled_X[i:i+xlen] for i in range(0, len(scaled_X) - xlen - (foresight - 1) - (ylen - 1))])\n",
    "print('X Shape:', seq_X.shape)\n",
    "seq_X"
   ]
  },
  {
   "cell_type": "code",
   "execution_count": 143,
   "metadata": {},
   "outputs": [
    {
     "name": "stdout",
     "output_type": "stream",
     "text": [
      "Y Shape: (3, 1)\n"
     ]
    },
    {
     "data": {
      "text/plain": [
       "array([[ 0.60000002],\n",
       "       [ 0.80000001],\n",
       "       [ 1.        ]], dtype=float32)"
      ]
     },
     "execution_count": 143,
     "metadata": {},
     "output_type": "execute_result"
    }
   ],
   "source": [
    "seq_Y = np.array([scaled_Y[i:i+ylen][0] for i in range(xlen + (foresight - 1), len(scaled_Y))])\n",
    "print('Y Shape:', seq_Y.shape)\n",
    "seq_Y"
   ]
  },
  {
   "cell_type": "markdown",
   "metadata": {},
   "source": [
    "## LSTM Model : Single Output"
   ]
  },
  {
   "cell_type": "markdown",
   "metadata": {},
   "source": [
    "### Callback Objects"
   ]
  },
  {
   "cell_type": "code",
   "execution_count": 144,
   "metadata": {
    "scrolled": true
   },
   "outputs": [],
   "source": [
    "class LossHistory(keras.callbacks.Callback):\n",
    "    def on_train_begin(self, logs={}):\n",
    "        self.losses = []\n",
    "        self.weights = []\n",
    "\n",
    "    def on_batch_begin(self, batch, logs={}):\n",
    "        self.weights.append([{'begin_' + layer.name: layer.get_weights()} for layer in model.layers])\n",
    "\n",
    "    def on_batch_end(self, batch, logs={}):\n",
    "        self.losses.append(logs.get('loss'))\n",
    "        self.weights.append([{'end_' + layer.name: layer.get_weights()} for layer in model.layers])\n",
    "\n",
    "history = LossHistory()\n",
    "\n",
    "print_weights = LambdaCallback(on_epoch_end=lambda batch, logs: pprint(model.layers[0].get_weights()))"
   ]
  },
  {
   "cell_type": "markdown",
   "metadata": {},
   "source": [
    "### Modeling"
   ]
  },
  {
   "cell_type": "code",
   "execution_count": 158,
   "metadata": {
    "run_control": {
     "marked": false
    },
    "scrolled": true
   },
   "outputs": [
    {
     "name": "stdout",
     "output_type": "stream",
     "text": [
      "[<tf.Variable 'lstm_10/kernel:0' shape=(2, 16) dtype=float32_ref>,\n",
      " <tf.Variable 'lstm_10/recurrent_kernel:0' shape=(4, 16) dtype=float32_ref>,\n",
      " <tf.Variable 'lstm_10/bias:0' shape=(16,) dtype=float32_ref>,\n",
      " <tf.Variable 'dense_10/kernel:0' shape=(4, 1) dtype=float32_ref>,\n",
      " <tf.Variable 'dense_10/bias:0' shape=(1,) dtype=float32_ref>]\n",
      "_________________________________________________________________\n",
      "Layer (type)                 Output Shape              Param #   \n",
      "=================================================================\n",
      "lstm_10 (LSTM)               (None, 4)                 112       \n",
      "_________________________________________________________________\n",
      "dense_10 (Dense)             (None, 1)                 5         \n",
      "=================================================================\n",
      "Total params: 117\n",
      "Trainable params: 117\n",
      "Non-trainable params: 0\n",
      "_________________________________________________________________\n"
     ]
    }
   ],
   "source": [
    "_, timestepX, ndimX = seq_X.shape\n",
    "#_, timestepY, ndimY = trainY.shape\n",
    "_, ndimY = seq_Y.shape\n",
    "\n",
    "HIDDEN_SIZE = 4\n",
    "\n",
    "# simple lstm network learning\n",
    "model = Sequential()\n",
    "\"\"\"\n",
    "2D: (batch_size, units)\n",
    "3D: (batch_size, timesteps, input_dim)\n",
    "\"\"\"\n",
    "model.add(LSTM(HIDDEN_SIZE,  # Network Node\n",
    "               input_shape=(timestepX, ndimX),  # Time-step, Feature Number\n",
    "               #dropout=.3,  # Drop-Out Ratio; Among the Input\n",
    "               recurrent_dropout=.3,  # Recurrent Drop-out Ratio; Among the Recurrent Network\n",
    "               return_sequences=False,  # If LSTM Returns the sequence;the same dimension of the input.\n",
    "               kernel_initializer=keras.initializers.Zeros(),\n",
    "               recurrent_initializer='zeros',\n",
    "               bias_initializer=keras.initializers.RandomUniform(minval=-0.05, maxval=0.05, seed=None),\n",
    "               use_bias=True\n",
    "              ))\n",
    "model.add(Dense(ndimY,  # Network Node\n",
    "                #input_shape=(ylen, ndimX),  # Time-step, Feature Number\n",
    "                activation='linear',\n",
    "                kernel_initializer=keras.initializers.RandomNormal(mean=0.0, stddev=0.05, seed=None),\n",
    "                bias_initializer=keras.initializers.Constant(value=0),))\n",
    "\n",
    "model.compile(loss='mean_squared_error', optimizer='adam', metrics=['mae'])\n",
    "\n",
    "pprint(model.weights)\n",
    "model.summary()"
   ]
  },
  {
   "cell_type": "markdown",
   "metadata": {},
   "source": [
    "### Training"
   ]
  },
  {
   "cell_type": "code",
   "execution_count": 159,
   "metadata": {},
   "outputs": [
    {
     "name": "stdout",
     "output_type": "stream",
     "text": [
      "Epoch 1/3\n",
      "[array([[ 0.00073965, -0.0007415 , -0.00074281,  0.00074359,  0.00073202,\n",
      "        -0.00073695, -0.0007404 ,  0.00074261,  0.00074411,  0.00074411,\n",
      "        -0.00074413, -0.00074414,  0.00074058, -0.00074205, -0.00074303,\n",
      "         0.00074369],\n",
      "       [ 0.00073965, -0.0007415 , -0.00074281,  0.00074359,  0.00073202,\n",
      "        -0.00073695, -0.0007404 ,  0.00074261,  0.00074411,  0.00074411,\n",
      "        -0.00074413, -0.00074414,  0.00074058, -0.00074205, -0.00074303,\n",
      "         0.00074369]], dtype=float32),\n",
      " array([[ 0.00041474, -0.00050747, -0.00060218,  0.00067842,  0.00028924,\n",
      "        -0.00038608, -0.00050252,  0.0006221 ,  0.0007399 ,  0.00074002,\n",
      "        -0.0007426 , -0.00074304,  0.00051042, -0.00058704, -0.00065146,\n",
      "         0.00070291],\n",
      "       [-0.00049987,  0.00057822,  0.00064988, -0.00070229, -0.00037818,\n",
      "         0.00047379,  0.00057426, -0.000664  , -0.00074153, -0.0007416 ,\n",
      "         0.0007432 ,  0.00074346, -0.00058057,  0.00063894,  0.00068425,\n",
      "        -0.00071822],\n",
      "       [ 0.00044292, -0.00053178, -0.00061916,  0.00068715,  0.0003171 ,\n",
      "        -0.00041477, -0.00052712,  0.00063712,  0.0007405 ,  0.00074061,\n",
      "        -0.00074282, -0.00074319,  0.00053455, -0.00060541, -0.00066334,\n",
      "         0.00070855],\n",
      "       [-0.00053945,  0.00060855,  0.00066882, -0.00071123, -0.00042489,\n",
      "         0.00051567,  0.00060514, -0.00068038, -0.00074211, -0.00074217,\n",
      "         0.00074341,  0.00074361, -0.00061057,  0.00065979,  0.00069679,\n",
      "        -0.00072386]], dtype=float32),\n",
      " array([ 0.02572981,  0.01364505, -0.04929911, -0.03024729,  1.00073886,\n",
      "        0.999259  ,  0.9992575 ,  1.00074351,  0.01899836, -0.02931536,\n",
      "        0.02086253, -0.03878541, -0.02410541, -0.04688176,  0.01481812,\n",
      "        0.04438039], dtype=float32)]\n",
      " - 1s - loss: 0.6651 - mean_absolute_error: 0.7990\n",
      "Epoch 2/3\n",
      "[array([[ 0.00159579, -0.00159546, -0.00159769,  0.00160238,  0.00158211,\n",
      "        -0.00158741, -0.00159373,  0.00160053,  0.00160305,  0.00160188,\n",
      "        -0.00160232, -0.00160274,  0.00159742, -0.00159657, -0.00159824,\n",
      "         0.00160253],\n",
      "       [ 0.00159579, -0.00159546, -0.00159769,  0.00160238,  0.00158211,\n",
      "        -0.00158741, -0.00159373,  0.00160053,  0.00160305,  0.00160188,\n",
      "        -0.00160232, -0.00160274,  0.00159742, -0.00159657, -0.00159824,\n",
      "         0.00160253]], dtype=float32),\n",
      " array([[ 0.00098154, -0.00115157, -0.00133656,  0.00148561,  0.00071234,\n",
      "        -0.00090402, -0.00114273,  0.00138139,  0.00159615,  0.00159578,\n",
      "        -0.00160066, -0.00160163,  0.00117217, -0.00130808, -0.00143071,\n",
      "         0.00152994],\n",
      "       [-0.00114358,  0.00128228,  0.00142082, -0.00152618, -0.00089297,\n",
      "         0.00107458,  0.00127549, -0.00145476, -0.00159751, -0.00159606,\n",
      "         0.00159952,  0.00160055, -0.00130039,  0.0014005 ,  0.00148668,\n",
      "        -0.00155535],\n",
      "       [ 0.00102744, -0.00118885, -0.00136041,  0.00149756,  0.00076026,\n",
      "        -0.00095112, -0.00118065,  0.00140328,  0.00159523,  0.00159366,\n",
      "        -0.00159832, -0.0015996 ,  0.00121005, -0.00133447, -0.00144591,\n",
      "         0.00153705],\n",
      "       [-0.00122666,  0.0013469 ,  0.00146129, -0.00154446, -0.00099756,\n",
      "         0.00116603,  0.00134115, -0.00148802, -0.00159984, -0.00159909,\n",
      "         0.00160165,  0.00160231, -0.00136123,  0.00144479,  0.00151399,\n",
      "        -0.00156721]], dtype=float32),\n",
      " array([ 0.02658819,  0.01278946, -0.05015501, -0.02938827,  1.00159431,\n",
      "        0.99840498,  0.99840224,  1.00160205,  0.01985731, -0.02845759,\n",
      "        0.02000434, -0.03964402, -0.02324701, -0.04773737,  0.01396223,\n",
      "        0.04523941], dtype=float32)]\n",
      " - 0s - loss: 0.6637 - mean_absolute_error: 0.7981\n",
      "Epoch 3/3\n",
      "[array([[ 0.00250592, -0.00249591, -0.00249847,  0.00251396,  0.00248717,\n",
      "        -0.00248556, -0.00249427,  0.00251119,  0.0025142 ,  0.00250946,\n",
      "        -0.0025112 , -0.00251287,  0.00250813, -0.00249774, -0.00249961,\n",
      "         0.00251411],\n",
      "       [ 0.00250592, -0.00249591, -0.00249847,  0.00251396,  0.00248717,\n",
      "        -0.00248556, -0.00249427,  0.00251119,  0.0025142 ,  0.00250946,\n",
      "        -0.0025112 , -0.00251287,  0.00250813, -0.00249774, -0.00249961,\n",
      "         0.00251411]], dtype=float32),\n",
      " array([[ 0.00164074, -0.00186441, -0.00213338,  0.0023551 ,  0.00122672,\n",
      "        -0.00149471, -0.00185322,  0.00220971,  0.0025063 ,  0.00250442,\n",
      "        -0.00251171, -0.00251349,  0.00191812, -0.00209374, -0.0022691 ,\n",
      "         0.00241598],\n",
      "       [-0.00186478,  0.00203985,  0.00224068, -0.00240587, -0.00148743,\n",
      "         0.00173379,  0.00203186, -0.0023046 , -0.00250425, -0.00249798,\n",
      "         0.00250428,  0.00250717, -0.00209091,  0.00221294,  0.00233661,\n",
      "        -0.00244644],\n",
      "       [ 0.00169038, -0.00189902, -0.00215034,  0.00236424,  0.00127916,\n",
      "        -0.00154377, -0.00188899,  0.0022296 ,  0.00249988,  0.00249295,\n",
      "        -0.00250111, -0.00250451,  0.00195851, -0.00211428, -0.00227554,\n",
      "         0.00241953],\n",
      "       [-0.00199369,  0.00214504,  0.00230844, -0.00243517, -0.00165757,\n",
      "         0.00188275,  0.0021383 , -0.00235673, -0.00251079, -0.00250755,\n",
      "         0.00251193,  0.0025136 , -0.00218333,  0.00228621,  0.00238414,\n",
      "        -0.00246638]], dtype=float32),\n",
      " array([ 0.02750015,  0.0118871 , -0.05105741, -0.0284766 ,  1.00250375,\n",
      "        0.9975034 ,  0.99749959,  1.00251317,  0.02076849, -0.02755002,\n",
      "        0.01909547, -0.04055415, -0.02233503, -0.04863976,  0.01305984,\n",
      "        0.04615108], dtype=float32)]\n",
      " - 0s - loss: 0.6620 - mean_absolute_error: 0.7971\n"
     ]
    }
   ],
   "source": [
    "fitted = model.fit(seq_X, seq_Y,\n",
    "                   epochs=3,     # How many times to run back_propagation\n",
    "                   batch_size=data_len,  # How many data to deal with at one epoch\n",
    "                   verbose=2,       # 1: progress bar, 2: one line per epoch\n",
    "                   #validation_data=(testX, testY),  # Validation set\n",
    "                   shuffle=False,\n",
    "                   callbacks=[history, print_weights])"
   ]
  },
  {
   "cell_type": "code",
   "execution_count": 162,
   "metadata": {},
   "outputs": [
    {
     "data": {
      "text/plain": [
       "[<tf.Variable 'lstm_10/kernel:0' shape=(2, 16) dtype=float32_ref>,\n",
       " <tf.Variable 'lstm_10/recurrent_kernel:0' shape=(4, 16) dtype=float32_ref>,\n",
       " <tf.Variable 'lstm_10/bias:0' shape=(16,) dtype=float32_ref>]"
      ]
     },
     "execution_count": 162,
     "metadata": {},
     "output_type": "execute_result"
    }
   ],
   "source": [
    "model.layers[0].weights"
   ]
  },
  {
   "cell_type": "code",
   "execution_count": 163,
   "metadata": {},
   "outputs": [
    {
     "name": "stdout",
     "output_type": "stream",
     "text": [
      "[0.66514713, 0.66367149, 0.66197109]\n",
      "[[{'begin_lstm_10': [array([[ 0.,  0.,  0.,  0.,  0.,  0.,  0.,  0.,  0.,  0.,  0.,  0.,  0.,\n",
      "         0.,  0.,  0.],\n",
      "       [ 0.,  0.,  0.,  0.,  0.,  0.,  0.,  0.,  0.,  0.,  0.,  0.,  0.,\n",
      "         0.,  0.,  0.]], dtype=float32),\n",
      "                     array([[ 0.,  0.,  0.,  0.,  0.,  0.,  0.,  0.,  0.,  0.,  0.,  0.,  0.,\n",
      "         0.,  0.,  0.],\n",
      "       [ 0.,  0.,  0.,  0.,  0.,  0.,  0.,  0.,  0.,  0.,  0.,  0.,  0.,\n",
      "         0.,  0.,  0.],\n",
      "       [ 0.,  0.,  0.,  0.,  0.,  0.,  0.,  0.,  0.,  0.,  0.,  0.,  0.,\n",
      "         0.,  0.,  0.],\n",
      "       [ 0.,  0.,  0.,  0.,  0.,  0.,  0.,  0.,  0.,  0.,  0.,  0.,  0.,\n",
      "         0.,  0.,  0.]], dtype=float32),\n",
      "                     array([ 0.02498725,  0.01438827, -0.04855543, -0.03099125,  1.        ,\n",
      "        1.        ,  1.        ,  1.        ,  0.01825422, -0.03005949,\n",
      "        0.02160667, -0.03804127, -0.02484801, -0.04613853,  0.01556179,\n",
      "        0.04363644], dtype=float32)]},\n",
      "  {'begin_dense_10': [array([[ 0.03022335],\n",
      "       [ 0.03154717],\n",
      "       [-0.08465558],\n",
      "       [-0.11583628]], dtype=float32),\n",
      "                      array([ 0.], dtype=float32)]}],\n",
      " [{'end_lstm_10': [array([[ 0.00073965, -0.0007415 , -0.00074281,  0.00074359,  0.00073202,\n",
      "        -0.00073695, -0.0007404 ,  0.00074261,  0.00074411,  0.00074411,\n",
      "        -0.00074413, -0.00074414,  0.00074058, -0.00074205, -0.00074303,\n",
      "         0.00074369],\n",
      "       [ 0.00073965, -0.0007415 , -0.00074281,  0.00074359,  0.00073202,\n",
      "        -0.00073695, -0.0007404 ,  0.00074261,  0.00074411,  0.00074411,\n",
      "        -0.00074413, -0.00074414,  0.00074058, -0.00074205, -0.00074303,\n",
      "         0.00074369]], dtype=float32),\n",
      "                   array([[ 0.00041474, -0.00050747, -0.00060218,  0.00067842,  0.00028924,\n",
      "        -0.00038608, -0.00050252,  0.0006221 ,  0.0007399 ,  0.00074002,\n",
      "        -0.0007426 , -0.00074304,  0.00051042, -0.00058704, -0.00065146,\n",
      "         0.00070291],\n",
      "       [-0.00049987,  0.00057822,  0.00064988, -0.00070229, -0.00037818,\n",
      "         0.00047379,  0.00057426, -0.000664  , -0.00074153, -0.0007416 ,\n",
      "         0.0007432 ,  0.00074346, -0.00058057,  0.00063894,  0.00068425,\n",
      "        -0.00071822],\n",
      "       [ 0.00044292, -0.00053178, -0.00061916,  0.00068715,  0.0003171 ,\n",
      "        -0.00041477, -0.00052712,  0.00063712,  0.0007405 ,  0.00074061,\n",
      "        -0.00074282, -0.00074319,  0.00053455, -0.00060541, -0.00066334,\n",
      "         0.00070855],\n",
      "       [-0.00053945,  0.00060855,  0.00066882, -0.00071123, -0.00042489,\n",
      "         0.00051567,  0.00060514, -0.00068038, -0.00074211, -0.00074217,\n",
      "         0.00074341,  0.00074361, -0.00061057,  0.00065979,  0.00069679,\n",
      "        -0.00072386]], dtype=float32),\n",
      "                   array([ 0.02572981,  0.01364505, -0.04929911, -0.03024729,  1.00073886,\n",
      "        0.999259  ,  0.9992575 ,  1.00074351,  0.01899836, -0.02931536,\n",
      "        0.02086253, -0.03878541, -0.02410541, -0.04688176,  0.01481812,\n",
      "        0.04438039], dtype=float32)]},\n",
      "  {'end_dense_10': [array([[ 0.03096748],\n",
      "       [ 0.03080303],\n",
      "       [-0.08391145],\n",
      "       [-0.11658041]], dtype=float32),\n",
      "                    array([ 0.00074415], dtype=float32)]}],\n",
      " [{'begin_lstm_10': [array([[ 0.00073965, -0.0007415 , -0.00074281,  0.00074359,  0.00073202,\n",
      "        -0.00073695, -0.0007404 ,  0.00074261,  0.00074411,  0.00074411,\n",
      "        -0.00074413, -0.00074414,  0.00074058, -0.00074205, -0.00074303,\n",
      "         0.00074369],\n",
      "       [ 0.00073965, -0.0007415 , -0.00074281,  0.00074359,  0.00073202,\n",
      "        -0.00073695, -0.0007404 ,  0.00074261,  0.00074411,  0.00074411,\n",
      "        -0.00074413, -0.00074414,  0.00074058, -0.00074205, -0.00074303,\n",
      "         0.00074369]], dtype=float32),\n",
      "                     array([[ 0.00041474, -0.00050747, -0.00060218,  0.00067842,  0.00028924,\n",
      "        -0.00038608, -0.00050252,  0.0006221 ,  0.0007399 ,  0.00074002,\n",
      "        -0.0007426 , -0.00074304,  0.00051042, -0.00058704, -0.00065146,\n",
      "         0.00070291],\n",
      "       [-0.00049987,  0.00057822,  0.00064988, -0.00070229, -0.00037818,\n",
      "         0.00047379,  0.00057426, -0.000664  , -0.00074153, -0.0007416 ,\n",
      "         0.0007432 ,  0.00074346, -0.00058057,  0.00063894,  0.00068425,\n",
      "        -0.00071822],\n",
      "       [ 0.00044292, -0.00053178, -0.00061916,  0.00068715,  0.0003171 ,\n",
      "        -0.00041477, -0.00052712,  0.00063712,  0.0007405 ,  0.00074061,\n",
      "        -0.00074282, -0.00074319,  0.00053455, -0.00060541, -0.00066334,\n",
      "         0.00070855],\n",
      "       [-0.00053945,  0.00060855,  0.00066882, -0.00071123, -0.00042489,\n",
      "         0.00051567,  0.00060514, -0.00068038, -0.00074211, -0.00074217,\n",
      "         0.00074341,  0.00074361, -0.00061057,  0.00065979,  0.00069679,\n",
      "        -0.00072386]], dtype=float32),\n",
      "                     array([ 0.02572981,  0.01364505, -0.04929911, -0.03024729,  1.00073886,\n",
      "        0.999259  ,  0.9992575 ,  1.00074351,  0.01899836, -0.02931536,\n",
      "        0.02086253, -0.03878541, -0.02410541, -0.04688176,  0.01481812,\n",
      "        0.04438039], dtype=float32)]},\n",
      "  {'begin_dense_10': [array([[ 0.03096748],\n",
      "       [ 0.03080303],\n",
      "       [-0.08391145],\n",
      "       [-0.11658041]], dtype=float32),\n",
      "                      array([ 0.00074415], dtype=float32)]}],\n",
      " [{'end_lstm_10': [array([[ 0.00159579, -0.00159546, -0.00159769,  0.00160238,  0.00158211,\n",
      "        -0.00158741, -0.00159373,  0.00160053,  0.00160305,  0.00160188,\n",
      "        -0.00160232, -0.00160274,  0.00159742, -0.00159657, -0.00159824,\n",
      "         0.00160253],\n",
      "       [ 0.00159579, -0.00159546, -0.00159769,  0.00160238,  0.00158211,\n",
      "        -0.00158741, -0.00159373,  0.00160053,  0.00160305,  0.00160188,\n",
      "        -0.00160232, -0.00160274,  0.00159742, -0.00159657, -0.00159824,\n",
      "         0.00160253]], dtype=float32),\n",
      "                   array([[ 0.00098154, -0.00115157, -0.00133656,  0.00148561,  0.00071234,\n",
      "        -0.00090402, -0.00114273,  0.00138139,  0.00159615,  0.00159578,\n",
      "        -0.00160066, -0.00160163,  0.00117217, -0.00130808, -0.00143071,\n",
      "         0.00152994],\n",
      "       [-0.00114358,  0.00128228,  0.00142082, -0.00152618, -0.00089297,\n",
      "         0.00107458,  0.00127549, -0.00145476, -0.00159751, -0.00159606,\n",
      "         0.00159952,  0.00160055, -0.00130039,  0.0014005 ,  0.00148668,\n",
      "        -0.00155535],\n",
      "       [ 0.00102744, -0.00118885, -0.00136041,  0.00149756,  0.00076026,\n",
      "        -0.00095112, -0.00118065,  0.00140328,  0.00159523,  0.00159366,\n",
      "        -0.00159832, -0.0015996 ,  0.00121005, -0.00133447, -0.00144591,\n",
      "         0.00153705],\n",
      "       [-0.00122666,  0.0013469 ,  0.00146129, -0.00154446, -0.00099756,\n",
      "         0.00116603,  0.00134115, -0.00148802, -0.00159984, -0.00159909,\n",
      "         0.00160165,  0.00160231, -0.00136123,  0.00144479,  0.00151399,\n",
      "        -0.00156721]], dtype=float32),\n",
      "                   array([ 0.02658819,  0.01278946, -0.05015501, -0.02938827,  1.00159431,\n",
      "        0.99840498,  0.99840224,  1.00160205,  0.01985731, -0.02845759,\n",
      "        0.02000434, -0.03964402, -0.02324701, -0.04773737,  0.01396223,\n",
      "        0.04523941], dtype=float32)]},\n",
      "  {'end_dense_10': [array([[ 0.03182695],\n",
      "       [ 0.02994583],\n",
      "       [-0.08305484],\n",
      "       [-0.11743949]], dtype=float32),\n",
      "                    array([ 0.00160258], dtype=float32)]}],\n",
      " [{'begin_lstm_10': [array([[ 0.00159579, -0.00159546, -0.00159769,  0.00160238,  0.00158211,\n",
      "        -0.00158741, -0.00159373,  0.00160053,  0.00160305,  0.00160188,\n",
      "        -0.00160232, -0.00160274,  0.00159742, -0.00159657, -0.00159824,\n",
      "         0.00160253],\n",
      "       [ 0.00159579, -0.00159546, -0.00159769,  0.00160238,  0.00158211,\n",
      "        -0.00158741, -0.00159373,  0.00160053,  0.00160305,  0.00160188,\n",
      "        -0.00160232, -0.00160274,  0.00159742, -0.00159657, -0.00159824,\n",
      "         0.00160253]], dtype=float32),\n",
      "                     array([[ 0.00098154, -0.00115157, -0.00133656,  0.00148561,  0.00071234,\n",
      "        -0.00090402, -0.00114273,  0.00138139,  0.00159615,  0.00159578,\n",
      "        -0.00160066, -0.00160163,  0.00117217, -0.00130808, -0.00143071,\n",
      "         0.00152994],\n",
      "       [-0.00114358,  0.00128228,  0.00142082, -0.00152618, -0.00089297,\n",
      "         0.00107458,  0.00127549, -0.00145476, -0.00159751, -0.00159606,\n",
      "         0.00159952,  0.00160055, -0.00130039,  0.0014005 ,  0.00148668,\n",
      "        -0.00155535],\n",
      "       [ 0.00102744, -0.00118885, -0.00136041,  0.00149756,  0.00076026,\n",
      "        -0.00095112, -0.00118065,  0.00140328,  0.00159523,  0.00159366,\n",
      "        -0.00159832, -0.0015996 ,  0.00121005, -0.00133447, -0.00144591,\n",
      "         0.00153705],\n",
      "       [-0.00122666,  0.0013469 ,  0.00146129, -0.00154446, -0.00099756,\n",
      "         0.00116603,  0.00134115, -0.00148802, -0.00159984, -0.00159909,\n",
      "         0.00160165,  0.00160231, -0.00136123,  0.00144479,  0.00151399,\n",
      "        -0.00156721]], dtype=float32),\n",
      "                     array([ 0.02658819,  0.01278946, -0.05015501, -0.02938827,  1.00159431,\n",
      "        0.99840498,  0.99840224,  1.00160205,  0.01985731, -0.02845759,\n",
      "        0.02000434, -0.03964402, -0.02324701, -0.04773737,  0.01396223,\n",
      "        0.04523941], dtype=float32)]},\n",
      "  {'begin_dense_10': [array([[ 0.03182695],\n",
      "       [ 0.02994583],\n",
      "       [-0.08305484],\n",
      "       [-0.11743949]], dtype=float32),\n",
      "                      array([ 0.00160258], dtype=float32)]}],\n",
      " [{'end_lstm_10': [array([[ 0.00250592, -0.00249591, -0.00249847,  0.00251396,  0.00248717,\n",
      "        -0.00248556, -0.00249427,  0.00251119,  0.0025142 ,  0.00250946,\n",
      "        -0.0025112 , -0.00251287,  0.00250813, -0.00249774, -0.00249961,\n",
      "         0.00251411],\n",
      "       [ 0.00250592, -0.00249591, -0.00249847,  0.00251396,  0.00248717,\n",
      "        -0.00248556, -0.00249427,  0.00251119,  0.0025142 ,  0.00250946,\n",
      "        -0.0025112 , -0.00251287,  0.00250813, -0.00249774, -0.00249961,\n",
      "         0.00251411]], dtype=float32),\n",
      "                   array([[ 0.00164074, -0.00186441, -0.00213338,  0.0023551 ,  0.00122672,\n",
      "        -0.00149471, -0.00185322,  0.00220971,  0.0025063 ,  0.00250442,\n",
      "        -0.00251171, -0.00251349,  0.00191812, -0.00209374, -0.0022691 ,\n",
      "         0.00241598],\n",
      "       [-0.00186478,  0.00203985,  0.00224068, -0.00240587, -0.00148743,\n",
      "         0.00173379,  0.00203186, -0.0023046 , -0.00250425, -0.00249798,\n",
      "         0.00250428,  0.00250717, -0.00209091,  0.00221294,  0.00233661,\n",
      "        -0.00244644],\n",
      "       [ 0.00169038, -0.00189902, -0.00215034,  0.00236424,  0.00127916,\n",
      "        -0.00154377, -0.00188899,  0.0022296 ,  0.00249988,  0.00249295,\n",
      "        -0.00250111, -0.00250451,  0.00195851, -0.00211428, -0.00227554,\n",
      "         0.00241953],\n",
      "       [-0.00199369,  0.00214504,  0.00230844, -0.00243517, -0.00165757,\n",
      "         0.00188275,  0.0021383 , -0.00235673, -0.00251079, -0.00250755,\n",
      "         0.00251193,  0.0025136 , -0.00218333,  0.00228621,  0.00238414,\n",
      "        -0.00246638]], dtype=float32),\n",
      "                   array([ 0.02750015,  0.0118871 , -0.05105741, -0.0284766 ,  1.00250375,\n",
      "        0.9975034 ,  0.99749959,  1.00251317,  0.02076849, -0.02755002,\n",
      "        0.01909547, -0.04055415, -0.02233503, -0.04863976,  0.01305984,\n",
      "        0.04615108], dtype=float32)]},\n",
      "  {'end_dense_10': [array([[ 0.03273959],\n",
      "       [ 0.02904009],\n",
      "       [-0.0821511 ],\n",
      "       [-0.11835103]], dtype=float32),\n",
      "                    array([ 0.00251221], dtype=float32)]}]]\n"
     ]
    }
   ],
   "source": [
    "pprint(history.losses)\n",
    "pprint(history.weights)"
   ]
  },
  {
   "cell_type": "code",
   "execution_count": 164,
   "metadata": {},
   "outputs": [
    {
     "name": "stdout",
     "output_type": "stream",
     "text": [
      "[0.66514713, 0.66367149, 0.66197109]\n",
      "[[{'begin_lstm_10': [array([[ 0.,  0.,  0.,  0.,  0.,  0.,  0.,  0.,  0.,  0.,  0.,  0.,  0.,\n",
      "         0.,  0.,  0.],\n",
      "       [ 0.,  0.,  0.,  0.,  0.,  0.,  0.,  0.,  0.,  0.,  0.,  0.,  0.,\n",
      "         0.,  0.,  0.]], dtype=float32),\n",
      "                     array([[ 0.,  0.,  0.,  0.,  0.,  0.,  0.,  0.,  0.,  0.,  0.,  0.,  0.,\n",
      "         0.,  0.,  0.],\n",
      "       [ 0.,  0.,  0.,  0.,  0.,  0.,  0.,  0.,  0.,  0.,  0.,  0.,  0.,\n",
      "         0.,  0.,  0.],\n",
      "       [ 0.,  0.,  0.,  0.,  0.,  0.,  0.,  0.,  0.,  0.,  0.,  0.,  0.,\n",
      "         0.,  0.,  0.],\n",
      "       [ 0.,  0.,  0.,  0.,  0.,  0.,  0.,  0.,  0.,  0.,  0.,  0.,  0.,\n",
      "         0.,  0.,  0.]], dtype=float32),\n",
      "                     array([ 0.02498725,  0.01438827, -0.04855543, -0.03099125,  1.        ,\n",
      "        1.        ,  1.        ,  1.        ,  0.01825422, -0.03005949,\n",
      "        0.02160667, -0.03804127, -0.02484801, -0.04613853,  0.01556179,\n",
      "        0.04363644], dtype=float32)]},\n",
      "  {'begin_dense_10': [array([[ 0.03022335],\n",
      "       [ 0.03154717],\n",
      "       [-0.08465558],\n",
      "       [-0.11583628]], dtype=float32),\n",
      "                      array([ 0.], dtype=float32)]}],\n",
      " [{'end_lstm_10': [array([[ 0.00073965, -0.0007415 , -0.00074281,  0.00074359,  0.00073202,\n",
      "        -0.00073695, -0.0007404 ,  0.00074261,  0.00074411,  0.00074411,\n",
      "        -0.00074413, -0.00074414,  0.00074058, -0.00074205, -0.00074303,\n",
      "         0.00074369],\n",
      "       [ 0.00073965, -0.0007415 , -0.00074281,  0.00074359,  0.00073202,\n",
      "        -0.00073695, -0.0007404 ,  0.00074261,  0.00074411,  0.00074411,\n",
      "        -0.00074413, -0.00074414,  0.00074058, -0.00074205, -0.00074303,\n",
      "         0.00074369]], dtype=float32),\n",
      "                   array([[ 0.00041474, -0.00050747, -0.00060218,  0.00067842,  0.00028924,\n",
      "        -0.00038608, -0.00050252,  0.0006221 ,  0.0007399 ,  0.00074002,\n",
      "        -0.0007426 , -0.00074304,  0.00051042, -0.00058704, -0.00065146,\n",
      "         0.00070291],\n",
      "       [-0.00049987,  0.00057822,  0.00064988, -0.00070229, -0.00037818,\n",
      "         0.00047379,  0.00057426, -0.000664  , -0.00074153, -0.0007416 ,\n",
      "         0.0007432 ,  0.00074346, -0.00058057,  0.00063894,  0.00068425,\n",
      "        -0.00071822],\n",
      "       [ 0.00044292, -0.00053178, -0.00061916,  0.00068715,  0.0003171 ,\n",
      "        -0.00041477, -0.00052712,  0.00063712,  0.0007405 ,  0.00074061,\n",
      "        -0.00074282, -0.00074319,  0.00053455, -0.00060541, -0.00066334,\n",
      "         0.00070855],\n",
      "       [-0.00053945,  0.00060855,  0.00066882, -0.00071123, -0.00042489,\n",
      "         0.00051567,  0.00060514, -0.00068038, -0.00074211, -0.00074217,\n",
      "         0.00074341,  0.00074361, -0.00061057,  0.00065979,  0.00069679,\n",
      "        -0.00072386]], dtype=float32),\n",
      "                   array([ 0.02572981,  0.01364505, -0.04929911, -0.03024729,  1.00073886,\n",
      "        0.999259  ,  0.9992575 ,  1.00074351,  0.01899836, -0.02931536,\n",
      "        0.02086253, -0.03878541, -0.02410541, -0.04688176,  0.01481812,\n",
      "        0.04438039], dtype=float32)]},\n",
      "  {'end_dense_10': [array([[ 0.03096748],\n",
      "       [ 0.03080303],\n",
      "       [-0.08391145],\n",
      "       [-0.11658041]], dtype=float32),\n",
      "                    array([ 0.00074415], dtype=float32)]}],\n",
      " [{'begin_lstm_10': [array([[ 0.00073965, -0.0007415 , -0.00074281,  0.00074359,  0.00073202,\n",
      "        -0.00073695, -0.0007404 ,  0.00074261,  0.00074411,  0.00074411,\n",
      "        -0.00074413, -0.00074414,  0.00074058, -0.00074205, -0.00074303,\n",
      "         0.00074369],\n",
      "       [ 0.00073965, -0.0007415 , -0.00074281,  0.00074359,  0.00073202,\n",
      "        -0.00073695, -0.0007404 ,  0.00074261,  0.00074411,  0.00074411,\n",
      "        -0.00074413, -0.00074414,  0.00074058, -0.00074205, -0.00074303,\n",
      "         0.00074369]], dtype=float32),\n",
      "                     array([[ 0.00041474, -0.00050747, -0.00060218,  0.00067842,  0.00028924,\n",
      "        -0.00038608, -0.00050252,  0.0006221 ,  0.0007399 ,  0.00074002,\n",
      "        -0.0007426 , -0.00074304,  0.00051042, -0.00058704, -0.00065146,\n",
      "         0.00070291],\n",
      "       [-0.00049987,  0.00057822,  0.00064988, -0.00070229, -0.00037818,\n",
      "         0.00047379,  0.00057426, -0.000664  , -0.00074153, -0.0007416 ,\n",
      "         0.0007432 ,  0.00074346, -0.00058057,  0.00063894,  0.00068425,\n",
      "        -0.00071822],\n",
      "       [ 0.00044292, -0.00053178, -0.00061916,  0.00068715,  0.0003171 ,\n",
      "        -0.00041477, -0.00052712,  0.00063712,  0.0007405 ,  0.00074061,\n",
      "        -0.00074282, -0.00074319,  0.00053455, -0.00060541, -0.00066334,\n",
      "         0.00070855],\n",
      "       [-0.00053945,  0.00060855,  0.00066882, -0.00071123, -0.00042489,\n",
      "         0.00051567,  0.00060514, -0.00068038, -0.00074211, -0.00074217,\n",
      "         0.00074341,  0.00074361, -0.00061057,  0.00065979,  0.00069679,\n",
      "        -0.00072386]], dtype=float32),\n",
      "                     array([ 0.02572981,  0.01364505, -0.04929911, -0.03024729,  1.00073886,\n",
      "        0.999259  ,  0.9992575 ,  1.00074351,  0.01899836, -0.02931536,\n",
      "        0.02086253, -0.03878541, -0.02410541, -0.04688176,  0.01481812,\n",
      "        0.04438039], dtype=float32)]},\n",
      "  {'begin_dense_10': [array([[ 0.03096748],\n",
      "       [ 0.03080303],\n",
      "       [-0.08391145],\n",
      "       [-0.11658041]], dtype=float32),\n",
      "                      array([ 0.00074415], dtype=float32)]}],\n",
      " [{'end_lstm_10': [array([[ 0.00159579, -0.00159546, -0.00159769,  0.00160238,  0.00158211,\n",
      "        -0.00158741, -0.00159373,  0.00160053,  0.00160305,  0.00160188,\n",
      "        -0.00160232, -0.00160274,  0.00159742, -0.00159657, -0.00159824,\n",
      "         0.00160253],\n",
      "       [ 0.00159579, -0.00159546, -0.00159769,  0.00160238,  0.00158211,\n",
      "        -0.00158741, -0.00159373,  0.00160053,  0.00160305,  0.00160188,\n",
      "        -0.00160232, -0.00160274,  0.00159742, -0.00159657, -0.00159824,\n",
      "         0.00160253]], dtype=float32),\n",
      "                   array([[ 0.00098154, -0.00115157, -0.00133656,  0.00148561,  0.00071234,\n",
      "        -0.00090402, -0.00114273,  0.00138139,  0.00159615,  0.00159578,\n",
      "        -0.00160066, -0.00160163,  0.00117217, -0.00130808, -0.00143071,\n",
      "         0.00152994],\n",
      "       [-0.00114358,  0.00128228,  0.00142082, -0.00152618, -0.00089297,\n",
      "         0.00107458,  0.00127549, -0.00145476, -0.00159751, -0.00159606,\n",
      "         0.00159952,  0.00160055, -0.00130039,  0.0014005 ,  0.00148668,\n",
      "        -0.00155535],\n",
      "       [ 0.00102744, -0.00118885, -0.00136041,  0.00149756,  0.00076026,\n",
      "        -0.00095112, -0.00118065,  0.00140328,  0.00159523,  0.00159366,\n",
      "        -0.00159832, -0.0015996 ,  0.00121005, -0.00133447, -0.00144591,\n",
      "         0.00153705],\n",
      "       [-0.00122666,  0.0013469 ,  0.00146129, -0.00154446, -0.00099756,\n",
      "         0.00116603,  0.00134115, -0.00148802, -0.00159984, -0.00159909,\n",
      "         0.00160165,  0.00160231, -0.00136123,  0.00144479,  0.00151399,\n",
      "        -0.00156721]], dtype=float32),\n",
      "                   array([ 0.02658819,  0.01278946, -0.05015501, -0.02938827,  1.00159431,\n",
      "        0.99840498,  0.99840224,  1.00160205,  0.01985731, -0.02845759,\n",
      "        0.02000434, -0.03964402, -0.02324701, -0.04773737,  0.01396223,\n",
      "        0.04523941], dtype=float32)]},\n",
      "  {'end_dense_10': [array([[ 0.03182695],\n",
      "       [ 0.02994583],\n",
      "       [-0.08305484],\n",
      "       [-0.11743949]], dtype=float32),\n",
      "                    array([ 0.00160258], dtype=float32)]}],\n",
      " [{'begin_lstm_10': [array([[ 0.00159579, -0.00159546, -0.00159769,  0.00160238,  0.00158211,\n",
      "        -0.00158741, -0.00159373,  0.00160053,  0.00160305,  0.00160188,\n",
      "        -0.00160232, -0.00160274,  0.00159742, -0.00159657, -0.00159824,\n",
      "         0.00160253],\n",
      "       [ 0.00159579, -0.00159546, -0.00159769,  0.00160238,  0.00158211,\n",
      "        -0.00158741, -0.00159373,  0.00160053,  0.00160305,  0.00160188,\n",
      "        -0.00160232, -0.00160274,  0.00159742, -0.00159657, -0.00159824,\n",
      "         0.00160253]], dtype=float32),\n",
      "                     array([[ 0.00098154, -0.00115157, -0.00133656,  0.00148561,  0.00071234,\n",
      "        -0.00090402, -0.00114273,  0.00138139,  0.00159615,  0.00159578,\n",
      "        -0.00160066, -0.00160163,  0.00117217, -0.00130808, -0.00143071,\n",
      "         0.00152994],\n",
      "       [-0.00114358,  0.00128228,  0.00142082, -0.00152618, -0.00089297,\n",
      "         0.00107458,  0.00127549, -0.00145476, -0.00159751, -0.00159606,\n",
      "         0.00159952,  0.00160055, -0.00130039,  0.0014005 ,  0.00148668,\n",
      "        -0.00155535],\n",
      "       [ 0.00102744, -0.00118885, -0.00136041,  0.00149756,  0.00076026,\n",
      "        -0.00095112, -0.00118065,  0.00140328,  0.00159523,  0.00159366,\n",
      "        -0.00159832, -0.0015996 ,  0.00121005, -0.00133447, -0.00144591,\n",
      "         0.00153705],\n",
      "       [-0.00122666,  0.0013469 ,  0.00146129, -0.00154446, -0.00099756,\n",
      "         0.00116603,  0.00134115, -0.00148802, -0.00159984, -0.00159909,\n",
      "         0.00160165,  0.00160231, -0.00136123,  0.00144479,  0.00151399,\n",
      "        -0.00156721]], dtype=float32),\n",
      "                     array([ 0.02658819,  0.01278946, -0.05015501, -0.02938827,  1.00159431,\n",
      "        0.99840498,  0.99840224,  1.00160205,  0.01985731, -0.02845759,\n",
      "        0.02000434, -0.03964402, -0.02324701, -0.04773737,  0.01396223,\n",
      "        0.04523941], dtype=float32)]},\n",
      "  {'begin_dense_10': [array([[ 0.03182695],\n",
      "       [ 0.02994583],\n",
      "       [-0.08305484],\n",
      "       [-0.11743949]], dtype=float32),\n",
      "                      array([ 0.00160258], dtype=float32)]}],\n",
      " [{'end_lstm_10': [array([[ 0.00250592, -0.00249591, -0.00249847,  0.00251396,  0.00248717,\n",
      "        -0.00248556, -0.00249427,  0.00251119,  0.0025142 ,  0.00250946,\n",
      "        -0.0025112 , -0.00251287,  0.00250813, -0.00249774, -0.00249961,\n",
      "         0.00251411],\n",
      "       [ 0.00250592, -0.00249591, -0.00249847,  0.00251396,  0.00248717,\n",
      "        -0.00248556, -0.00249427,  0.00251119,  0.0025142 ,  0.00250946,\n",
      "        -0.0025112 , -0.00251287,  0.00250813, -0.00249774, -0.00249961,\n",
      "         0.00251411]], dtype=float32),\n",
      "                   array([[ 0.00164074, -0.00186441, -0.00213338,  0.0023551 ,  0.00122672,\n",
      "        -0.00149471, -0.00185322,  0.00220971,  0.0025063 ,  0.00250442,\n",
      "        -0.00251171, -0.00251349,  0.00191812, -0.00209374, -0.0022691 ,\n",
      "         0.00241598],\n",
      "       [-0.00186478,  0.00203985,  0.00224068, -0.00240587, -0.00148743,\n",
      "         0.00173379,  0.00203186, -0.0023046 , -0.00250425, -0.00249798,\n",
      "         0.00250428,  0.00250717, -0.00209091,  0.00221294,  0.00233661,\n",
      "        -0.00244644],\n",
      "       [ 0.00169038, -0.00189902, -0.00215034,  0.00236424,  0.00127916,\n",
      "        -0.00154377, -0.00188899,  0.0022296 ,  0.00249988,  0.00249295,\n",
      "        -0.00250111, -0.00250451,  0.00195851, -0.00211428, -0.00227554,\n",
      "         0.00241953],\n",
      "       [-0.00199369,  0.00214504,  0.00230844, -0.00243517, -0.00165757,\n",
      "         0.00188275,  0.0021383 , -0.00235673, -0.00251079, -0.00250755,\n",
      "         0.00251193,  0.0025136 , -0.00218333,  0.00228621,  0.00238414,\n",
      "        -0.00246638]], dtype=float32),\n",
      "                   array([ 0.02750015,  0.0118871 , -0.05105741, -0.0284766 ,  1.00250375,\n",
      "        0.9975034 ,  0.99749959,  1.00251317,  0.02076849, -0.02755002,\n",
      "        0.01909547, -0.04055415, -0.02233503, -0.04863976,  0.01305984,\n",
      "        0.04615108], dtype=float32)]},\n",
      "  {'end_dense_10': [array([[ 0.03273959],\n",
      "       [ 0.02904009],\n",
      "       [-0.0821511 ],\n",
      "       [-0.11835103]], dtype=float32),\n",
      "                    array([ 0.00251221], dtype=float32)]}]]\n"
     ]
    }
   ],
   "source": [
    "pprint(history.losses)\n",
    "pprint(history.weights)"
   ]
  },
  {
   "cell_type": "code",
   "execution_count": 165,
   "metadata": {
    "run_control": {
     "marked": false
    }
   },
   "outputs": [
    {
     "data": {
      "text/plain": [
       "[<keras.layers.recurrent.LSTM at 0x7f27a1ec91d0>,\n",
       " <keras.layers.core.Dense at 0x7f27a1e0c080>]"
      ]
     },
     "execution_count": 165,
     "metadata": {},
     "output_type": "execute_result"
    }
   ],
   "source": [
    "model.layers"
   ]
  },
  {
   "cell_type": "code",
   "execution_count": 166,
   "metadata": {},
   "outputs": [
    {
     "data": {
      "text/plain": [
       "'lstm_10'"
      ]
     },
     "execution_count": 166,
     "metadata": {},
     "output_type": "execute_result"
    }
   ],
   "source": [
    "model.layers[0].name"
   ]
  },
  {
   "cell_type": "code",
   "execution_count": 167,
   "metadata": {},
   "outputs": [
    {
     "data": {
      "text/plain": [
       "{'_built': True,\n",
       " '_initial_weights': None,\n",
       " '_losses': [],\n",
       " '_non_trainable_weights': [],\n",
       " '_num_constants': None,\n",
       " '_per_input_losses': {},\n",
       " '_per_input_updates': {},\n",
       " '_states': None,\n",
       " '_trainable_weights': [],\n",
       " '_updates': [],\n",
       " 'activity_regularizer': None,\n",
       " 'batch_input_shape': (None, 2, 2),\n",
       " 'cell': <keras.layers.recurrent.LSTMCell at 0x7f27a1ec90b8>,\n",
       " 'constants_spec': None,\n",
       " 'dtype': 'float32',\n",
       " 'go_backwards': False,\n",
       " 'inbound_nodes': [<keras.engine.topology.Node at 0x7f27a0424828>],\n",
       " 'input_spec': [<keras.engine.topology.InputSpec at 0x7f27a1e0c0b8>],\n",
       " 'name': 'lstm_10',\n",
       " 'outbound_nodes': [<keras.engine.topology.Node at 0x7f27a054dcc0>],\n",
       " 'return_sequences': False,\n",
       " 'return_state': False,\n",
       " 'state_spec': [<keras.engine.topology.InputSpec at 0x7f27a1e9e470>,\n",
       "  <keras.engine.topology.InputSpec at 0x7f27a1e9e6a0>],\n",
       " 'stateful': False,\n",
       " 'supports_masking': True,\n",
       " 'trainable': True,\n",
       " 'unroll': False}"
      ]
     },
     "execution_count": 167,
     "metadata": {},
     "output_type": "execute_result"
    }
   ],
   "source": [
    "model.layers[0].__dict__"
   ]
  },
  {
   "cell_type": "code",
   "execution_count": 168,
   "metadata": {},
   "outputs": [
    {
     "data": {
      "text/plain": [
       "{'loss': [0.66514712572097778, 0.66367149353027344, 0.66197109222412109],\n",
       " 'mean_absolute_error': [0.79904967546463013,\n",
       "  0.79813146591186523,\n",
       "  0.79707211256027222]}"
      ]
     },
     "execution_count": 168,
     "metadata": {},
     "output_type": "execute_result"
    }
   ],
   "source": [
    "fitted.history"
   ]
  },
  {
   "cell_type": "code",
   "execution_count": 169,
   "metadata": {},
   "outputs": [
    {
     "data": {
      "text/plain": [
       "[[{'begin_lstm_10': [array([[ 0.,  0.,  0.,  0.,  0.,  0.,  0.,  0.,  0.,  0.,  0.,  0.,  0.,\n",
       "             0.,  0.,  0.],\n",
       "           [ 0.,  0.,  0.,  0.,  0.,  0.,  0.,  0.,  0.,  0.,  0.,  0.,  0.,\n",
       "             0.,  0.,  0.]], dtype=float32),\n",
       "    array([[ 0.,  0.,  0.,  0.,  0.,  0.,  0.,  0.,  0.,  0.,  0.,  0.,  0.,\n",
       "             0.,  0.,  0.],\n",
       "           [ 0.,  0.,  0.,  0.,  0.,  0.,  0.,  0.,  0.,  0.,  0.,  0.,  0.,\n",
       "             0.,  0.,  0.],\n",
       "           [ 0.,  0.,  0.,  0.,  0.,  0.,  0.,  0.,  0.,  0.,  0.,  0.,  0.,\n",
       "             0.,  0.,  0.],\n",
       "           [ 0.,  0.,  0.,  0.,  0.,  0.,  0.,  0.,  0.,  0.,  0.,  0.,  0.,\n",
       "             0.,  0.,  0.]], dtype=float32),\n",
       "    array([ 0.02498725,  0.01438827, -0.04855543, -0.03099125,  1.        ,\n",
       "            1.        ,  1.        ,  1.        ,  0.01825422, -0.03005949,\n",
       "            0.02160667, -0.03804127, -0.02484801, -0.04613853,  0.01556179,\n",
       "            0.04363644], dtype=float32)]},\n",
       "  {'begin_dense_10': [array([[ 0.03022335],\n",
       "           [ 0.03154717],\n",
       "           [-0.08465558],\n",
       "           [-0.11583628]], dtype=float32), array([ 0.], dtype=float32)]}],\n",
       " [{'end_lstm_10': [array([[ 0.00073965, -0.0007415 , -0.00074281,  0.00074359,  0.00073202,\n",
       "            -0.00073695, -0.0007404 ,  0.00074261,  0.00074411,  0.00074411,\n",
       "            -0.00074413, -0.00074414,  0.00074058, -0.00074205, -0.00074303,\n",
       "             0.00074369],\n",
       "           [ 0.00073965, -0.0007415 , -0.00074281,  0.00074359,  0.00073202,\n",
       "            -0.00073695, -0.0007404 ,  0.00074261,  0.00074411,  0.00074411,\n",
       "            -0.00074413, -0.00074414,  0.00074058, -0.00074205, -0.00074303,\n",
       "             0.00074369]], dtype=float32),\n",
       "    array([[ 0.00041474, -0.00050747, -0.00060218,  0.00067842,  0.00028924,\n",
       "            -0.00038608, -0.00050252,  0.0006221 ,  0.0007399 ,  0.00074002,\n",
       "            -0.0007426 , -0.00074304,  0.00051042, -0.00058704, -0.00065146,\n",
       "             0.00070291],\n",
       "           [-0.00049987,  0.00057822,  0.00064988, -0.00070229, -0.00037818,\n",
       "             0.00047379,  0.00057426, -0.000664  , -0.00074153, -0.0007416 ,\n",
       "             0.0007432 ,  0.00074346, -0.00058057,  0.00063894,  0.00068425,\n",
       "            -0.00071822],\n",
       "           [ 0.00044292, -0.00053178, -0.00061916,  0.00068715,  0.0003171 ,\n",
       "            -0.00041477, -0.00052712,  0.00063712,  0.0007405 ,  0.00074061,\n",
       "            -0.00074282, -0.00074319,  0.00053455, -0.00060541, -0.00066334,\n",
       "             0.00070855],\n",
       "           [-0.00053945,  0.00060855,  0.00066882, -0.00071123, -0.00042489,\n",
       "             0.00051567,  0.00060514, -0.00068038, -0.00074211, -0.00074217,\n",
       "             0.00074341,  0.00074361, -0.00061057,  0.00065979,  0.00069679,\n",
       "            -0.00072386]], dtype=float32),\n",
       "    array([ 0.02572981,  0.01364505, -0.04929911, -0.03024729,  1.00073886,\n",
       "            0.999259  ,  0.9992575 ,  1.00074351,  0.01899836, -0.02931536,\n",
       "            0.02086253, -0.03878541, -0.02410541, -0.04688176,  0.01481812,\n",
       "            0.04438039], dtype=float32)]},\n",
       "  {'end_dense_10': [array([[ 0.03096748],\n",
       "           [ 0.03080303],\n",
       "           [-0.08391145],\n",
       "           [-0.11658041]], dtype=float32),\n",
       "    array([ 0.00074415], dtype=float32)]}],\n",
       " [{'begin_lstm_10': [array([[ 0.00073965, -0.0007415 , -0.00074281,  0.00074359,  0.00073202,\n",
       "            -0.00073695, -0.0007404 ,  0.00074261,  0.00074411,  0.00074411,\n",
       "            -0.00074413, -0.00074414,  0.00074058, -0.00074205, -0.00074303,\n",
       "             0.00074369],\n",
       "           [ 0.00073965, -0.0007415 , -0.00074281,  0.00074359,  0.00073202,\n",
       "            -0.00073695, -0.0007404 ,  0.00074261,  0.00074411,  0.00074411,\n",
       "            -0.00074413, -0.00074414,  0.00074058, -0.00074205, -0.00074303,\n",
       "             0.00074369]], dtype=float32),\n",
       "    array([[ 0.00041474, -0.00050747, -0.00060218,  0.00067842,  0.00028924,\n",
       "            -0.00038608, -0.00050252,  0.0006221 ,  0.0007399 ,  0.00074002,\n",
       "            -0.0007426 , -0.00074304,  0.00051042, -0.00058704, -0.00065146,\n",
       "             0.00070291],\n",
       "           [-0.00049987,  0.00057822,  0.00064988, -0.00070229, -0.00037818,\n",
       "             0.00047379,  0.00057426, -0.000664  , -0.00074153, -0.0007416 ,\n",
       "             0.0007432 ,  0.00074346, -0.00058057,  0.00063894,  0.00068425,\n",
       "            -0.00071822],\n",
       "           [ 0.00044292, -0.00053178, -0.00061916,  0.00068715,  0.0003171 ,\n",
       "            -0.00041477, -0.00052712,  0.00063712,  0.0007405 ,  0.00074061,\n",
       "            -0.00074282, -0.00074319,  0.00053455, -0.00060541, -0.00066334,\n",
       "             0.00070855],\n",
       "           [-0.00053945,  0.00060855,  0.00066882, -0.00071123, -0.00042489,\n",
       "             0.00051567,  0.00060514, -0.00068038, -0.00074211, -0.00074217,\n",
       "             0.00074341,  0.00074361, -0.00061057,  0.00065979,  0.00069679,\n",
       "            -0.00072386]], dtype=float32),\n",
       "    array([ 0.02572981,  0.01364505, -0.04929911, -0.03024729,  1.00073886,\n",
       "            0.999259  ,  0.9992575 ,  1.00074351,  0.01899836, -0.02931536,\n",
       "            0.02086253, -0.03878541, -0.02410541, -0.04688176,  0.01481812,\n",
       "            0.04438039], dtype=float32)]},\n",
       "  {'begin_dense_10': [array([[ 0.03096748],\n",
       "           [ 0.03080303],\n",
       "           [-0.08391145],\n",
       "           [-0.11658041]], dtype=float32),\n",
       "    array([ 0.00074415], dtype=float32)]}],\n",
       " [{'end_lstm_10': [array([[ 0.00159579, -0.00159546, -0.00159769,  0.00160238,  0.00158211,\n",
       "            -0.00158741, -0.00159373,  0.00160053,  0.00160305,  0.00160188,\n",
       "            -0.00160232, -0.00160274,  0.00159742, -0.00159657, -0.00159824,\n",
       "             0.00160253],\n",
       "           [ 0.00159579, -0.00159546, -0.00159769,  0.00160238,  0.00158211,\n",
       "            -0.00158741, -0.00159373,  0.00160053,  0.00160305,  0.00160188,\n",
       "            -0.00160232, -0.00160274,  0.00159742, -0.00159657, -0.00159824,\n",
       "             0.00160253]], dtype=float32),\n",
       "    array([[ 0.00098154, -0.00115157, -0.00133656,  0.00148561,  0.00071234,\n",
       "            -0.00090402, -0.00114273,  0.00138139,  0.00159615,  0.00159578,\n",
       "            -0.00160066, -0.00160163,  0.00117217, -0.00130808, -0.00143071,\n",
       "             0.00152994],\n",
       "           [-0.00114358,  0.00128228,  0.00142082, -0.00152618, -0.00089297,\n",
       "             0.00107458,  0.00127549, -0.00145476, -0.00159751, -0.00159606,\n",
       "             0.00159952,  0.00160055, -0.00130039,  0.0014005 ,  0.00148668,\n",
       "            -0.00155535],\n",
       "           [ 0.00102744, -0.00118885, -0.00136041,  0.00149756,  0.00076026,\n",
       "            -0.00095112, -0.00118065,  0.00140328,  0.00159523,  0.00159366,\n",
       "            -0.00159832, -0.0015996 ,  0.00121005, -0.00133447, -0.00144591,\n",
       "             0.00153705],\n",
       "           [-0.00122666,  0.0013469 ,  0.00146129, -0.00154446, -0.00099756,\n",
       "             0.00116603,  0.00134115, -0.00148802, -0.00159984, -0.00159909,\n",
       "             0.00160165,  0.00160231, -0.00136123,  0.00144479,  0.00151399,\n",
       "            -0.00156721]], dtype=float32),\n",
       "    array([ 0.02658819,  0.01278946, -0.05015501, -0.02938827,  1.00159431,\n",
       "            0.99840498,  0.99840224,  1.00160205,  0.01985731, -0.02845759,\n",
       "            0.02000434, -0.03964402, -0.02324701, -0.04773737,  0.01396223,\n",
       "            0.04523941], dtype=float32)]},\n",
       "  {'end_dense_10': [array([[ 0.03182695],\n",
       "           [ 0.02994583],\n",
       "           [-0.08305484],\n",
       "           [-0.11743949]], dtype=float32),\n",
       "    array([ 0.00160258], dtype=float32)]}],\n",
       " [{'begin_lstm_10': [array([[ 0.00159579, -0.00159546, -0.00159769,  0.00160238,  0.00158211,\n",
       "            -0.00158741, -0.00159373,  0.00160053,  0.00160305,  0.00160188,\n",
       "            -0.00160232, -0.00160274,  0.00159742, -0.00159657, -0.00159824,\n",
       "             0.00160253],\n",
       "           [ 0.00159579, -0.00159546, -0.00159769,  0.00160238,  0.00158211,\n",
       "            -0.00158741, -0.00159373,  0.00160053,  0.00160305,  0.00160188,\n",
       "            -0.00160232, -0.00160274,  0.00159742, -0.00159657, -0.00159824,\n",
       "             0.00160253]], dtype=float32),\n",
       "    array([[ 0.00098154, -0.00115157, -0.00133656,  0.00148561,  0.00071234,\n",
       "            -0.00090402, -0.00114273,  0.00138139,  0.00159615,  0.00159578,\n",
       "            -0.00160066, -0.00160163,  0.00117217, -0.00130808, -0.00143071,\n",
       "             0.00152994],\n",
       "           [-0.00114358,  0.00128228,  0.00142082, -0.00152618, -0.00089297,\n",
       "             0.00107458,  0.00127549, -0.00145476, -0.00159751, -0.00159606,\n",
       "             0.00159952,  0.00160055, -0.00130039,  0.0014005 ,  0.00148668,\n",
       "            -0.00155535],\n",
       "           [ 0.00102744, -0.00118885, -0.00136041,  0.00149756,  0.00076026,\n",
       "            -0.00095112, -0.00118065,  0.00140328,  0.00159523,  0.00159366,\n",
       "            -0.00159832, -0.0015996 ,  0.00121005, -0.00133447, -0.00144591,\n",
       "             0.00153705],\n",
       "           [-0.00122666,  0.0013469 ,  0.00146129, -0.00154446, -0.00099756,\n",
       "             0.00116603,  0.00134115, -0.00148802, -0.00159984, -0.00159909,\n",
       "             0.00160165,  0.00160231, -0.00136123,  0.00144479,  0.00151399,\n",
       "            -0.00156721]], dtype=float32),\n",
       "    array([ 0.02658819,  0.01278946, -0.05015501, -0.02938827,  1.00159431,\n",
       "            0.99840498,  0.99840224,  1.00160205,  0.01985731, -0.02845759,\n",
       "            0.02000434, -0.03964402, -0.02324701, -0.04773737,  0.01396223,\n",
       "            0.04523941], dtype=float32)]},\n",
       "  {'begin_dense_10': [array([[ 0.03182695],\n",
       "           [ 0.02994583],\n",
       "           [-0.08305484],\n",
       "           [-0.11743949]], dtype=float32),\n",
       "    array([ 0.00160258], dtype=float32)]}],\n",
       " [{'end_lstm_10': [array([[ 0.00250592, -0.00249591, -0.00249847,  0.00251396,  0.00248717,\n",
       "            -0.00248556, -0.00249427,  0.00251119,  0.0025142 ,  0.00250946,\n",
       "            -0.0025112 , -0.00251287,  0.00250813, -0.00249774, -0.00249961,\n",
       "             0.00251411],\n",
       "           [ 0.00250592, -0.00249591, -0.00249847,  0.00251396,  0.00248717,\n",
       "            -0.00248556, -0.00249427,  0.00251119,  0.0025142 ,  0.00250946,\n",
       "            -0.0025112 , -0.00251287,  0.00250813, -0.00249774, -0.00249961,\n",
       "             0.00251411]], dtype=float32),\n",
       "    array([[ 0.00164074, -0.00186441, -0.00213338,  0.0023551 ,  0.00122672,\n",
       "            -0.00149471, -0.00185322,  0.00220971,  0.0025063 ,  0.00250442,\n",
       "            -0.00251171, -0.00251349,  0.00191812, -0.00209374, -0.0022691 ,\n",
       "             0.00241598],\n",
       "           [-0.00186478,  0.00203985,  0.00224068, -0.00240587, -0.00148743,\n",
       "             0.00173379,  0.00203186, -0.0023046 , -0.00250425, -0.00249798,\n",
       "             0.00250428,  0.00250717, -0.00209091,  0.00221294,  0.00233661,\n",
       "            -0.00244644],\n",
       "           [ 0.00169038, -0.00189902, -0.00215034,  0.00236424,  0.00127916,\n",
       "            -0.00154377, -0.00188899,  0.0022296 ,  0.00249988,  0.00249295,\n",
       "            -0.00250111, -0.00250451,  0.00195851, -0.00211428, -0.00227554,\n",
       "             0.00241953],\n",
       "           [-0.00199369,  0.00214504,  0.00230844, -0.00243517, -0.00165757,\n",
       "             0.00188275,  0.0021383 , -0.00235673, -0.00251079, -0.00250755,\n",
       "             0.00251193,  0.0025136 , -0.00218333,  0.00228621,  0.00238414,\n",
       "            -0.00246638]], dtype=float32),\n",
       "    array([ 0.02750015,  0.0118871 , -0.05105741, -0.0284766 ,  1.00250375,\n",
       "            0.9975034 ,  0.99749959,  1.00251317,  0.02076849, -0.02755002,\n",
       "            0.01909547, -0.04055415, -0.02233503, -0.04863976,  0.01305984,\n",
       "            0.04615108], dtype=float32)]},\n",
       "  {'end_dense_10': [array([[ 0.03273959],\n",
       "           [ 0.02904009],\n",
       "           [-0.0821511 ],\n",
       "           [-0.11835103]], dtype=float32),\n",
       "    array([ 0.00251221], dtype=float32)]}]]"
      ]
     },
     "execution_count": 169,
     "metadata": {},
     "output_type": "execute_result"
    }
   ],
   "source": [
    "history.weights"
   ]
  },
  {
   "cell_type": "code",
   "execution_count": 170,
   "metadata": {},
   "outputs": [
    {
     "data": {
      "text/plain": [
       "{'batch_size': 6,\n",
       " 'do_validation': False,\n",
       " 'epochs': 3,\n",
       " 'metrics': ['loss', 'mean_absolute_error'],\n",
       " 'samples': 3,\n",
       " 'steps': None,\n",
       " 'verbose': 2}"
      ]
     },
     "execution_count": 170,
     "metadata": {},
     "output_type": "execute_result"
    }
   ],
   "source": [
    "fitted.params"
   ]
  },
  {
   "cell_type": "code",
   "execution_count": 171,
   "metadata": {
    "scrolled": true
   },
   "outputs": [
    {
     "name": "stdout",
     "output_type": "stream",
     "text": [
      "_________________________________________________________________\n",
      "Layer (type)                 Output Shape              Param #   \n",
      "=================================================================\n",
      "lstm_10 (LSTM)               (None, 4)                 112       \n",
      "_________________________________________________________________\n",
      "dense_10 (Dense)             (None, 1)                 5         \n",
      "=================================================================\n",
      "Total params: 117\n",
      "Trainable params: 117\n",
      "Non-trainable params: 0\n",
      "_________________________________________________________________\n"
     ]
    }
   ],
   "source": [
    "model.summary()"
   ]
  },
  {
   "cell_type": "raw",
   "metadata": {},
   "source": [
    "# apt-get install -y graphviz libgraphviz-dev\n",
    "keras.utils.plot_model(model, to_file='model.png', show_shapes=False, show_layer_names=True, rankdir='TB')"
   ]
  },
  {
   "cell_type": "markdown",
   "metadata": {},
   "source": [
    "### Scoring"
   ]
  },
  {
   "cell_type": "code",
   "execution_count": 172,
   "metadata": {
    "scrolled": true
   },
   "outputs": [
    {
     "data": {
      "text/plain": [
       "[0.66514712572097778, 0.66367149353027344, 0.66197109222412109]"
      ]
     },
     "execution_count": 172,
     "metadata": {},
     "output_type": "execute_result"
    }
   ],
   "source": [
    "fitted.history['loss']"
   ]
  },
  {
   "cell_type": "code",
   "execution_count": 173,
   "metadata": {},
   "outputs": [
    {
     "data": {
      "text/plain": [
       "([<matplotlib.axis.XTick at 0x7f27a1f4de80>,\n",
       "  <matplotlib.axis.XTick at 0x7f27a1fccf98>,\n",
       "  <matplotlib.axis.XTick at 0x7f279f9961d0>],\n",
       " <a list of 3 Text xticklabel objects>)"
      ]
     },
     "execution_count": 173,
     "metadata": {},
     "output_type": "execute_result"
    },
    {
     "data": {
      "image/png": "[encoded data removed]",
      "text/plain": [
       "<matplotlib.figure.Figure at 0x7f279f995d68>"
      ]
     },
     "metadata": {},
     "output_type": "display_data"
    }
   ],
   "source": [
    "plt.plot(fitted.history['loss'])\n",
    "plt.xticks(np.arange(3))"
   ]
  },
  {
   "cell_type": "markdown",
   "metadata": {},
   "source": [
    "### Testing"
   ]
  },
  {
   "cell_type": "code",
   "execution_count": 174,
   "metadata": {},
   "outputs": [
    {
     "name": "stdout",
     "output_type": "stream",
     "text": [
      "X Shape: (1, 2, 2)\n"
     ]
    },
    {
     "data": {
      "text/plain": [
       "array([[[ 4.        ,  4.        ],\n",
       "        [ 4.80000019,  4.80000019]]], dtype=float32)"
      ]
     },
     "execution_count": 174,
     "metadata": {},
     "output_type": "execute_result"
    }
   ],
   "source": [
    "new_X = (np.arange(xlen * xfeature) + 10) * 2\n",
    "new_X = new_X.reshape(-1, xfeature).astype('float32')\n",
    "test_X = scalerX.transform(new_X)\n",
    "\n",
    "test_X = test_X.reshape(-1, xlen, xfeature)\n",
    "print('X Shape:', test_X.shape)\n",
    "test_X"
   ]
  },
  {
   "cell_type": "code",
   "execution_count": 175,
   "metadata": {},
   "outputs": [
    {
     "data": {
      "text/plain": [
       "array([[ 0.0321917]], dtype=float32)"
      ]
     },
     "execution_count": 175,
     "metadata": {},
     "output_type": "execute_result"
    }
   ],
   "source": [
    "pred_X = scalerY.inverse_transform(model.predict(test_X))\n",
    "pred_X"
   ]
  },
  {
   "cell_type": "markdown",
   "metadata": {},
   "source": [
    "Done."
   ]
  }
 ],
 "metadata": {
  "_draft": {
   "nbviewer_url": "https://gist.github.com/5481ffd625eda4e9d4455a8d8b181ca6"
  },
  "gist": {
   "data": {
    "description": "tensorflow/konlpy.ipynb",
    "public": false
   },
   "id": "5481ffd625eda4e9d4455a8d8b181ca6"
  },
  "kernelspec": {
   "display_name": "Tensorflow: Python3.6 (conda env)",
   "language": "python",
   "name": "tf-py36"
  },
  "language_info": {
   "codemirror_mode": {
    "name": "ipython",
    "version": 3
   },
   "file_extension": ".py",
   "mimetype": "text/x-python",
   "name": "python",
   "nbconvert_exporter": "python",
   "pygments_lexer": "ipython3",
   "version": "3.6.1"
  },
  "toc": {
   "colors": {
    "hover_highlight": "#DAA520",
    "navigate_num": "#000000",
    "navigate_text": "#333333",
    "running_highlight": "#FF0000",
    "selected_highlight": "#FFD700",
    "sidebar_border": "#EEEEEE",
    "wrapper_background": "#FFFFFF"
   },
   "moveMenuLeft": true,
   "nav_menu": {},
   "navigate_menu": true,
   "number_sections": true,
   "sideBar": true,
   "skip_h1_title": false,
   "threshold": 4,
   "toc_cell": true,
   "toc_position": {
    "height": "1176px",
    "left": "0px",
    "right": "989px",
    "top": "136px",
    "width": "259px"
   },
   "toc_section_display": "block",
   "toc_window_display": true,
   "widenNotebook": false
  },
  "varInspector": {
   "cols": {
    "lenName": "20",
    "lenType": 16,
    "lenVar": "41"
   },
   "kernels_config": {
    "python": {
     "delete_cmd_postfix": "",
     "delete_cmd_prefix": "del ",
     "library": "var_list.py",
     "varRefreshCmd": "print(var_dic_list())"
    },
    "r": {
     "delete_cmd_postfix": ") ",
     "delete_cmd_prefix": "rm(",
     "library": "var_list.r",
     "varRefreshCmd": "cat(var_dic_list()) "
    }
   },
   "types_to_exclude": [
    "module",
    "function",
    "builtin_function_or_method",
    "instance",
    "_Feature"
   ],
   "window_display": false
  }
 },
 "nbformat": 4,
 "nbformat_minor": 2
}
