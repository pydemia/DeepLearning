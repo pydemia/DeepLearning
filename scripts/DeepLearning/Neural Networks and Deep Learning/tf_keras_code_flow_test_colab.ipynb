{
  "nbformat": 4,
  "nbformat_minor": 0,
  "metadata": {
    "colab": {
      "name": "tf_keras_code_flow_test.ipynb",
      "version": "0.3.2",
      "provenance": [],
      "include_colab_link": true
    },
    "kernelspec": {
      "display_name": "Tensorflow: Python3.6 (conda env)",
      "language": "python",
      "name": "tf-py36"
    }
  },
  "cells": [
    {
      "cell_type": "markdown",
      "metadata": {
        "id": "view-in-github",
        "colab_type": "text"
      },
      "source": [
        "[View in Colaboratory](https://colab.research.google.com/github/pydemia/DeepLearning/blob/master/scripts/DeepLearning/Neural%20Networks%20and%20Deep%20Learning/tf_keras_code_flow_test_colab.ipynb)"
      ]
    },
    {
      "metadata": {
        "id": "u2IfD-Gvxvhp",
        "colab_type": "code",
        "colab": {},
        "outputId": "05a155ec-44a7-41f0-855b-7b6328c59f0d"
      },
      "cell_type": "code",
      "source": [
        "import os\n",
        "import math\n",
        "import datetime as dt\n",
        "import itertools as it\n",
        "from glob import glob\n",
        "from pprint import pprint\n",
        "\n",
        "import numpy as np\n",
        "import pandas as pd\n",
        "from sklearn.preprocessing import MinMaxScaler\n",
        "from sklearn.metrics import mean_squared_error\n",
        "from sklearn.model_selection import train_test_split\n",
        "\n",
        "import tensorflow as tf\n",
        "\n",
        "import keras\n",
        "from keras import backend as K\n",
        "from keras import (regularizers, constraints,\n",
        "                   initializers, activations)\n",
        "from keras.layers.recurrent import Recurrent\n",
        "from keras.models import Sequential, Model\n",
        "from keras.layers import (SimpleRNN, RNN, LSTM, GRU,\n",
        "                          Input, Dense, Activation, Lambda,\n",
        "                          Reshape, Flatten, Permute,\n",
        "                          Embedding, RepeatVector,\n",
        "                          TimeDistributed, Bidirectional,\n",
        "                          dot, multiply, concatenate, merge)\n",
        "from keras.engine import InputSpec\n",
        "from keras.callbacks import Callback, LambdaCallback\n",
        "from keras.preprocessing.sequence import pad_sequences\n",
        "from keras.models import load_model\n",
        "from keras.utils import multi_gpu_model\n",
        "\n",
        "import matplotlib.pyplot as plt\n",
        "%matplotlib inline"
      ],
      "execution_count": 0,
      "outputs": [
        {
          "output_type": "stream",
          "text": [
            "/home/pydemia/apps/anaconda3/envs/tf-py36/lib/python3.6/importlib/_bootstrap.py:205: RuntimeWarning: compiletime version 3.5 of module 'tensorflow.python.framework.fast_tensor_util' does not match runtime version 3.6\n",
            "  return f(*args, **kwds)\n",
            "/home/pydemia/apps/anaconda3/envs/tf-py36/lib/python3.6/site-packages/h5py/__init__.py:36: FutureWarning: Conversion of the second argument of issubdtype from `float` to `np.floating` is deprecated. In future, it will be treated as `np.float64 == np.dtype(float).type`.\n",
            "  from ._conv import register_converters as _register_converters\n",
            "Using TensorFlow backend.\n"
          ],
          "name": "stderr"
        }
      ]
    },
    {
      "metadata": {
        "id": "AbQ7AdStxvhs",
        "colab_type": "raw"
      },
      "cell_type": "markdown",
      "source": [
        "np.set_printoptions(precision=10)"
      ]
    },
    {
      "metadata": {
        "id": "TjGAWTEWxvht",
        "colab_type": "text"
      },
      "cell_type": "markdown",
      "source": [
        "# Tensorflow"
      ]
    },
    {
      "metadata": {
        "id": "uP2zagKNxvht",
        "colab_type": "code",
        "colab": {}
      },
      "cell_type": "code",
      "source": [
        ""
      ],
      "execution_count": 0,
      "outputs": []
    },
    {
      "metadata": {
        "id": "_RK1M33Sxvhw",
        "colab_type": "text"
      },
      "cell_type": "markdown",
      "source": [
        "# Keras"
      ]
    },
    {
      "metadata": {
        "id": "d_KAtKsBxvhx",
        "colab_type": "code",
        "colab": {}
      },
      "cell_type": "code",
      "source": [
        "def sigmoid(x, derivative=False):\n",
        "    return x*(1-x) if derivative else 1/(1+np.exp(-x))"
      ],
      "execution_count": 0,
      "outputs": []
    },
    {
      "metadata": {
        "id": "aGFPxMJYxvhz",
        "colab_type": "code",
        "colab": {}
      },
      "cell_type": "code",
      "source": [
        "def tanh(x):\n",
        "    return np.sinh(x)/np.cosh(x)"
      ],
      "execution_count": 0,
      "outputs": []
    },
    {
      "metadata": {
        "id": "Wjacj4Sgxvh1",
        "colab_type": "text"
      },
      "cell_type": "markdown",
      "source": [
        "---\n",
        "## RNN Code Flow"
      ]
    },
    {
      "metadata": {
        "id": "WByw9ULYxvh1",
        "colab_type": "text"
      },
      "cell_type": "markdown",
      "source": [
        "### Forward-Propagation"
      ]
    },
    {
      "metadata": {
        "id": "qWzzvi0Nxvh3",
        "colab_type": "code",
        "colab": {},
        "outputId": "2079e389-1284-41d9-e452-51dcb1526662"
      },
      "cell_type": "code",
      "source": [
        "units = 1\n",
        "input_dim = 5\n",
        "\n",
        "if input_dim == 1:\n",
        "    data_X = np.array([[.3],\n",
        "                       [.7],\n",
        "                       [.4]\n",
        "                      ]).reshape(1, 3, 1).astype('float32')\n",
        "elif input_dim == 2:\n",
        "    data_X = np.array([[.3, .8],\n",
        "                       [.7, .6],\n",
        "                       [.4, 0.]\n",
        "                      ]).reshape(1, 3, 2).astype('float32')\n",
        "\n",
        "else:\n",
        "    data_X = np.array([[.3, .8, .1, .7, .2],\n",
        "                       [.7, .6, .2, .4, .5],\n",
        "                       [.4, 0., .9, .3, .4]\n",
        "                      ]).reshape(1, 3, 5).astype('float32')\n",
        "\n",
        "print(data_X.shape)\n",
        "pprint(data_X)"
      ],
      "execution_count": 0,
      "outputs": [
        {
          "output_type": "stream",
          "text": [
            "(1, 3, 5)\n",
            "array([[[0.3, 0.8, 0.1, 0.7, 0.2],\n",
            "        [0.7, 0.6, 0.2, 0.4, 0.5],\n",
            "        [0.4, 0. , 0.9, 0.3, 0.4]]], dtype=float32)\n"
          ],
          "name": "stdout"
        }
      ]
    },
    {
      "metadata": {
        "id": "p-Y76fbTxvh5",
        "colab_type": "text"
      },
      "cell_type": "markdown",
      "source": [
        "#### `return_sequences=False`"
      ]
    },
    {
      "metadata": {
        "id": "abR1QdSVxvh6",
        "colab_type": "code",
        "colab": {},
        "outputId": "488a6eec-af5e-4e23-dfe6-e0d356cc03b5"
      },
      "cell_type": "code",
      "source": [
        "units = units\n",
        "#init_state = np.zeros((1, units), dtype=np.float32)\n",
        "#init_state = [K.zeros(init_state.shape, dtype=np.float32, name=None)]\n",
        "\n",
        "if len(data_X.shape) == 3:\n",
        "    n_sample, seq_len, input_dim = data_X.shape\n",
        "else:\n",
        "    n_sample, seq_len, input_dim, _ = data_X.shape\n",
        "\n",
        "# Define an input sequence and process it.\n",
        "_input_layer = Input(shape=(seq_len, input_dim), name='Input_layer')\n",
        "\n",
        "_rnn_layer = SimpleRNN(units, return_sequences=False,\n",
        "                       return_state=True,\n",
        "                       name='RNN_layer')\n",
        "outputs, states = _rnn_layer(_input_layer)\n",
        "\n",
        "#_output_layer = Dense(1, activation='softmax', name='Output_layer')\n",
        "#_output_layer = Activation('softmax', name='Output_layer')\n",
        "#_outputs = _output_layer(outputs)\n",
        "\n",
        "# Define the model that will turn\n",
        "# `encoder_input_data` & `decoder_input_data` into `decoder_target_data`\n",
        "model = Model(inputs=_input_layer, outputs=[outputs, states])\n",
        "model.compile(optimizer='adam', loss='categorical_crossentropy', metrics=['acc'])\n",
        "\n",
        "pprint(model.weights)\n",
        "model.summary()"
      ],
      "execution_count": 0,
      "outputs": [
        {
          "output_type": "stream",
          "text": [
            "[<tf.Variable 'RNN_layer/kernel:0' shape=(5, 1) dtype=float32_ref>,\n",
            " <tf.Variable 'RNN_layer/recurrent_kernel:0' shape=(1, 1) dtype=float32_ref>,\n",
            " <tf.Variable 'RNN_layer/bias:0' shape=(1,) dtype=float32_ref>]\n",
            "_________________________________________________________________\n",
            "Layer (type)                 Output Shape              Param #   \n",
            "=================================================================\n",
            "Input_layer (InputLayer)     (None, 3, 5)              0         \n",
            "_________________________________________________________________\n",
            "RNN_layer (SimpleRNN)        [(None, 1), (None, 1)]    7         \n",
            "=================================================================\n",
            "Total params: 7\n",
            "Trainable params: 7\n",
            "Non-trainable params: 0\n",
            "_________________________________________________________________\n"
          ],
          "name": "stdout"
        }
      ]
    },
    {
      "metadata": {
        "id": "Gtvzgj71xvh8",
        "colab_type": "code",
        "colab": {},
        "outputId": "9a42d65b-80fa-4122-fa5c-26028c09c498"
      },
      "cell_type": "code",
      "source": [
        "model.output_shape"
      ],
      "execution_count": 0,
      "outputs": [
        {
          "output_type": "execute_result",
          "data": {
            "text/plain": [
              "[(None, 1), (None, 1)]"
            ]
          },
          "metadata": {
            "tags": []
          },
          "execution_count": 6
        }
      ]
    },
    {
      "metadata": {
        "id": "-X_feQnlxvh_",
        "colab_type": "code",
        "colab": {},
        "outputId": "6ffc8a6a-3e1f-45c7-ea69-7b36ce2e1d3f"
      },
      "cell_type": "code",
      "source": [
        "model.input_shape"
      ],
      "execution_count": 0,
      "outputs": [
        {
          "output_type": "execute_result",
          "data": {
            "text/plain": [
              "(None, 3, 5)"
            ]
          },
          "metadata": {
            "tags": []
          },
          "execution_count": 7
        }
      ]
    },
    {
      "metadata": {
        "id": "Tob1Dzq2xviD",
        "colab_type": "text"
      },
      "cell_type": "markdown",
      "source": [
        "* Create Session Error Exception"
      ]
    },
    {
      "metadata": {
        "id": "oLcZgxHlxviE",
        "colab_type": "code",
        "colab": {}
      },
      "cell_type": "code",
      "source": [
        "try:\n",
        "    model.get_weights()\n",
        "except:\n",
        "    pass"
      ],
      "execution_count": 0,
      "outputs": []
    },
    {
      "metadata": {
        "id": "5NuYcSBaxviG",
        "colab_type": "code",
        "colab": {},
        "outputId": "aca4878b-4331-4b3b-edd6-b32d84c1389f"
      },
      "cell_type": "code",
      "source": [
        "kernel, recurrent_kernel, bias = _rnn_layer.get_weights()\n",
        "print(kernel, recurrent_kernel, bias, sep='\\n')\n",
        "print('Kernel_shape:', kernel.shape)\n",
        "print('Recurrent_Kernel_shape:', recurrent_kernel.shape)\n",
        "print('Bias_shape:', bias.shape)"
      ],
      "execution_count": 0,
      "outputs": [
        {
          "output_type": "stream",
          "text": [
            "[[-0.68241835]\n",
            " [-0.49033356]\n",
            " [-0.07335067]\n",
            " [-0.28062916]\n",
            " [ 0.0865953 ]]\n",
            "[[1.]]\n",
            "[0.]\n",
            "Kernel_shape: (5, 1)\n",
            "Recurrent_Kernel_shape: (1, 1)\n",
            "Bias_shape: (1,)\n"
          ],
          "name": "stdout"
        }
      ]
    },
    {
      "metadata": {
        "id": "FWYlS0zExviJ",
        "colab_type": "code",
        "colab": {},
        "outputId": "f1df283a-889a-4a7b-b98c-255b4e0cd1bf"
      },
      "cell_type": "code",
      "source": [
        "_rnn_layer.get_initial_state(data_X)"
      ],
      "execution_count": 0,
      "outputs": [
        {
          "output_type": "execute_result",
          "data": {
            "text/plain": [
              "[<tf.Tensor 'Tile:0' shape=(1, 1) dtype=float32>]"
            ]
          },
          "metadata": {
            "tags": []
          },
          "execution_count": 10
        }
      ]
    },
    {
      "metadata": {
        "id": "18mozgQDxviL",
        "colab_type": "code",
        "colab": {},
        "outputId": "77ed5c9c-49ac-4b83-8e08-a5c67655ae6e"
      },
      "cell_type": "code",
      "source": [
        "weight = ['h']\n",
        "\n",
        "my_kernel = (np.arange(input_dim * units* len(weight)) * .1 + .2).reshape(input_dim, units* len(weight))\n",
        "my_recurrent_kernel = (np.arange(units * units * len(weight)) * .01 - .05).reshape(units, units * len(weight))\n",
        "my_bias = np.zeros(units * len(weight)).reshape(units * len(weight), )\n",
        "\n",
        "print(my_kernel, my_recurrent_kernel, my_bias, sep='\\n')\n",
        "\n",
        "_rnn_layer.set_weights([my_kernel, my_recurrent_kernel, my_bias])"
      ],
      "execution_count": 0,
      "outputs": [
        {
          "output_type": "stream",
          "text": [
            "[[0.2]\n",
            " [0.3]\n",
            " [0.4]\n",
            " [0.5]\n",
            " [0.6]]\n",
            "[[-0.05]]\n",
            "[0.]\n"
          ],
          "name": "stdout"
        }
      ]
    },
    {
      "metadata": {
        "id": "tffd1C1HxviN",
        "colab_type": "code",
        "colab": {},
        "outputId": "282894b3-d3a6-4f05-e300-c4db1392de4c"
      },
      "cell_type": "code",
      "source": [
        "kernel, recurrent_kernel, bias = model.get_weights()\n",
        "print(kernel, recurrent_kernel, bias, sep='\\n')\n",
        "\n",
        "return_sequence = False\n",
        "return_state = True\n",
        "\n",
        "\n",
        "sequence = []\n",
        "for _ in range(len(data_X[0])):\n",
        "    \n",
        "    inputs = data_X[0][_]\n",
        "    inputs = inputs.astype(np.float32)\n",
        "    print('inputs')\n",
        "    print(inputs.shape)\n",
        "    pprint(inputs)\n",
        "\n",
        "    print('input ---------')\n",
        "    wi = np.dot(inputs, kernel) + bias\n",
        "    wi = wi.astype(np.float32)\n",
        "    print(wi.shape)\n",
        "    pprint(wi)\n",
        "    #print('\\nh:', h)\n",
        "\n",
        "    if _ == 0:\n",
        "        initial_state = [np.zeros(units, dtype=np.float32)]\n",
        "        states = initial_state\n",
        "    else:\n",
        "        states = [h]\n",
        "    prev_h = states[0]\n",
        "    print('prev h --------')\n",
        "    print(prev_h.shape)\n",
        "    pprint(prev_h)\n",
        "    #print('\\nprev:', prev_output)\n",
        "\n",
        "    #print('w. prev h -----')\n",
        "    wh = np.dot(prev_h, recurrent_kernel)\n",
        "    wh = wh.astype(np.float32)\n",
        "    print(wh.shape)\n",
        "    pprint(wh)\n",
        "\n",
        "    print('h --------')\n",
        "    h = tanh(wh + wi)\n",
        "    h = h.astype(np.float32)\n",
        "    print(h.shape)\n",
        "    pprint(h)\n",
        "\n",
        "    print('output ---')\n",
        "    output = h\n",
        "    output = output.astype(np.float32)\n",
        "    print(output.shape)\n",
        "    pprint(output)\n",
        "    \n",
        "    \n",
        "    print('\\nstep (%s)' % _ + '='*37)\n",
        "    print('input\\t\\t:', inputs)\n",
        "    print('prev h\\t\\t:', prev_h)\n",
        "    print('h\\t\\t:', h)\n",
        "    print('output(%s)\\t: %s' % (_, output))\n",
        "    print('='*45 + '\\n')\n",
        "    \n",
        "    sequence.append(output)\n",
        "    \n",
        "    if return_sequence:\n",
        "        result = sequence\n",
        "    else:\n",
        "        result = sequence[-1]\n",
        "    \n",
        "    if return_state:\n",
        "        state = output\n",
        "    else:\n",
        "        state = []\n",
        "        \n",
        "        \n",
        "result = np.expand_dims(np.stack(result), axis=0)\n",
        "state = np.expand_dims(np.array(state), axis=0)\n",
        "\n",
        "print('\\nResult: [Output, State]')\n",
        "print('\\n=== Numpy ===')\n",
        "print([result, state])\n",
        "print('\\n=== Keras ===')\n",
        "print(model.predict(data_X))"
      ],
      "execution_count": 0,
      "outputs": [
        {
          "output_type": "stream",
          "text": [
            "[[0.2]\n",
            " [0.3]\n",
            " [0.4]\n",
            " [0.5]\n",
            " [0.6]]\n",
            "[[-0.05]]\n",
            "[0.]\n",
            "inputs\n",
            "(5,)\n",
            "array([0.3, 0.8, 0.1, 0.7, 0.2], dtype=float32)\n",
            "input ---------\n",
            "(1,)\n",
            "array([0.81], dtype=float32)\n",
            "prev h --------\n",
            "(1,)\n",
            "array([0.], dtype=float32)\n",
            "(1,)\n",
            "array([-0.], dtype=float32)\n",
            "h --------\n",
            "(1,)\n",
            "array([0.66959035], dtype=float32)\n",
            "output ---\n",
            "(1,)\n",
            "array([0.66959035], dtype=float32)\n",
            "\n",
            "step (0)=====================================\n",
            "input\t\t: [0.3 0.8 0.1 0.7 0.2]\n",
            "prev h\t\t: [0.]\n",
            "h\t\t: [0.66959035]\n",
            "output(0)\t: [0.66959035]\n",
            "=============================================\n",
            "\n",
            "inputs\n",
            "(5,)\n",
            "array([0.7, 0.6, 0.2, 0.4, 0.5], dtype=float32)\n",
            "input ---------\n",
            "(1,)\n",
            "array([0.90000004], dtype=float32)\n",
            "prev h --------\n",
            "(1,)\n",
            "array([0.66959035], dtype=float32)\n",
            "(1,)\n",
            "array([-0.03347952], dtype=float32)\n",
            "h --------\n",
            "(1,)\n",
            "array([0.699602], dtype=float32)\n",
            "output ---\n",
            "(1,)\n",
            "array([0.699602], dtype=float32)\n",
            "\n",
            "step (1)=====================================\n",
            "input\t\t: [0.7 0.6 0.2 0.4 0.5]\n",
            "prev h\t\t: [0.66959035]\n",
            "h\t\t: [0.699602]\n",
            "output(1)\t: [0.699602]\n",
            "=============================================\n",
            "\n",
            "inputs\n",
            "(5,)\n",
            "array([0.4, 0. , 0.9, 0.3, 0.4], dtype=float32)\n",
            "input ---------\n",
            "(1,)\n",
            "array([0.83], dtype=float32)\n",
            "prev h --------\n",
            "(1,)\n",
            "array([0.699602], dtype=float32)\n",
            "(1,)\n",
            "array([-0.0349801], dtype=float32)\n",
            "h --------\n",
            "(1,)\n",
            "array([0.6612434], dtype=float32)\n",
            "output ---\n",
            "(1,)\n",
            "array([0.6612434], dtype=float32)\n",
            "\n",
            "step (2)=====================================\n",
            "input\t\t: [0.4 0.  0.9 0.3 0.4]\n",
            "prev h\t\t: [0.699602]\n",
            "h\t\t: [0.6612434]\n",
            "output(2)\t: [0.6612434]\n",
            "=============================================\n",
            "\n",
            "\n",
            "Result: [Output, State]\n",
            "\n",
            "=== Numpy ===\n",
            "[array([[0.6612434]], dtype=float32), array([[0.6612434]], dtype=float32)]\n",
            "\n",
            "=== Keras ===\n",
            "[array([[0.66124344]], dtype=float32), array([[0.66124344]], dtype=float32)]\n"
          ],
          "name": "stdout"
        }
      ]
    },
    {
      "metadata": {
        "id": "Ll_TqasTxviQ",
        "colab_type": "text"
      },
      "cell_type": "markdown",
      "source": [
        "#### `return_sequences=True`"
      ]
    },
    {
      "metadata": {
        "id": "a8ZA8oCQxviQ",
        "colab_type": "code",
        "colab": {},
        "outputId": "f7c06abb-60dc-48d6-c2d0-7d00d687c4b9"
      },
      "cell_type": "code",
      "source": [
        "units = units\n",
        "#units = 3\n",
        "n_sample, seq_len, input_dim = data_X.shape\n",
        "\n",
        "# Define an input sequence and process it.\n",
        "_input_layer = Input(shape=(seq_len, input_dim), name='Input_layer')\n",
        "\n",
        "_rnn_layer = SimpleRNN(units, return_sequences=True, return_state=True, name='RNN_layer')\n",
        "outputs, states = _rnn_layer(_input_layer)\n",
        "\n",
        "#_output_layer = Dense(1, activation='softmax', name='Output_layer')\n",
        "_output_layer = Activation('softmax', name='Output_layer')\n",
        "_outputs = _output_layer(outputs)\n",
        "\n",
        "# Define the model that will turn\n",
        "# `encoder_input_data` & `decoder_input_data` into `decoder_target_data`\n",
        "#model = Model(inputs=_input_layer, outputs=[outputs, states])\n",
        "model = Model(inputs=_input_layer, outputs=[_outputs, states])\n",
        "model.compile(optimizer='adam', loss='categorical_crossentropy', metrics=['acc'])\n",
        "\n",
        "pprint(model.weights)\n",
        "model.summary()"
      ],
      "execution_count": 0,
      "outputs": [
        {
          "output_type": "stream",
          "text": [
            "[<tf.Variable 'RNN_layer_1/kernel:0' shape=(5, 1) dtype=float32_ref>,\n",
            " <tf.Variable 'RNN_layer_1/recurrent_kernel:0' shape=(1, 1) dtype=float32_ref>,\n",
            " <tf.Variable 'RNN_layer_1/bias:0' shape=(1,) dtype=float32_ref>]\n",
            "_________________________________________________________________\n",
            "Layer (type)                 Output Shape              Param #   \n",
            "=================================================================\n",
            "Input_layer (InputLayer)     (None, 3, 5)              0         \n",
            "_________________________________________________________________\n",
            "RNN_layer (SimpleRNN)        [(None, 3, 1), (None, 1)] 7         \n",
            "_________________________________________________________________\n",
            "Output_layer (Activation)    (None, 3, 1)              0         \n",
            "=================================================================\n",
            "Total params: 7\n",
            "Trainable params: 7\n",
            "Non-trainable params: 0\n",
            "_________________________________________________________________\n"
          ],
          "name": "stdout"
        }
      ]
    },
    {
      "metadata": {
        "id": "uYUe9xpbxviU",
        "colab_type": "code",
        "colab": {},
        "outputId": "2ae774ae-5bf3-44a7-9a0d-3b15afa3c1c6"
      },
      "cell_type": "code",
      "source": [
        "model.output_shape"
      ],
      "execution_count": 0,
      "outputs": [
        {
          "output_type": "execute_result",
          "data": {
            "text/plain": [
              "[(None, 3, 1), (None, 1)]"
            ]
          },
          "metadata": {
            "tags": []
          },
          "execution_count": 14
        }
      ]
    },
    {
      "metadata": {
        "id": "8Dw1guwNxviX",
        "colab_type": "code",
        "colab": {},
        "outputId": "ad75eb5d-2c25-4c89-ce88-c6ae54de7734"
      },
      "cell_type": "code",
      "source": [
        "model.input_shape"
      ],
      "execution_count": 0,
      "outputs": [
        {
          "output_type": "execute_result",
          "data": {
            "text/plain": [
              "(None, 3, 5)"
            ]
          },
          "metadata": {
            "tags": []
          },
          "execution_count": 15
        }
      ]
    },
    {
      "metadata": {
        "id": "e_gNZkILxvia",
        "colab_type": "code",
        "colab": {},
        "outputId": "027972cc-e5ce-4195-ba45-bd23ab277cb1"
      },
      "cell_type": "code",
      "source": [
        "weight = ['h']\n",
        "\n",
        "my_kernel = (np.arange(input_dim * units* len(weight)) * .1 + .2).reshape(input_dim, units* len(weight)).astype(np.float32)\n",
        "my_recurrent_kernel = (np.arange(units * units * len(weight)) * .01 - .05).reshape(units, units * len(weight)).astype(np.float32)\n",
        "my_bias = np.zeros(units * len(weight)).reshape(units * len(weight), ).astype(np.float32)\n",
        "\n",
        "print(my_kernel, my_recurrent_kernel, my_bias, sep='\\n')\n",
        "\n",
        "_rnn_layer.set_weights([my_kernel, my_recurrent_kernel, my_bias])"
      ],
      "execution_count": 0,
      "outputs": [
        {
          "output_type": "stream",
          "text": [
            "[[0.2]\n",
            " [0.3]\n",
            " [0.4]\n",
            " [0.5]\n",
            " [0.6]]\n",
            "[[-0.05]]\n",
            "[0.]\n"
          ],
          "name": "stdout"
        }
      ]
    },
    {
      "metadata": {
        "id": "Wf4esBpmxvib",
        "colab_type": "code",
        "colab": {},
        "outputId": "4164e8e3-007a-46a7-b5c0-49136d784633"
      },
      "cell_type": "code",
      "source": [
        "kernel, recurrent_kernel, bias = model.get_weights()\n",
        "print(kernel, recurrent_kernel, bias, sep='\\n')\n",
        "\n",
        "return_sequence = True\n",
        "return_state = True\n",
        "\n",
        "\n",
        "sequence = []\n",
        "for _ in range(len(data_X[0])):\n",
        "    \n",
        "    inputs = data_X[0][_]\n",
        "    inputs = inputs.astype(np.float32)\n",
        "    print('inputs')\n",
        "    print(inputs.shape)\n",
        "    pprint(inputs)\n",
        "\n",
        "    print('input ---------')\n",
        "    wi = np.dot(inputs, kernel) + bias\n",
        "    wi = wi.astype(np.float32)\n",
        "    print(wi.shape)\n",
        "    pprint(wi)\n",
        "    #print('\\nh:', h)\n",
        "\n",
        "    if _ == 0:\n",
        "        initial_state = [np.zeros(units, dtype=np.float32)]\n",
        "        states = initial_state\n",
        "    else:\n",
        "        states = [h]\n",
        "    prev_h = states[0]\n",
        "    print('prev h --------')\n",
        "    print(prev_h.shape)\n",
        "    pprint(prev_h)\n",
        "    #print('\\nprev:', prev_output)\n",
        "\n",
        "    #print('w. prev h -----')\n",
        "    wh = np.dot(prev_h, recurrent_kernel)\n",
        "    wh = wh.astype(np.float32)\n",
        "    print(wh.shape)\n",
        "    pprint(wh)\n",
        "\n",
        "    print('h --------')\n",
        "    h = tanh(wh + wi)\n",
        "    h = h.astype(np.float32)\n",
        "    print(h.shape)\n",
        "    pprint(h)\n",
        "\n",
        "    print('output ---')\n",
        "    output = h\n",
        "    output = output.astype(np.float32)\n",
        "    print(output.shape)\n",
        "    pprint(output)\n",
        "\n",
        "    print('\\nstep (%s)' % _ + '='*37)\n",
        "    print('input\\t\\t:', inputs)\n",
        "    print('prev h\\t\\t:', prev_h)\n",
        "    print('h\\t\\t:', h)\n",
        "    print('output(%s)\\t: %s' % (_, output))\n",
        "    print('='*45 + '\\n')\n",
        "    \n",
        "    sequence.append(output)\n",
        "    \n",
        "    if return_sequence:\n",
        "        result = sequence\n",
        "    else:\n",
        "        result = sequence[-1]\n",
        "    \n",
        "    if return_state:\n",
        "        state = output\n",
        "    else:\n",
        "        state = []\n",
        "        \n",
        "        \n",
        "result = np.expand_dims(np.stack(result), axis=0)\n",
        "state = np.expand_dims(np.array(state), axis=0)\n",
        "\n",
        "print('\\nResult: [Output, State]')\n",
        "print('\\n=== Numpy ===')\n",
        "print([result, state])\n",
        "print('\\n=== Keras ===')\n",
        "print(model.predict(data_X))"
      ],
      "execution_count": 0,
      "outputs": [
        {
          "output_type": "stream",
          "text": [
            "[[0.2]\n",
            " [0.3]\n",
            " [0.4]\n",
            " [0.5]\n",
            " [0.6]]\n",
            "[[-0.05]]\n",
            "[0.]\n",
            "inputs\n",
            "(5,)\n",
            "array([0.3, 0.8, 0.1, 0.7, 0.2], dtype=float32)\n",
            "input ---------\n",
            "(1,)\n",
            "array([0.81], dtype=float32)\n",
            "prev h --------\n",
            "(1,)\n",
            "array([0.], dtype=float32)\n",
            "(1,)\n",
            "array([-0.], dtype=float32)\n",
            "h --------\n",
            "(1,)\n",
            "array([0.66959035], dtype=float32)\n",
            "output ---\n",
            "(1,)\n",
            "array([0.66959035], dtype=float32)\n",
            "\n",
            "step (0)=====================================\n",
            "input\t\t: [0.3 0.8 0.1 0.7 0.2]\n",
            "prev h\t\t: [0.]\n",
            "h\t\t: [0.66959035]\n",
            "output(0)\t: [0.66959035]\n",
            "=============================================\n",
            "\n",
            "inputs\n",
            "(5,)\n",
            "array([0.7, 0.6, 0.2, 0.4, 0.5], dtype=float32)\n",
            "input ---------\n",
            "(1,)\n",
            "array([0.90000004], dtype=float32)\n",
            "prev h --------\n",
            "(1,)\n",
            "array([0.66959035], dtype=float32)\n",
            "(1,)\n",
            "array([-0.03347952], dtype=float32)\n",
            "h --------\n",
            "(1,)\n",
            "array([0.699602], dtype=float32)\n",
            "output ---\n",
            "(1,)\n",
            "array([0.699602], dtype=float32)\n",
            "\n",
            "step (1)=====================================\n",
            "input\t\t: [0.7 0.6 0.2 0.4 0.5]\n",
            "prev h\t\t: [0.66959035]\n",
            "h\t\t: [0.699602]\n",
            "output(1)\t: [0.699602]\n",
            "=============================================\n",
            "\n",
            "inputs\n",
            "(5,)\n",
            "array([0.4, 0. , 0.9, 0.3, 0.4], dtype=float32)\n",
            "input ---------\n",
            "(1,)\n",
            "array([0.83], dtype=float32)\n",
            "prev h --------\n",
            "(1,)\n",
            "array([0.699602], dtype=float32)\n",
            "(1,)\n",
            "array([-0.0349801], dtype=float32)\n",
            "h --------\n",
            "(1,)\n",
            "array([0.6612434], dtype=float32)\n",
            "output ---\n",
            "(1,)\n",
            "array([0.6612434], dtype=float32)\n",
            "\n",
            "step (2)=====================================\n",
            "input\t\t: [0.4 0.  0.9 0.3 0.4]\n",
            "prev h\t\t: [0.699602]\n",
            "h\t\t: [0.6612434]\n",
            "output(2)\t: [0.6612434]\n",
            "=============================================\n",
            "\n",
            "\n",
            "Result: [Output, State]\n",
            "\n",
            "=== Numpy ===\n",
            "[array([[[0.66959035],\n",
            "        [0.699602  ],\n",
            "        [0.6612434 ]]], dtype=float32), array([[0.6612434]], dtype=float32)]\n",
            "\n",
            "=== Keras ===\n",
            "[array([[[1.],\n",
            "        [1.],\n",
            "        [1.]]], dtype=float32), array([[0.66124344]], dtype=float32)]\n"
          ],
          "name": "stdout"
        }
      ]
    },
    {
      "metadata": {
        "id": "lq6PuD8Hxvie",
        "colab_type": "text"
      },
      "cell_type": "markdown",
      "source": [
        "### Back-Propagation"
      ]
    },
    {
      "metadata": {
        "id": "aZtCvkRsxvif",
        "colab_type": "code",
        "colab": {}
      },
      "cell_type": "code",
      "source": [
        "from scipy.integrate import odeint\n",
        "from scipy.misc import derivative"
      ],
      "execution_count": 0,
      "outputs": []
    },
    {
      "metadata": {
        "id": "FeISl56txvih",
        "colab_type": "code",
        "colab": {},
        "outputId": "8e1bd14c-34bc-4792-e469-1a4d028c85b7"
      },
      "cell_type": "code",
      "source": [
        "x = .2\n",
        "f = lambda x: -.3*x + .1\n",
        "g = lambda x: .4*x - .4\n",
        "\n",
        "y = g(x)\n",
        "z = f(g(x))\n",
        "\n",
        "print('X: %s, Y: %s, Z: %s' % (x, y, z))"
      ],
      "execution_count": 0,
      "outputs": [
        {
          "output_type": "stream",
          "text": [
            "X: 0.2, Y: -0.32, Z: 0.196\n"
          ],
          "name": "stdout"
        }
      ]
    },
    {
      "metadata": {
        "id": "D0HXR3Tnxvik",
        "colab_type": "code",
        "colab": {},
        "outputId": "42ef319e-f7f7-44c3-d119-198b3ef39df0"
      },
      "cell_type": "code",
      "source": [
        "derivative(f, x)"
      ],
      "execution_count": 0,
      "outputs": [
        {
          "output_type": "execute_result",
          "data": {
            "text/plain": [
              "-0.3"
            ]
          },
          "metadata": {
            "tags": []
          },
          "execution_count": 20
        }
      ]
    },
    {
      "metadata": {
        "id": "oWMioggFxvin",
        "colab_type": "code",
        "colab": {},
        "outputId": "2c0fff79-ebff-4a49-cf2c-f8cf8d941272"
      },
      "cell_type": "code",
      "source": [
        "x = 5\n",
        "f = lambda x: 3*(x**2) - 1\n",
        "\n",
        "y = f(x)\n",
        "\n",
        "print('X: %s, Y: %s' % (x, y))"
      ],
      "execution_count": 0,
      "outputs": [
        {
          "output_type": "stream",
          "text": [
            "X: 5, Y: 74\n"
          ],
          "name": "stdout"
        }
      ]
    },
    {
      "metadata": {
        "id": "VtP8qXwBxviq",
        "colab_type": "code",
        "colab": {},
        "outputId": "88a408dc-025a-4389-e15e-fd614bc72f39"
      },
      "cell_type": "code",
      "source": [
        "derivative(f, x)"
      ],
      "execution_count": 0,
      "outputs": [
        {
          "output_type": "execute_result",
          "data": {
            "text/plain": [
              "30.0"
            ]
          },
          "metadata": {
            "tags": []
          },
          "execution_count": 22
        }
      ]
    },
    {
      "metadata": {
        "id": "4jgqu7Cnxvis",
        "colab_type": "code",
        "colab": {}
      },
      "cell_type": "code",
      "source": [
        "def sigmo(x):\n",
        "    return 1 / (1 + np.exp(-x))"
      ],
      "execution_count": 0,
      "outputs": []
    },
    {
      "metadata": {
        "id": "X3fH_i4Hxviu",
        "colab_type": "code",
        "colab": {}
      },
      "cell_type": "code",
      "source": [
        ""
      ],
      "execution_count": 0,
      "outputs": []
    },
    {
      "metadata": {
        "id": "RQbx8miqxviw",
        "colab_type": "code",
        "colab": {},
        "outputId": "215e4780-4ecb-4202-84c9-9ab19cbb5217"
      },
      "cell_type": "code",
      "source": [
        "odeint(f, y, .2)"
      ],
      "execution_count": 0,
      "outputs": [
        {
          "output_type": "execute_result",
          "data": {
            "text/plain": [
              "array([[74.]])"
            ]
          },
          "metadata": {
            "tags": []
          },
          "execution_count": 24
        }
      ]
    },
    {
      "metadata": {
        "id": "WGwQ1eq_xviy",
        "colab_type": "text"
      },
      "cell_type": "markdown",
      "source": [
        "---\n",
        "## LSTM Code Flow"
      ]
    },
    {
      "metadata": {
        "id": "8zTlolj6xviz",
        "colab_type": "code",
        "colab": {},
        "outputId": "d4ec45e7-f1c0-4c01-90dc-0ead5c660f22"
      },
      "cell_type": "code",
      "source": [
        "units = 1\n",
        "input_dim = 1\n",
        "\n",
        "if input_dim == 1:\n",
        "    data_X = np.array([[.2],\n",
        "                       [.5],\n",
        "                       [.4]\n",
        "                      ]).reshape(1, 3, 1).astype('float32')\n",
        "else:\n",
        "    data_X = np.array([[.2, .1],\n",
        "                       [.5, .3],\n",
        "                       [.4, 0.]\n",
        "                      ]).reshape(1, 3, 2).astype('float32')\n",
        "\n",
        "print(data_X.shape)\n",
        "pprint(data_X)"
      ],
      "execution_count": 0,
      "outputs": [
        {
          "output_type": "stream",
          "text": [
            "(1, 3, 1)\n",
            "array([[[0.2],\n",
            "        [0.5],\n",
            "        [0.4]]], dtype=float32)\n"
          ],
          "name": "stdout"
        }
      ]
    },
    {
      "metadata": {
        "id": "efEzrnlIxvi2",
        "colab_type": "text"
      },
      "cell_type": "markdown",
      "source": [
        "#### `return_sequences=False`"
      ]
    },
    {
      "metadata": {
        "id": "677lNeuQxvi3",
        "colab_type": "code",
        "colab": {},
        "outputId": "974745da-459a-4c4f-8e7f-71a2c1754b14"
      },
      "cell_type": "code",
      "source": [
        "units = units\n",
        "n_sample, seq_len, input_dim = data_X.shape\n",
        "\n",
        "# Define an input sequence and process it.\n",
        "_input_layer = Input(shape=(seq_len, input_dim), name='Input_layer')\n",
        "\n",
        "_rnn_layer = LSTM(units, return_sequences=False, return_state=True, name='RNN_layer')\n",
        "outputs, state_h, state_c = _rnn_layer(_input_layer)\n",
        "\n",
        "#_output_layer = Dense(1, activation='softmax', name='Output_layer')\n",
        "#_output_layer = Activation('softmax', name='Output_layer')\n",
        "#_outputs = _output_layer(outputs)\n",
        "\n",
        "# Define the model that will turn\n",
        "# `encoder_input_data` & `decoder_input_data` into `decoder_target_data`\n",
        "model = Model(inputs=_input_layer, outputs=[outputs, state_h, state_c])\n",
        "model.compile(optimizer='adam', loss='categorical_crossentropy', metrics=['acc'])\n",
        "\n",
        "pprint(model.weights)\n",
        "model.summary()"
      ],
      "execution_count": 0,
      "outputs": [
        {
          "output_type": "stream",
          "text": [
            "[<tf.Variable 'RNN_layer_2/kernel:0' shape=(1, 4) dtype=float32_ref>,\n",
            " <tf.Variable 'RNN_layer_2/recurrent_kernel:0' shape=(1, 4) dtype=float32_ref>,\n",
            " <tf.Variable 'RNN_layer_2/bias:0' shape=(4,) dtype=float32_ref>]\n",
            "_________________________________________________________________\n",
            "Layer (type)                 Output Shape              Param #   \n",
            "=================================================================\n",
            "Input_layer (InputLayer)     (None, 3, 1)              0         \n",
            "_________________________________________________________________\n",
            "RNN_layer (LSTM)             [(None, 1), (None, 1), (N 12        \n",
            "=================================================================\n",
            "Total params: 12\n",
            "Trainable params: 12\n",
            "Non-trainable params: 0\n",
            "_________________________________________________________________\n"
          ],
          "name": "stdout"
        }
      ]
    },
    {
      "metadata": {
        "id": "mwqmJRXWxvi4",
        "colab_type": "code",
        "colab": {},
        "outputId": "b7311f29-a12b-4a0f-9860-58a217fcc666"
      },
      "cell_type": "code",
      "source": [
        "kernel, recurrent_kernel, bias = _rnn_layer.get_weights()\n",
        "print(kernel, recurrent_kernel, bias, sep='\\n')\n",
        "print('Kernel_shape:', kernel.shape)\n",
        "print('Recurrent_Kernel_shape:', recurrent_kernel.shape)\n",
        "print('Bias_shape:', bias.shape)"
      ],
      "execution_count": 0,
      "outputs": [
        {
          "output_type": "stream",
          "text": [
            "[[ 0.00122416  0.15380776  0.8817742  -0.2496478 ]]\n",
            "[[-0.67465925 -0.6976076   0.23320703 -0.06158761]]\n",
            "[0. 1. 0. 0.]\n",
            "Kernel_shape: (1, 4)\n",
            "Recurrent_Kernel_shape: (1, 4)\n",
            "Bias_shape: (4,)\n"
          ],
          "name": "stdout"
        }
      ]
    },
    {
      "metadata": {
        "id": "y4xqSyH5xvi6",
        "colab_type": "code",
        "colab": {},
        "outputId": "57691054-7a28-4b26-d1b4-669c465b7c40"
      },
      "cell_type": "code",
      "source": [
        "weight = ['i', 'f', 'c', 'o']\n",
        "\n",
        "my_kernel = (np.arange(input_dim * units* len(weight)) * .1 + .2).reshape(input_dim, units* len(weight)).astype(np.float32)\n",
        "my_recurrent_kernel = (np.arange(units * units * len(weight)) * .01 - .05).reshape(units, units * len(weight)).astype(np.float32)\n",
        "my_bias = np.zeros(units * len(weight)).reshape(units * len(weight), ).astype(np.float32)\n",
        "\n",
        "print(my_kernel, my_recurrent_kernel, my_bias, sep='\\n')\n",
        "\n",
        "_rnn_layer.set_weights([my_kernel, my_recurrent_kernel, my_bias])"
      ],
      "execution_count": 0,
      "outputs": [
        {
          "output_type": "stream",
          "text": [
            "[[0.2 0.3 0.4 0.5]]\n",
            "[[-0.05 -0.04 -0.03 -0.02]]\n",
            "[0. 0. 0. 0.]\n"
          ],
          "name": "stdout"
        }
      ]
    },
    {
      "metadata": {
        "id": "BpvBD5Irxvi9",
        "colab_type": "code",
        "colab": {},
        "outputId": "decda6bc-4148-4390-cc62-dc7ba0f006c4"
      },
      "cell_type": "code",
      "source": [
        "kernel, recurrent_kernel, bias = model.get_weights()\n",
        "print(kernel, recurrent_kernel, bias, sep='\\n')\n",
        "\n",
        "return_sequence = False\n",
        "return_state = True\n",
        "\n",
        "\"\"\"\n",
        "activation = np.tanh\n",
        "recurrent_activation = sigmoid\n",
        "\"\"\"\n",
        "\n",
        "kernel_i = kernel[:,           :units * 1]\n",
        "kernel_f = kernel[:, units * 1: units * 2]\n",
        "kernel_c = kernel[:, units * 2: units * 3]\n",
        "kernel_o = kernel[:, units * 3:]\n",
        "\n",
        "recurrent_kernel_i = recurrent_kernel[:,          : units * 1]\n",
        "recurrent_kernel_f = recurrent_kernel[:, units * 1: units * 2]\n",
        "recurrent_kernel_c = recurrent_kernel[:, units * 2: units * 3]\n",
        "recurrent_kernel_o = recurrent_kernel[:, units * 3:]\n",
        "\n",
        "bias_i = bias[         : units * 1]\n",
        "bias_f = bias[units * 1: units * 2]\n",
        "bias_c = bias[units * 2: units * 3]\n",
        "bias_o = bias[units * 3:          ]\n",
        "\n",
        "sequence = []\n",
        "for _ in range(len(data_X[0])):\n",
        "    \n",
        "    inputs = data_X[0][_]\n",
        "    inputs = inputs.astype(np.float32)\n",
        "    print('inputs')\n",
        "    print(inputs.shape)\n",
        "    pprint(inputs)\n",
        "\n",
        "    print('x -----------')\n",
        "    print('dropout(input) time')\n",
        "    x_i = np.dot(inputs, kernel_i) + bias_i\n",
        "    x_f = np.dot(inputs, kernel_f) + bias_f\n",
        "    x_c = np.dot(inputs, kernel_c) + bias_c\n",
        "    x_o = np.dot(inputs, kernel_o) + bias_o\n",
        "\n",
        "    if _ == 0:\n",
        "        initial_state = [np.zeros(units, dtype=np.float32)] * 2\n",
        "        states = initial_state\n",
        "    else:\n",
        "        states = [h, c]\n",
        "    h_tm1 = prev_h = states[0]\n",
        "    c_tm1 = prev_c = states[1]\n",
        "    print('prev --------')\n",
        "    print(prev_h.shape, prev_c.shape)\n",
        "    pprint((prev_h, prev_c))\n",
        "    #print('\\nprev:', prev_output)\n",
        "    \n",
        "    print('gate --------')\n",
        "    print('recurrent dropout(h_tm1) time')\n",
        "    i = sigmoid(x_i + np.dot(h_tm1, recurrent_kernel_i))\n",
        "    f = sigmoid(x_f + np.dot(h_tm1, recurrent_kernel_f))\n",
        "    c = f * c_tm1 +\\\n",
        "        i * sigmoid(x_c + np.dot(h_tm1, recurrent_kernel_c))\n",
        "    o = np.tanh(x_o + np.dot(h_tm1, recurrent_kernel_o))\n",
        "    \n",
        "    h = o * np.tanh(c)\n",
        "    h = h.astype(np.float32)\n",
        "    print(h.shape)\n",
        "    pprint(h)\n",
        "    #print('\\nh:', h)\n",
        "\n",
        "    print('output ------')\n",
        "    output = h\n",
        "    output = output.astype(np.float32)\n",
        "    print(output.shape)\n",
        "    pprint(output)\n",
        "    \n",
        "    print('\\nstep (%s)' % _ + '='*37)\n",
        "    print('input\\t\\t:', inputs)\n",
        "    print('prev h, prev_c\\t:', prev_h, prev_c)\n",
        "    print('h, c\\t\\t:', h, c)\n",
        "    print('output(%s)\\t: %s' % (_, output))\n",
        "    print('='*45 + '\\n')\n",
        "\n",
        "    sequence.append(output)\n",
        "    \n",
        "    if return_sequence:\n",
        "        result = sequence\n",
        "    else:\n",
        "        result = sequence[-1]\n",
        "    \n",
        "    if return_state:\n",
        "        state = [h, c]\n",
        "    else:\n",
        "        state = []\n",
        "        \n",
        "        \n",
        "result = np.expand_dims(np.stack(result), axis=0)\n",
        "state = np.expand_dims(np.array(state), axis=0)\n",
        "\n",
        "print('\\nResult: [Output, State]')\n",
        "print('\\n=== Numpy ===')\n",
        "print([result, state])\n",
        "print('\\n=== Keras ===')\n",
        "print(model.predict(data_X))"
      ],
      "execution_count": 0,
      "outputs": [
        {
          "output_type": "stream",
          "text": [
            "[[0.2 0.3 0.4 0.5]]\n",
            "[[-0.05 -0.04 -0.03 -0.02]]\n",
            "[0. 0. 0. 0.]\n",
            "inputs\n",
            "(1,)\n",
            "array([0.2], dtype=float32)\n",
            "x -----------\n",
            "dropout(input) time\n",
            "prev --------\n",
            "(1,) (1,)\n",
            "(array([0.], dtype=float32), array([0.], dtype=float32))\n",
            "gate --------\n",
            "recurrent dropout(h_tm1) time\n",
            "(1,)\n",
            "array([0.02582867], dtype=float32)\n",
            "output ------\n",
            "(1,)\n",
            "array([0.02582867], dtype=float32)\n",
            "\n",
            "step (0)=====================================\n",
            "input\t\t: [0.2]\n",
            "prev h, prev_c\t: [0.] [0.]\n",
            "h, c\t\t: [0.02582867] [0.26519388]\n",
            "output(0)\t: [0.02582867]\n",
            "=============================================\n",
            "\n",
            "inputs\n",
            "(1,)\n",
            "array([0.5], dtype=float32)\n",
            "x -----------\n",
            "dropout(input) time\n",
            "prev --------\n",
            "(1,) (1,)\n",
            "(array([0.02582867], dtype=float32), array([0.26519388], dtype=float32))\n",
            "gate --------\n",
            "recurrent dropout(h_tm1) time\n",
            "(1,)\n",
            "array([0.09924313], dtype=float32)\n",
            "output ------\n",
            "(1,)\n",
            "array([0.09924313], dtype=float32)\n",
            "\n",
            "step (1)=====================================\n",
            "input\t\t: [0.5]\n",
            "prev h, prev_c\t: [0.02582867] [0.26519388]\n",
            "h, c\t\t: [0.09924313] [0.4308287]\n",
            "output(1)\t: [0.09924313]\n",
            "=============================================\n",
            "\n",
            "inputs\n",
            "(1,)\n",
            "array([0.4], dtype=float32)\n",
            "x -----------\n",
            "dropout(input) time\n",
            "prev --------\n",
            "(1,) (1,)\n",
            "(array([0.09924313], dtype=float32), array([0.4308287], dtype=float32))\n",
            "gate --------\n",
            "recurrent dropout(h_tm1) time\n",
            "(1,)\n",
            "array([0.09149212], dtype=float32)\n",
            "output ------\n",
            "(1,)\n",
            "array([0.09149212], dtype=float32)\n",
            "\n",
            "step (2)=====================================\n",
            "input\t\t: [0.4]\n",
            "prev h, prev_c\t: [0.09924313] [0.4308287]\n",
            "h, c\t\t: [0.09149212] [0.5075951]\n",
            "output(2)\t: [0.09149212]\n",
            "=============================================\n",
            "\n",
            "\n",
            "Result: [Output, State]\n",
            "\n",
            "=== Numpy ===\n",
            "[array([[0.09149212]], dtype=float32), array([[[0.09149212],\n",
            "        [0.5075951 ]]], dtype=float32)]\n",
            "\n",
            "=== Keras ===\n",
            "[array([[0.07799154]], dtype=float32), array([[0.07799154]], dtype=float32), array([[0.1455198]], dtype=float32)]\n"
          ],
          "name": "stdout"
        }
      ]
    },
    {
      "metadata": {
        "id": "1Hnd0znnxvi_",
        "colab_type": "text"
      },
      "cell_type": "markdown",
      "source": [
        "#### `return_sequences=True`"
      ]
    },
    {
      "metadata": {
        "id": "o5nhzrZ6xvi_",
        "colab_type": "code",
        "colab": {},
        "outputId": "4fc9d588-8d60-4148-fc70-37cf6c3ebcc6"
      },
      "cell_type": "code",
      "source": [
        "units = units\n",
        "n_sample, seq_len, input_dim = data_X.shape\n",
        "\n",
        "# Define an input sequence and process it.\n",
        "_input_layer = Input(shape=(seq_len, input_dim), name='Input_layer')\n",
        "\n",
        "_rnn_layer = LSTM(units, return_sequences=True, return_state=True, name='RNN_layer')\n",
        "outputs, state_h, state_c = _rnn_layer(_input_layer)\n",
        "\n",
        "#_output_layer = Dense(1, activation='softmax', name='Output_layer')\n",
        "#_output_layer = Activation('softmax', name='Output_layer')\n",
        "#_outputs = _output_layer(outputs)\n",
        "\n",
        "# Define the model that will turn\n",
        "# `encoder_input_data` & `decoder_input_data` into `decoder_target_data`\n",
        "model = Model(inputs=_input_layer, outputs=[outputs, state_h, state_c])\n",
        "model.compile(optimizer='adam', loss='categorical_crossentropy', metrics=['acc'])\n",
        "\n",
        "pprint(model.weights)\n",
        "model.summary()"
      ],
      "execution_count": 0,
      "outputs": [
        {
          "output_type": "stream",
          "text": [
            "[<tf.Variable 'RNN_layer_3/kernel:0' shape=(1, 4) dtype=float32_ref>,\n",
            " <tf.Variable 'RNN_layer_3/recurrent_kernel:0' shape=(1, 4) dtype=float32_ref>,\n",
            " <tf.Variable 'RNN_layer_3/bias:0' shape=(4,) dtype=float32_ref>]\n",
            "_________________________________________________________________\n",
            "Layer (type)                 Output Shape              Param #   \n",
            "=================================================================\n",
            "Input_layer (InputLayer)     (None, 3, 1)              0         \n",
            "_________________________________________________________________\n",
            "RNN_layer (LSTM)             [(None, 3, 1), (None, 1), 12        \n",
            "=================================================================\n",
            "Total params: 12\n",
            "Trainable params: 12\n",
            "Non-trainable params: 0\n",
            "_________________________________________________________________\n"
          ],
          "name": "stdout"
        }
      ]
    },
    {
      "metadata": {
        "id": "AWwjGGV3xvjC",
        "colab_type": "code",
        "colab": {},
        "outputId": "e6a34ef3-3b19-47f0-fa71-df0866c8bfbb"
      },
      "cell_type": "code",
      "source": [
        "weight = ['i', 'f', 'c', 'o']\n",
        "\n",
        "my_kernel = (np.arange(input_dim * units* len(weight)) * .1 + .2).reshape(input_dim, units* len(weight)).astype(np.float32)\n",
        "my_recurrent_kernel = (np.arange(units * units * len(weight)) * .01 - .05).reshape(units, units * len(weight)).astype(np.float32)\n",
        "my_bias = np.zeros(units * len(weight)).reshape(units * len(weight), ).astype(np.float32)\n",
        "\n",
        "print(my_kernel, my_recurrent_kernel, my_bias, sep='\\n')\n",
        "\n",
        "_rnn_layer.set_weights([my_kernel, my_recurrent_kernel, my_bias])"
      ],
      "execution_count": 0,
      "outputs": [
        {
          "output_type": "stream",
          "text": [
            "[[0.2 0.3 0.4 0.5]]\n",
            "[[-0.05 -0.04 -0.03 -0.02]]\n",
            "[0. 0. 0. 0.]\n"
          ],
          "name": "stdout"
        }
      ]
    },
    {
      "metadata": {
        "id": "M7z5GTqNxvjF",
        "colab_type": "code",
        "colab": {},
        "outputId": "82ff462a-514e-4832-baae-97922437bd04"
      },
      "cell_type": "code",
      "source": [
        "kernel, recurrent_kernel, bias = model.get_weights()\n",
        "print(kernel, recurrent_kernel, bias, sep='\\n')\n",
        "\n",
        "return_sequence = True\n",
        "return_state = True\n",
        "\n",
        "\"\"\"\n",
        "activation = np.tanh\n",
        "recurrent_activation = sigmoid\n",
        "\"\"\"\n",
        "\n",
        "kernel_i = kernel[:,           :units * 1]\n",
        "kernel_f = kernel[:, units * 1: units * 2]\n",
        "kernel_c = kernel[:, units * 2: units * 3]\n",
        "kernel_o = kernel[:, units * 3:]\n",
        "\n",
        "recurrent_kernel_i = recurrent_kernel[:,          : units * 1]\n",
        "recurrent_kernel_f = recurrent_kernel[:, units * 1: units * 2]\n",
        "recurrent_kernel_c = recurrent_kernel[:, units * 2: units * 3]\n",
        "recurrent_kernel_o = recurrent_kernel[:, units * 3:]\n",
        "\n",
        "bias_i = bias[         : units * 1]\n",
        "bias_f = bias[units * 1: units * 2]\n",
        "bias_c = bias[units * 2: units * 3]\n",
        "bias_o = bias[units * 3:          ]\n",
        "\n",
        "sequence = []\n",
        "for _ in range(len(data_X[0])):\n",
        "    \n",
        "    inputs = data_X[0][_]\n",
        "    inputs = inputs.astype(np.float32)\n",
        "    print('inputs')\n",
        "    print(inputs.shape)\n",
        "    pprint(inputs)\n",
        "\n",
        "    print('x -----------')\n",
        "    print('dropout(input) time')\n",
        "    x_i = np.dot(inputs, kernel_i) + bias_i\n",
        "    x_f = np.dot(inputs, kernel_f) + bias_f\n",
        "    x_c = np.dot(inputs, kernel_c) + bias_c\n",
        "    x_o = np.dot(inputs, kernel_o) + bias_o\n",
        "\n",
        "    if _ == 0:\n",
        "        initial_state = [np.zeros(units, dtype=np.float32)] * 2\n",
        "        states = initial_state\n",
        "    else:\n",
        "        states = [h, c]\n",
        "    h_tm1 = prev_h = states[0]\n",
        "    c_tm1 = prev_c = states[1]\n",
        "    print('prev --------')\n",
        "    print(prev_h.shape, prev_c.shape)\n",
        "    pprint((prev_h, prev_c))\n",
        "    #print('\\nprev:', prev_output)\n",
        "    \n",
        "    print('gate --------')\n",
        "    print('recurrent dropout(h_tm1) time')\n",
        "    i = sigmoid(x_i + np.dot(h_tm1, recurrent_kernel_i))\n",
        "    f = sigmoid(x_f + np.dot(h_tm1, recurrent_kernel_f))\n",
        "    c = f * c_tm1 +\\\n",
        "        i * sigmoid(x_c + np.dot(h_tm1, recurrent_kernel_c))\n",
        "    o = np.tanh(x_o + np.dot(h_tm1, recurrent_kernel_o))\n",
        "    \n",
        "    h = o * np.tanh(c)\n",
        "    h = h.astype(np.float32)\n",
        "    print(h.shape)\n",
        "    pprint(h)\n",
        "    #print('\\nh:', h)\n",
        "\n",
        "    print('output ------')\n",
        "    output = h\n",
        "    output = output.astype(np.float32)\n",
        "    print(output.shape)\n",
        "    pprint(output)\n",
        "    \n",
        "    print('\\nstep (%s)' % _ + '='*37)\n",
        "    print('input\\t\\t:', inputs)\n",
        "    print('prev h, prev_c\\t:', prev_h, prev_c)\n",
        "    print('h, c\\t\\t:', h, c)\n",
        "    print('output(%s)\\t: %s' % (_, output))\n",
        "    print('='*45 + '\\n')\n",
        "\n",
        "    sequence.append(output)\n",
        "    \n",
        "    if return_sequence:\n",
        "        result = sequence\n",
        "    else:\n",
        "        result = sequence[-1]\n",
        "    \n",
        "    if return_state:\n",
        "        state = [h, c]\n",
        "    else:\n",
        "        state = []\n",
        "        \n",
        "        \n",
        "result = np.expand_dims(np.stack(result), axis=0)\n",
        "state = np.expand_dims(np.array(state), axis=0)\n",
        "\n",
        "print('\\nResult: [Output, State]')\n",
        "print('\\n=== Numpy ===')\n",
        "print([result, state])\n",
        "print('\\n=== Keras ===')\n",
        "print(model.predict(data_X))"
      ],
      "execution_count": 0,
      "outputs": [
        {
          "output_type": "stream",
          "text": [
            "[[0.2 0.3 0.4 0.5]]\n",
            "[[-0.05 -0.04 -0.03 -0.02]]\n",
            "[0. 0. 0. 0.]\n",
            "inputs\n",
            "(1,)\n",
            "array([0.2], dtype=float32)\n",
            "x -----------\n",
            "dropout(input) time\n",
            "prev --------\n",
            "(1,) (1,)\n",
            "(array([0.], dtype=float32), array([0.], dtype=float32))\n",
            "gate --------\n",
            "recurrent dropout(h_tm1) time\n",
            "(1,)\n",
            "array([0.02582867], dtype=float32)\n",
            "output ------\n",
            "(1,)\n",
            "array([0.02582867], dtype=float32)\n",
            "\n",
            "step (0)=====================================\n",
            "input\t\t: [0.2]\n",
            "prev h, prev_c\t: [0.] [0.]\n",
            "h, c\t\t: [0.02582867] [0.26519388]\n",
            "output(0)\t: [0.02582867]\n",
            "=============================================\n",
            "\n",
            "inputs\n",
            "(1,)\n",
            "array([0.5], dtype=float32)\n",
            "x -----------\n",
            "dropout(input) time\n",
            "prev --------\n",
            "(1,) (1,)\n",
            "(array([0.02582867], dtype=float32), array([0.26519388], dtype=float32))\n",
            "gate --------\n",
            "recurrent dropout(h_tm1) time\n",
            "(1,)\n",
            "array([0.09924313], dtype=float32)\n",
            "output ------\n",
            "(1,)\n",
            "array([0.09924313], dtype=float32)\n",
            "\n",
            "step (1)=====================================\n",
            "input\t\t: [0.5]\n",
            "prev h, prev_c\t: [0.02582867] [0.26519388]\n",
            "h, c\t\t: [0.09924313] [0.4308287]\n",
            "output(1)\t: [0.09924313]\n",
            "=============================================\n",
            "\n",
            "inputs\n",
            "(1,)\n",
            "array([0.4], dtype=float32)\n",
            "x -----------\n",
            "dropout(input) time\n",
            "prev --------\n",
            "(1,) (1,)\n",
            "(array([0.09924313], dtype=float32), array([0.4308287], dtype=float32))\n",
            "gate --------\n",
            "recurrent dropout(h_tm1) time\n",
            "(1,)\n",
            "array([0.09149212], dtype=float32)\n",
            "output ------\n",
            "(1,)\n",
            "array([0.09149212], dtype=float32)\n",
            "\n",
            "step (2)=====================================\n",
            "input\t\t: [0.4]\n",
            "prev h, prev_c\t: [0.09924313] [0.4308287]\n",
            "h, c\t\t: [0.09149212] [0.5075951]\n",
            "output(2)\t: [0.09149212]\n",
            "=============================================\n",
            "\n",
            "\n",
            "Result: [Output, State]\n",
            "\n",
            "=== Numpy ===\n",
            "[array([[[0.02582867],\n",
            "        [0.09924313],\n",
            "        [0.09149212]]], dtype=float32), array([[[0.09149212],\n",
            "        [0.5075951 ]]], dtype=float32)]\n",
            "\n",
            "=== Keras ===\n",
            "[array([[[0.02107628],\n",
            "        [0.06771449],\n",
            "        [0.07799154]]], dtype=float32), array([[0.07799154]], dtype=float32), array([[0.1455198]], dtype=float32)]\n"
          ],
          "name": "stdout"
        }
      ]
    },
    {
      "metadata": {
        "id": "MbxQczxcxvjI",
        "colab_type": "text"
      },
      "cell_type": "markdown",
      "source": [
        "---\n",
        "## GRU Code Flow"
      ]
    },
    {
      "metadata": {
        "id": "0dm4DayDxvjI",
        "colab_type": "code",
        "colab": {},
        "outputId": "1012caec-b72f-4e57-e050-f0a902f5a9e9"
      },
      "cell_type": "code",
      "source": [
        "units = 2\n",
        "input_dim = 2\n",
        "\n",
        "if input_dim == 1:\n",
        "    data_X = np.array([[.2],\n",
        "                       [.5],\n",
        "                       [.4]\n",
        "                      ]).reshape(1, 3, 1).astype('float32')\n",
        "else:\n",
        "    data_X = np.array([[.2, .1],\n",
        "                       [.5, .3],\n",
        "                       [.4, 0.]\n",
        "                      ]).reshape(1, 3, 2).astype('float32')\n",
        "\n",
        "print(data_X.shape)\n",
        "pprint(data_X)"
      ],
      "execution_count": 0,
      "outputs": [
        {
          "output_type": "stream",
          "text": [
            "(1, 3, 2)\n",
            "array([[[0.2, 0.1],\n",
            "        [0.5, 0.3],\n",
            "        [0.4, 0. ]]], dtype=float32)\n"
          ],
          "name": "stdout"
        }
      ]
    },
    {
      "metadata": {
        "id": "mg2mvC2AxvjN",
        "colab_type": "text"
      },
      "cell_type": "markdown",
      "source": [
        "#### `return_sequences=False`"
      ]
    },
    {
      "metadata": {
        "id": "96y8o_01xvjP",
        "colab_type": "code",
        "colab": {},
        "outputId": "7d12e12d-d7b9-49c1-8afd-943596047aae"
      },
      "cell_type": "code",
      "source": [
        "units = units\n",
        "n_sample, seq_len, input_dim = data_X.shape\n",
        "\n",
        "# Define an input sequence and process it.\n",
        "_input_layer = Input(shape=(seq_len, input_dim), name='Input_layer')\n",
        "\n",
        "_rnn_layer = GRU(units, return_sequences=False, return_state=True, name='RNN_layer')\n",
        "outputs, states = _rnn_layer(_input_layer)\n",
        "\n",
        "#_output_layer = Dense(1, activation='softmax', name='Output_layer')\n",
        "#_output_layer = Activation('softmax', name='Output_layer')\n",
        "#_outputs = _output_layer(outputs)\n",
        "\n",
        "# Define the model that will turn\n",
        "# `encoder_input_data` & `decoder_input_data` into `decoder_target_data`\n",
        "model = Model(inputs=_input_layer, outputs=[outputs, states])\n",
        "model.compile(optimizer='adam', loss='categorical_crossentropy', metrics=['acc'])\n",
        "\n",
        "pprint(model.weights)\n",
        "model.summary()"
      ],
      "execution_count": 0,
      "outputs": [
        {
          "output_type": "stream",
          "text": [
            "[<tf.Variable 'RNN_layer_4/kernel:0' shape=(2, 6) dtype=float32_ref>,\n",
            " <tf.Variable 'RNN_layer_4/recurrent_kernel:0' shape=(2, 6) dtype=float32_ref>,\n",
            " <tf.Variable 'RNN_layer_4/bias:0' shape=(6,) dtype=float32_ref>]\n",
            "_________________________________________________________________\n",
            "Layer (type)                 Output Shape              Param #   \n",
            "=================================================================\n",
            "Input_layer (InputLayer)     (None, 3, 2)              0         \n",
            "_________________________________________________________________\n",
            "RNN_layer (GRU)              [(None, 2), (None, 2)]    30        \n",
            "=================================================================\n",
            "Total params: 30\n",
            "Trainable params: 30\n",
            "Non-trainable params: 0\n",
            "_________________________________________________________________\n"
          ],
          "name": "stdout"
        }
      ]
    },
    {
      "metadata": {
        "id": "bSwcUnTZxvjR",
        "colab_type": "code",
        "colab": {},
        "outputId": "5200940c-3fb5-41d1-93b1-71574cd94ec1"
      },
      "cell_type": "code",
      "source": [
        "kernel, recurrent_kernel, bias = _rnn_layer.get_weights()\n",
        "print(kernel, recurrent_kernel, bias, sep='\\n')\n",
        "print('Kernel_shape:', kernel.shape)\n",
        "print('Recurrent_Kernel_shape:', recurrent_kernel.shape)\n",
        "print('Bias_shape:', bias.shape)"
      ],
      "execution_count": 0,
      "outputs": [
        {
          "output_type": "stream",
          "text": [
            "[[-0.7015311   0.08663237  0.01490903 -0.5300734   0.16394049 -0.7903858 ]\n",
            " [ 0.45310313 -0.06462902  0.7931908   0.18173534 -0.04084522 -0.55416363]]\n",
            "[[-0.5284298  -0.01888672  0.67646074 -0.2728485   0.05823601  0.43007952]\n",
            " [-0.22994931  0.15907124 -0.06359684 -0.27196684 -0.8899605  -0.22755088]]\n",
            "[0. 0. 0. 0. 0. 0.]\n",
            "Kernel_shape: (2, 6)\n",
            "Recurrent_Kernel_shape: (2, 6)\n",
            "Bias_shape: (6,)\n"
          ],
          "name": "stdout"
        }
      ]
    },
    {
      "metadata": {
        "id": "46EwZ-vXxvjT",
        "colab_type": "code",
        "colab": {},
        "outputId": "de2c470b-2a15-4c83-8cc6-5a0362b6ff8e"
      },
      "cell_type": "code",
      "source": [
        "weight = ['z', 'r', 'h']\n",
        "\n",
        "my_kernel = (np.arange(input_dim * units* len(weight)) * .1 + .2).reshape(input_dim, units* len(weight)).astype(np.float32)\n",
        "my_recurrent_kernel = (np.arange(units * units * len(weight)) * .01 - .05).reshape(units, units * len(weight)).astype(np.float32)\n",
        "my_bias = np.zeros(units * len(weight)).reshape(units * len(weight), ).astype(np.float32)\n",
        "\n",
        "print(my_kernel, my_recurrent_kernel, my_bias, sep='\\n')\n",
        "\n",
        "_rnn_layer.set_weights([my_kernel, my_recurrent_kernel, my_bias])"
      ],
      "execution_count": 0,
      "outputs": [
        {
          "output_type": "stream",
          "text": [
            "[[0.2 0.3 0.4 0.5 0.6 0.7]\n",
            " [0.8 0.9 1.  1.1 1.2 1.3]]\n",
            "[[-0.05 -0.04 -0.03 -0.02 -0.01  0.  ]\n",
            " [ 0.01  0.02  0.03  0.04  0.05  0.06]]\n",
            "[0. 0. 0. 0. 0. 0.]\n"
          ],
          "name": "stdout"
        }
      ]
    },
    {
      "metadata": {
        "id": "Z9eKSgsixvjU",
        "colab_type": "code",
        "colab": {},
        "outputId": "e633bb5d-7e6c-4f93-c217-a5e75315b6d1"
      },
      "cell_type": "code",
      "source": [
        "kernel, recurrent_kernel, bias = model.get_weights()\n",
        "print(kernel, recurrent_kernel, bias, sep='\\n')\n",
        "\n",
        "return_sequence = False\n",
        "return_state = True\n",
        "\n",
        "\"\"\"\n",
        "activation = np.tanh\n",
        "recurrent_activation = sigmoid\n",
        "\"\"\"\n",
        "\n",
        "kernel_z = kernel[:,          : units * 1]\n",
        "kernel_r = kernel[:, units * 1: units * 2]\n",
        "kernel_h = kernel[:, units * 2:]\n",
        "\n",
        "recurrent_kernel_z = recurrent_kernel[:,          : units * 1]\n",
        "recurrent_kernel_r = recurrent_kernel[:, units * 1: units * 2]\n",
        "recurrent_kernel_h = recurrent_kernel[:, units * 2:]\n",
        "\n",
        "bias_z = bias[         : units * 1]\n",
        "bias_r = bias[units    : units * 2]\n",
        "bias_h = bias[units * 2:]\n",
        "\n",
        "sequence = []\n",
        "for _ in range(len(data_X[0])):\n",
        "    \n",
        "    inputs = data_X[0][_]\n",
        "    inputs = inputs.astype(np.float32)\n",
        "    print('inputs')\n",
        "    print(inputs.shape)\n",
        "    pprint(inputs)\n",
        "\n",
        "    print('x -----------')\n",
        "    print('dropout(input) time')\n",
        "    x_z = np.dot(inputs, kernel_z) + bias_z\n",
        "    x_r = np.dot(inputs, kernel_r) + bias_r\n",
        "    x_h = np.dot(inputs, kernel_h) + bias_h\n",
        "\n",
        "    if _ == 0:\n",
        "        initial_state = [np.zeros(units, dtype=np.float32)]\n",
        "        states = initial_state\n",
        "    else:\n",
        "        states = [h]\n",
        "    h_tm1 = prev_h = states[0]\n",
        "    print('prev --------')\n",
        "    print(prev_h.shape)\n",
        "    pprint(prev_h)\n",
        "    #print('\\nprev:', prev_output)\n",
        "    \n",
        "    print('gate --------')\n",
        "    print('recurrent dropout(h_tm1) time')\n",
        "    z = sigmoid(x_z + np.dot(h_tm1, recurrent_kernel_z))\n",
        "    r = sigmoid(x_r + np.dot(h_tm1, recurrent_kernel_r))\n",
        "    hh = np.tanh(x_h + np.dot(h_tm1, recurrent_kernel_h))\n",
        "    \n",
        "    h = z * h_tm1 + (1 - z) * hh\n",
        "    h = h.astype(np.float32)\n",
        "    print(h.shape)\n",
        "    pprint(h)\n",
        "    #print('\\nh:', h)\n",
        "\n",
        "    print('output ------')\n",
        "    output = h\n",
        "    output = output.astype(np.float32)\n",
        "    print(output.shape)\n",
        "    pprint(output)\n",
        "    \n",
        "    print('\\nstep (%s)' % _ + '='*37)\n",
        "    print('input\\t\\t:', inputs)\n",
        "    print('prev h\\t\\t:', prev_h)\n",
        "    print('h\\t\\t:', h)\n",
        "    print('output(%s)\\t: %s' % (_, output))\n",
        "    print('='*45 + '\\n')\n",
        "    \n",
        "    sequence.append(output)\n",
        "    \n",
        "    if return_sequence:\n",
        "        result = sequence\n",
        "    else:\n",
        "        result = sequence[-1]\n",
        "    \n",
        "    if return_state:\n",
        "        state = output\n",
        "    else:\n",
        "        state = []\n",
        "        \n",
        "        \n",
        "result = np.expand_dims(np.stack(result), axis=0)\n",
        "state = np.expand_dims(np.array(state), axis=0)\n",
        "\n",
        "print('\\nResult: [Output, State]')\n",
        "print('\\n=== Numpy ===')\n",
        "print([result, state])\n",
        "print('\\n=== Keras ===')\n",
        "print(model.predict(data_X))"
      ],
      "execution_count": 0,
      "outputs": [
        {
          "output_type": "stream",
          "text": [
            "[[0.2 0.3 0.4 0.5 0.6 0.7]\n",
            " [0.8 0.9 1.  1.1 1.2 1.3]]\n",
            "[[-0.05 -0.04 -0.03 -0.02 -0.01  0.  ]\n",
            " [ 0.01  0.02  0.03  0.04  0.05  0.06]]\n",
            "[0. 0. 0. 0. 0. 0.]\n",
            "inputs\n",
            "(2,)\n",
            "array([0.2, 0.1], dtype=float32)\n",
            "x -----------\n",
            "dropout(input) time\n",
            "prev --------\n",
            "(2,)\n",
            "array([0., 0.], dtype=float32)\n",
            "gate --------\n",
            "recurrent dropout(h_tm1) time\n",
            "(2,)\n",
            "array([0.11069148, 0.12194498], dtype=float32)\n",
            "output ------\n",
            "(2,)\n",
            "array([0.11069148, 0.12194498], dtype=float32)\n",
            "\n",
            "step (0)=====================================\n",
            "input\t\t: [0.2 0.1]\n",
            "prev h\t\t: [0. 0.]\n",
            "h\t\t: [0.11069148 0.12194498]\n",
            "output(0)\t: [0.11069148 0.12194498]\n",
            "=============================================\n",
            "\n",
            "inputs\n",
            "(2,)\n",
            "array([0.5, 0.3], dtype=float32)\n",
            "x -----------\n",
            "dropout(input) time\n",
            "prev --------\n",
            "(2,)\n",
            "array([0.11069148, 0.12194498], dtype=float32)\n",
            "gate --------\n",
            "recurrent dropout(h_tm1) time\n",
            "(2,)\n",
            "array([0.3070247 , 0.32504663], dtype=float32)\n",
            "output ------\n",
            "(2,)\n",
            "array([0.3070247 , 0.32504663], dtype=float32)\n",
            "\n",
            "step (1)=====================================\n",
            "input\t\t: [0.5 0.3]\n",
            "prev h\t\t: [0.11069148 0.12194498]\n",
            "h\t\t: [0.3070247  0.32504663]\n",
            "output(1)\t: [0.3070247  0.32504663]\n",
            "=============================================\n",
            "\n",
            "inputs\n",
            "(2,)\n",
            "array([0.4, 0. ], dtype=float32)\n",
            "x -----------\n",
            "dropout(input) time\n",
            "prev --------\n",
            "(2,)\n",
            "array([0.3070247 , 0.32504663], dtype=float32)\n",
            "gate --------\n",
            "recurrent dropout(h_tm1) time\n",
            "(2,)\n",
            "array([0.2784692, 0.3089273], dtype=float32)\n",
            "output ------\n",
            "(2,)\n",
            "array([0.2784692, 0.3089273], dtype=float32)\n",
            "\n",
            "step (2)=====================================\n",
            "input\t\t: [0.4 0. ]\n",
            "prev h\t\t: [0.3070247  0.32504663]\n",
            "h\t\t: [0.2784692 0.3089273]\n",
            "output(2)\t: [0.2784692 0.3089273]\n",
            "=============================================\n",
            "\n",
            "\n",
            "Result: [Output, State]\n",
            "\n",
            "=== Numpy ===\n",
            "[array([[0.2784692, 0.3089273]], dtype=float32), array([[0.2784692, 0.3089273]], dtype=float32)]\n",
            "\n",
            "=== Keras ===\n",
            "[array([[0.27963528, 0.31039596]], dtype=float32), array([[0.27963528, 0.31039596]], dtype=float32)]\n"
          ],
          "name": "stdout"
        }
      ]
    },
    {
      "metadata": {
        "id": "yxH7KRwGxvjX",
        "colab_type": "text"
      },
      "cell_type": "markdown",
      "source": [
        "#### `return_sequences=True`"
      ]
    },
    {
      "metadata": {
        "id": "iL-q0wk2xvjX",
        "colab_type": "code",
        "colab": {},
        "outputId": "89a2b43f-3cb9-4d3a-83fd-52eae1f5010b"
      },
      "cell_type": "code",
      "source": [
        "units = units\n",
        "n_sample, seq_len, input_dim = data_X.shape\n",
        "\n",
        "# Define an input sequence and process it.\n",
        "_input_layer = Input(shape=(seq_len, input_dim), name='Input_layer')\n",
        "\n",
        "_rnn_layer = GRU(units, return_sequences=True, return_state=True, name='RNN_layer')\n",
        "outputs, states = _rnn_layer(_input_layer)\n",
        "\n",
        "#_output_layer = Dense(1, activation='softmax', name='Output_layer')\n",
        "#_output_layer = Activation('softmax', name='Output_layer')\n",
        "#_outputs = _output_layer(outputs)\n",
        "\n",
        "# Define the model that will turn\n",
        "# `encoder_input_data` & `decoder_input_data` into `decoder_target_data`\n",
        "model = Model(inputs=_input_layer, outputs=[outputs, states])\n",
        "model.compile(optimizer='adam', loss='categorical_crossentropy', metrics=['acc'])\n",
        "\n",
        "pprint(model.weights)\n",
        "model.summary()"
      ],
      "execution_count": 0,
      "outputs": [
        {
          "output_type": "stream",
          "text": [
            "[<tf.Variable 'RNN_layer_5/kernel:0' shape=(2, 6) dtype=float32_ref>,\n",
            " <tf.Variable 'RNN_layer_5/recurrent_kernel:0' shape=(2, 6) dtype=float32_ref>,\n",
            " <tf.Variable 'RNN_layer_5/bias:0' shape=(6,) dtype=float32_ref>]\n",
            "_________________________________________________________________\n",
            "Layer (type)                 Output Shape              Param #   \n",
            "=================================================================\n",
            "Input_layer (InputLayer)     (None, 3, 2)              0         \n",
            "_________________________________________________________________\n",
            "RNN_layer (GRU)              [(None, 3, 2), (None, 2)] 30        \n",
            "=================================================================\n",
            "Total params: 30\n",
            "Trainable params: 30\n",
            "Non-trainable params: 0\n",
            "_________________________________________________________________\n"
          ],
          "name": "stdout"
        }
      ]
    },
    {
      "metadata": {
        "id": "phKyHW2axvja",
        "colab_type": "code",
        "colab": {},
        "outputId": "3f203563-eb5c-43de-ed79-5382f76ee139"
      },
      "cell_type": "code",
      "source": [
        "weight = ['z', 'r', 'h']\n",
        "\n",
        "my_kernel = (np.arange(input_dim * units* len(weight)) * .1 + .2).reshape(input_dim, units* len(weight)).astype(np.float32)\n",
        "my_recurrent_kernel = (np.arange(units * units * len(weight)) * .01 - .05).reshape(units, units * len(weight)).astype(np.float32)\n",
        "my_bias = np.zeros(units * len(weight)).reshape(units * len(weight), ).astype(np.float32)\n",
        "\n",
        "print(my_kernel, my_recurrent_kernel, my_bias, sep='\\n')\n",
        "\n",
        "_rnn_layer.set_weights([my_kernel, my_recurrent_kernel, my_bias])"
      ],
      "execution_count": 0,
      "outputs": [
        {
          "output_type": "stream",
          "text": [
            "[[0.2 0.3 0.4 0.5 0.6 0.7]\n",
            " [0.8 0.9 1.  1.1 1.2 1.3]]\n",
            "[[-0.05 -0.04 -0.03 -0.02 -0.01  0.  ]\n",
            " [ 0.01  0.02  0.03  0.04  0.05  0.06]]\n",
            "[0. 0. 0. 0. 0. 0.]\n"
          ],
          "name": "stdout"
        }
      ]
    },
    {
      "metadata": {
        "id": "R4GyrPeQxvjc",
        "colab_type": "code",
        "colab": {},
        "outputId": "52120251-01ff-4e7a-8f67-a3b80f00888a"
      },
      "cell_type": "code",
      "source": [
        "kernel, recurrent_kernel, bias = model.get_weights()\n",
        "print(kernel, recurrent_kernel, bias, sep='\\n')\n",
        "\n",
        "return_sequence = True\n",
        "return_state = True\n",
        "\n",
        "\"\"\"\n",
        "activation = np.tanh\n",
        "recurrent_activation = sigmoid\n",
        "\"\"\"\n",
        "\n",
        "kernel_z = kernel[:,          : units * 1]\n",
        "kernel_r = kernel[:, units * 1: units * 2]\n",
        "kernel_h = kernel[:, units * 2:]\n",
        "\n",
        "recurrent_kernel_z = recurrent_kernel[:,          : units * 1]\n",
        "recurrent_kernel_r = recurrent_kernel[:, units * 1: units * 2]\n",
        "recurrent_kernel_h = recurrent_kernel[:, units * 2:]\n",
        "\n",
        "bias_z = bias[         : units * 1]\n",
        "bias_r = bias[units    : units * 2]\n",
        "bias_h = bias[units * 2:]\n",
        "\n",
        "sequence = []\n",
        "for _ in range(len(data_X[0])):\n",
        "    \n",
        "    inputs = data_X[0][_]\n",
        "    inputs = inputs.astype(np.float32)\n",
        "    print('inputs')\n",
        "    print(inputs.shape)\n",
        "    pprint(inputs)\n",
        "\n",
        "    print('x -----------')\n",
        "    print('dropout(input) time')\n",
        "    x_z = np.dot(inputs, kernel_z) + bias_z\n",
        "    x_r = np.dot(inputs, kernel_r) + bias_r\n",
        "    x_h = np.dot(inputs, kernel_h) + bias_h\n",
        "\n",
        "    if _ == 0:\n",
        "        initial_state = [np.zeros(units, dtype=np.float32)]\n",
        "        states = initial_state\n",
        "    else:\n",
        "        states = [h]\n",
        "    h_tm1 = prev_h = states[0]\n",
        "    print('prev --------')\n",
        "    print(prev_h.shape)\n",
        "    pprint(prev_h)\n",
        "    #print('\\nprev:', prev_output)\n",
        "    \n",
        "    print('gate --------')\n",
        "    print('recurrent dropout(h_tm1) time')\n",
        "    z = sigmoid(x_z + np.dot(h_tm1, recurrent_kernel_z))\n",
        "    r = sigmoid(x_r + np.dot(h_tm1, recurrent_kernel_r))\n",
        "    hh = np.tanh(x_h + np.dot(h_tm1, recurrent_kernel_h))\n",
        "    \n",
        "    h = z * h_tm1 + (1 - z) * hh\n",
        "    h = h.astype(np.float32)\n",
        "    print(h.shape)\n",
        "    pprint(h)\n",
        "    #print('\\nh:', h)\n",
        "\n",
        "    print('output ------')\n",
        "    output = h\n",
        "    output = output.astype(np.float32)\n",
        "    print(output.shape)\n",
        "    pprint(output)\n",
        "    \n",
        "    print('\\nstep (%s)' % _ + '='*37)\n",
        "    print('input\\t\\t:', inputs)\n",
        "    print('prev h\\t\\t:', prev_h)\n",
        "    print('h\\t\\t:', h)\n",
        "    print('output(%s)\\t: %s' % (_, output))\n",
        "    print('='*45 + '\\n')\n",
        "    \n",
        "    sequence.append(output)\n",
        "    \n",
        "    if return_sequence:\n",
        "        result = sequence\n",
        "    else:\n",
        "        result = sequence[-1]\n",
        "    \n",
        "    if return_state:\n",
        "        state = output\n",
        "    else:\n",
        "        state = []\n",
        "        \n",
        "        \n",
        "result = np.expand_dims(np.stack(result), axis=0)\n",
        "state = np.expand_dims(np.array(state), axis=0)\n",
        "\n",
        "print('\\nResult: [Output, State]')\n",
        "print('\\n=== Numpy ===')\n",
        "print([result, state])\n",
        "print('\\n=== Keras ===')\n",
        "print(model.predict(data_X))"
      ],
      "execution_count": 0,
      "outputs": [
        {
          "output_type": "stream",
          "text": [
            "[[0.2 0.3 0.4 0.5 0.6 0.7]\n",
            " [0.8 0.9 1.  1.1 1.2 1.3]]\n",
            "[[-0.05 -0.04 -0.03 -0.02 -0.01  0.  ]\n",
            " [ 0.01  0.02  0.03  0.04  0.05  0.06]]\n",
            "[0. 0. 0. 0. 0. 0.]\n",
            "inputs\n",
            "(2,)\n",
            "array([0.2, 0.1], dtype=float32)\n",
            "x -----------\n",
            "dropout(input) time\n",
            "prev --------\n",
            "(2,)\n",
            "array([0., 0.], dtype=float32)\n",
            "gate --------\n",
            "recurrent dropout(h_tm1) time\n",
            "(2,)\n",
            "array([0.11069148, 0.12194498], dtype=float32)\n",
            "output ------\n",
            "(2,)\n",
            "array([0.11069148, 0.12194498], dtype=float32)\n",
            "\n",
            "step (0)=====================================\n",
            "input\t\t: [0.2 0.1]\n",
            "prev h\t\t: [0. 0.]\n",
            "h\t\t: [0.11069148 0.12194498]\n",
            "output(0)\t: [0.11069148 0.12194498]\n",
            "=============================================\n",
            "\n",
            "inputs\n",
            "(2,)\n",
            "array([0.5, 0.3], dtype=float32)\n",
            "x -----------\n",
            "dropout(input) time\n",
            "prev --------\n",
            "(2,)\n",
            "array([0.11069148, 0.12194498], dtype=float32)\n",
            "gate --------\n",
            "recurrent dropout(h_tm1) time\n",
            "(2,)\n",
            "array([0.3070247 , 0.32504663], dtype=float32)\n",
            "output ------\n",
            "(2,)\n",
            "array([0.3070247 , 0.32504663], dtype=float32)\n",
            "\n",
            "step (1)=====================================\n",
            "input\t\t: [0.5 0.3]\n",
            "prev h\t\t: [0.11069148 0.12194498]\n",
            "h\t\t: [0.3070247  0.32504663]\n",
            "output(1)\t: [0.3070247  0.32504663]\n",
            "=============================================\n",
            "\n",
            "inputs\n",
            "(2,)\n",
            "array([0.4, 0. ], dtype=float32)\n",
            "x -----------\n",
            "dropout(input) time\n",
            "prev --------\n",
            "(2,)\n",
            "array([0.3070247 , 0.32504663], dtype=float32)\n",
            "gate --------\n",
            "recurrent dropout(h_tm1) time\n",
            "(2,)\n",
            "array([0.2784692, 0.3089273], dtype=float32)\n",
            "output ------\n",
            "(2,)\n",
            "array([0.2784692, 0.3089273], dtype=float32)\n",
            "\n",
            "step (2)=====================================\n",
            "input\t\t: [0.4 0. ]\n",
            "prev h\t\t: [0.3070247  0.32504663]\n",
            "h\t\t: [0.2784692 0.3089273]\n",
            "output(2)\t: [0.2784692 0.3089273]\n",
            "=============================================\n",
            "\n",
            "\n",
            "Result: [Output, State]\n",
            "\n",
            "=== Numpy ===\n",
            "[array([[[0.11069148, 0.12194498],\n",
            "        [0.3070247 , 0.32504663],\n",
            "        [0.2784692 , 0.3089273 ]]], dtype=float32), array([[0.2784692, 0.3089273]], dtype=float32)]\n",
            "\n",
            "=== Keras ===\n",
            "[array([[[0.11209598, 0.12390368],\n",
            "        [0.31483552, 0.33543658],\n",
            "        [0.27963528, 0.31039596]]], dtype=float32), array([[0.27963528, 0.31039596]], dtype=float32)]\n"
          ],
          "name": "stdout"
        }
      ]
    },
    {
      "metadata": {
        "id": "W3TSjWPExvjd",
        "colab_type": "text"
      },
      "cell_type": "markdown",
      "source": [
        "---\n",
        "## RNN with Word Embedding"
      ]
    },
    {
      "metadata": {
        "id": "uq4sFSajxvje",
        "colab_type": "code",
        "colab": {},
        "outputId": "976a6ff2-294e-4e12-d4bc-3718e022ff65"
      },
      "cell_type": "code",
      "source": [
        "from numpy import array\n",
        "from keras.preprocessing.text import one_hot\n",
        "from keras.preprocessing.sequence import pad_sequences\n",
        "from keras.models import Sequential\n",
        "from keras.layers import Dense\n",
        "from keras.layers import Flatten\n",
        "from keras.layers.embeddings import Embedding\n",
        "# define documents\n",
        "docs = ['Well done!',\n",
        "\t\t'Good work',\n",
        "\t\t'Great effort',\n",
        "\t\t'nice work',\n",
        "\t\t'Excellent!',\n",
        "\t\t'Weak',\n",
        "\t\t'Poor effort!',\n",
        "\t\t'not good',\n",
        "\t\t'poor work',\n",
        "\t\t'Could have done better.']\n",
        "# define class labels\n",
        "labels = array([1,1,1,1,1,0,0,0,0,0])\n",
        "# integer encode the documents\n",
        "vocab_size = 50\n",
        "encoded_docs = [one_hot(d, vocab_size) for d in docs]\n",
        "print(encoded_docs)\n",
        "# pad documents to a max length of 4 words\n",
        "max_length = 4\n",
        "padded_docs = pad_sequences(encoded_docs, maxlen=max_length, padding='post')\n",
        "print(padded_docs)"
      ],
      "execution_count": 0,
      "outputs": [
        {
          "output_type": "stream",
          "text": [
            "[[23, 17], [44, 3], [6, 10], [5, 3], [15], [40], [49, 10], [13, 44], [49, 3], [14, 48, 17, 46]]\n",
            "[[23 17  0  0]\n",
            " [44  3  0  0]\n",
            " [ 6 10  0  0]\n",
            " [ 5  3  0  0]\n",
            " [15  0  0  0]\n",
            " [40  0  0  0]\n",
            " [49 10  0  0]\n",
            " [13 44  0  0]\n",
            " [49  3  0  0]\n",
            " [14 48 17 46]]\n"
          ],
          "name": "stdout"
        }
      ]
    },
    {
      "metadata": {
        "id": "1C7Ni7B4xvjf",
        "colab_type": "code",
        "colab": {},
        "outputId": "2cdb6b1d-73e3-4c2c-c125-0bf1b1e4a621"
      },
      "cell_type": "code",
      "source": [
        "padded_docs.shape"
      ],
      "execution_count": 0,
      "outputs": [
        {
          "output_type": "execute_result",
          "data": {
            "text/plain": [
              "(10, 4)"
            ]
          },
          "metadata": {
            "tags": []
          },
          "execution_count": 42
        }
      ]
    },
    {
      "metadata": {
        "id": "e0X0DfhWxvjg",
        "colab_type": "code",
        "colab": {},
        "outputId": "cda62e1f-9ef1-4afb-e527-4c4b3c99f839"
      },
      "cell_type": "code",
      "source": [
        "# define the model\n",
        "model = Sequential()\n",
        "model.add(Embedding(vocab_size, 8, input_length=max_length))\n",
        "model.add(SimpleRNN(1, return_sequences=True, return_state=False))\n",
        "# compile the model\n",
        "model.compile(optimizer='adam', loss='binary_crossentropy', metrics=['acc'])\n",
        "# summarize the model\n",
        "print(model.summary())"
      ],
      "execution_count": 0,
      "outputs": [
        {
          "output_type": "stream",
          "text": [
            "_________________________________________________________________\n",
            "Layer (type)                 Output Shape              Param #   \n",
            "=================================================================\n",
            "embedding_1 (Embedding)      (None, 4, 8)              400       \n",
            "_________________________________________________________________\n",
            "simple_rnn_1 (SimpleRNN)     (None, 4, 1)              10        \n",
            "=================================================================\n",
            "Total params: 410\n",
            "Trainable params: 410\n",
            "Non-trainable params: 0\n",
            "_________________________________________________________________\n",
            "None\n"
          ],
          "name": "stdout"
        }
      ]
    },
    {
      "metadata": {
        "id": "svzZCq4Dxvji",
        "colab_type": "code",
        "colab": {},
        "outputId": "c25dab2b-3a84-4bd5-f6d4-43342ad0e18b"
      },
      "cell_type": "code",
      "source": [
        "model.input_shape"
      ],
      "execution_count": 0,
      "outputs": [
        {
          "output_type": "execute_result",
          "data": {
            "text/plain": [
              "(None, 4)"
            ]
          },
          "metadata": {
            "tags": []
          },
          "execution_count": 44
        }
      ]
    },
    {
      "metadata": {
        "id": "ID0U0Rzmxvjm",
        "colab_type": "code",
        "colab": {},
        "outputId": "7fd92689-4c14-4ec3-a75d-f05cb21d2776"
      },
      "cell_type": "code",
      "source": [
        "model.output_shape"
      ],
      "execution_count": 0,
      "outputs": [
        {
          "output_type": "execute_result",
          "data": {
            "text/plain": [
              "(None, 4, 1)"
            ]
          },
          "metadata": {
            "tags": []
          },
          "execution_count": 45
        }
      ]
    },
    {
      "metadata": {
        "id": "I3un5f4Qxvjo",
        "colab_type": "code",
        "colab": {},
        "outputId": "9ac04e8a-979d-4b2f-c70a-bbddd55bd041"
      },
      "cell_type": "code",
      "source": [
        "# fit the model\n",
        "model.fit(padded_docs, labels, epochs=50, verbose=0)\n",
        "# evaluate the model\n",
        "loss, accuracy = model.evaluate(padded_docs, labels, verbose=0)\n",
        "print('Accuracy: %f' % (accuracy*100))"
      ],
      "execution_count": 0,
      "outputs": [
        {
          "output_type": "error",
          "ename": "ValueError",
          "evalue": "Error when checking target: expected simple_rnn_1 to have 3 dimensions, but got array with shape (10, 1)",
          "traceback": [
            "\u001b[0;31m---------------------------------------------------------------------------\u001b[0m",
            "\u001b[0;31mValueError\u001b[0m                                Traceback (most recent call last)",
            "\u001b[0;32m<ipython-input-46-06cfc31c8474>\u001b[0m in \u001b[0;36m<module>\u001b[0;34m()\u001b[0m\n\u001b[1;32m      1\u001b[0m \u001b[0;31m# fit the model\u001b[0m\u001b[0;34m\u001b[0m\u001b[0;34m\u001b[0m\u001b[0m\n\u001b[0;32m----> 2\u001b[0;31m \u001b[0mmodel\u001b[0m\u001b[0;34m.\u001b[0m\u001b[0mfit\u001b[0m\u001b[0;34m(\u001b[0m\u001b[0mpadded_docs\u001b[0m\u001b[0;34m,\u001b[0m \u001b[0mlabels\u001b[0m\u001b[0;34m,\u001b[0m \u001b[0mepochs\u001b[0m\u001b[0;34m=\u001b[0m\u001b[0;36m50\u001b[0m\u001b[0;34m,\u001b[0m \u001b[0mverbose\u001b[0m\u001b[0;34m=\u001b[0m\u001b[0;36m0\u001b[0m\u001b[0;34m)\u001b[0m\u001b[0;34m\u001b[0m\u001b[0m\n\u001b[0m\u001b[1;32m      3\u001b[0m \u001b[0;31m# evaluate the model\u001b[0m\u001b[0;34m\u001b[0m\u001b[0;34m\u001b[0m\u001b[0m\n\u001b[1;32m      4\u001b[0m \u001b[0mloss\u001b[0m\u001b[0;34m,\u001b[0m \u001b[0maccuracy\u001b[0m \u001b[0;34m=\u001b[0m \u001b[0mmodel\u001b[0m\u001b[0;34m.\u001b[0m\u001b[0mevaluate\u001b[0m\u001b[0;34m(\u001b[0m\u001b[0mpadded_docs\u001b[0m\u001b[0;34m,\u001b[0m \u001b[0mlabels\u001b[0m\u001b[0;34m,\u001b[0m \u001b[0mverbose\u001b[0m\u001b[0;34m=\u001b[0m\u001b[0;36m0\u001b[0m\u001b[0;34m)\u001b[0m\u001b[0;34m\u001b[0m\u001b[0m\n\u001b[1;32m      5\u001b[0m \u001b[0mprint\u001b[0m\u001b[0;34m(\u001b[0m\u001b[0;34m'Accuracy: %f'\u001b[0m \u001b[0;34m%\u001b[0m \u001b[0;34m(\u001b[0m\u001b[0maccuracy\u001b[0m\u001b[0;34m*\u001b[0m\u001b[0;36m100\u001b[0m\u001b[0;34m)\u001b[0m\u001b[0;34m)\u001b[0m\u001b[0;34m\u001b[0m\u001b[0m\n",
            "\u001b[0;32m~/apps/anaconda3/envs/tf-py36/lib/python3.6/site-packages/keras/models.py\u001b[0m in \u001b[0;36mfit\u001b[0;34m(self, x, y, batch_size, epochs, verbose, callbacks, validation_split, validation_data, shuffle, class_weight, sample_weight, initial_epoch, steps_per_epoch, validation_steps, **kwargs)\u001b[0m\n\u001b[1;32m    958\u001b[0m                               \u001b[0minitial_epoch\u001b[0m\u001b[0;34m=\u001b[0m\u001b[0minitial_epoch\u001b[0m\u001b[0;34m,\u001b[0m\u001b[0;34m\u001b[0m\u001b[0m\n\u001b[1;32m    959\u001b[0m                               \u001b[0msteps_per_epoch\u001b[0m\u001b[0;34m=\u001b[0m\u001b[0msteps_per_epoch\u001b[0m\u001b[0;34m,\u001b[0m\u001b[0;34m\u001b[0m\u001b[0m\n\u001b[0;32m--> 960\u001b[0;31m                               validation_steps=validation_steps)\n\u001b[0m\u001b[1;32m    961\u001b[0m \u001b[0;34m\u001b[0m\u001b[0m\n\u001b[1;32m    962\u001b[0m     def evaluate(self, x, y, batch_size=32, verbose=1,\n",
            "\u001b[0;32m~/apps/anaconda3/envs/tf-py36/lib/python3.6/site-packages/keras/engine/training.py\u001b[0m in \u001b[0;36mfit\u001b[0;34m(self, x, y, batch_size, epochs, verbose, callbacks, validation_split, validation_data, shuffle, class_weight, sample_weight, initial_epoch, steps_per_epoch, validation_steps, **kwargs)\u001b[0m\n\u001b[1;32m   1579\u001b[0m             \u001b[0mclass_weight\u001b[0m\u001b[0;34m=\u001b[0m\u001b[0mclass_weight\u001b[0m\u001b[0;34m,\u001b[0m\u001b[0;34m\u001b[0m\u001b[0m\n\u001b[1;32m   1580\u001b[0m             \u001b[0mcheck_batch_axis\u001b[0m\u001b[0;34m=\u001b[0m\u001b[0;32mFalse\u001b[0m\u001b[0;34m,\u001b[0m\u001b[0;34m\u001b[0m\u001b[0m\n\u001b[0;32m-> 1581\u001b[0;31m             batch_size=batch_size)\n\u001b[0m\u001b[1;32m   1582\u001b[0m         \u001b[0;31m# Prepare validation data.\u001b[0m\u001b[0;34m\u001b[0m\u001b[0;34m\u001b[0m\u001b[0m\n\u001b[1;32m   1583\u001b[0m         \u001b[0mdo_validation\u001b[0m \u001b[0;34m=\u001b[0m \u001b[0;32mFalse\u001b[0m\u001b[0;34m\u001b[0m\u001b[0m\n",
            "\u001b[0;32m~/apps/anaconda3/envs/tf-py36/lib/python3.6/site-packages/keras/engine/training.py\u001b[0m in \u001b[0;36m_standardize_user_data\u001b[0;34m(self, x, y, sample_weight, class_weight, check_batch_axis, batch_size)\u001b[0m\n\u001b[1;32m   1416\u001b[0m                                     \u001b[0moutput_shapes\u001b[0m\u001b[0;34m,\u001b[0m\u001b[0;34m\u001b[0m\u001b[0m\n\u001b[1;32m   1417\u001b[0m                                     \u001b[0mcheck_batch_axis\u001b[0m\u001b[0;34m=\u001b[0m\u001b[0;32mFalse\u001b[0m\u001b[0;34m,\u001b[0m\u001b[0;34m\u001b[0m\u001b[0m\n\u001b[0;32m-> 1418\u001b[0;31m                                     exception_prefix='target')\n\u001b[0m\u001b[1;32m   1419\u001b[0m         sample_weights = _standardize_sample_weights(sample_weight,\n\u001b[1;32m   1420\u001b[0m                                                      self._feed_output_names)\n",
            "\u001b[0;32m~/apps/anaconda3/envs/tf-py36/lib/python3.6/site-packages/keras/engine/training.py\u001b[0m in \u001b[0;36m_standardize_input_data\u001b[0;34m(data, names, shapes, check_batch_axis, exception_prefix)\u001b[0m\n\u001b[1;32m    139\u001b[0m                                  \u001b[0;34m' to have '\u001b[0m \u001b[0;34m+\u001b[0m \u001b[0mstr\u001b[0m\u001b[0;34m(\u001b[0m\u001b[0mlen\u001b[0m\u001b[0;34m(\u001b[0m\u001b[0mshapes\u001b[0m\u001b[0;34m[\u001b[0m\u001b[0mi\u001b[0m\u001b[0;34m]\u001b[0m\u001b[0;34m)\u001b[0m\u001b[0;34m)\u001b[0m \u001b[0;34m+\u001b[0m\u001b[0;34m\u001b[0m\u001b[0m\n\u001b[1;32m    140\u001b[0m                                  \u001b[0;34m' dimensions, but got array with shape '\u001b[0m \u001b[0;34m+\u001b[0m\u001b[0;34m\u001b[0m\u001b[0m\n\u001b[0;32m--> 141\u001b[0;31m                                  str(array.shape))\n\u001b[0m\u001b[1;32m    142\u001b[0m             \u001b[0;32mfor\u001b[0m \u001b[0mj\u001b[0m\u001b[0;34m,\u001b[0m \u001b[0;34m(\u001b[0m\u001b[0mdim\u001b[0m\u001b[0;34m,\u001b[0m \u001b[0mref_dim\u001b[0m\u001b[0;34m)\u001b[0m \u001b[0;32min\u001b[0m \u001b[0menumerate\u001b[0m\u001b[0;34m(\u001b[0m\u001b[0mzip\u001b[0m\u001b[0;34m(\u001b[0m\u001b[0marray\u001b[0m\u001b[0;34m.\u001b[0m\u001b[0mshape\u001b[0m\u001b[0;34m,\u001b[0m \u001b[0mshapes\u001b[0m\u001b[0;34m[\u001b[0m\u001b[0mi\u001b[0m\u001b[0;34m]\u001b[0m\u001b[0;34m)\u001b[0m\u001b[0;34m)\u001b[0m\u001b[0;34m:\u001b[0m\u001b[0;34m\u001b[0m\u001b[0m\n\u001b[1;32m    143\u001b[0m                 \u001b[0;32mif\u001b[0m \u001b[0;32mnot\u001b[0m \u001b[0mj\u001b[0m \u001b[0;32mand\u001b[0m \u001b[0;32mnot\u001b[0m \u001b[0mcheck_batch_axis\u001b[0m\u001b[0;34m:\u001b[0m\u001b[0;34m\u001b[0m\u001b[0m\n",
            "\u001b[0;31mValueError\u001b[0m: Error when checking target: expected simple_rnn_1 to have 3 dimensions, but got array with shape (10, 1)"
          ]
        }
      ]
    },
    {
      "metadata": {
        "id": "fKnRTBxaxvjp",
        "colab_type": "text"
      },
      "cell_type": "markdown",
      "source": [
        "### Forward-Propagation"
      ]
    },
    {
      "metadata": {
        "id": "QEtpgWFCxvjr",
        "colab_type": "code",
        "colab": {}
      },
      "cell_type": "code",
      "source": [
        "units = 2\n",
        "input_dim = 2\n",
        "\n",
        "if input_dim == 1:\n",
        "    data_X = np.array([[.3],\n",
        "                       [.7],\n",
        "                       [.4]\n",
        "                      ]).reshape(1, 3, 1).astype('float32')\n",
        "else:\n",
        "    data_X = np.array([[.3, .8],\n",
        "                       [.7, .6],\n",
        "                       [.4, 0.]\n",
        "                      ]).reshape(1, 3, 2).astype('float32')\n",
        "\n",
        "print(data_X.shape)\n",
        "pprint(data_X)"
      ],
      "execution_count": 0,
      "outputs": []
    },
    {
      "metadata": {
        "id": "iHIV1WpJxvjs",
        "colab_type": "text"
      },
      "cell_type": "markdown",
      "source": [
        "#### `return_sequences=False`"
      ]
    },
    {
      "metadata": {
        "id": "E_c135-Yxvjs",
        "colab_type": "code",
        "colab": {}
      },
      "cell_type": "code",
      "source": [
        "units = units\n",
        "#init_state = np.zeros((1, units), dtype=np.float32)\n",
        "#init_state = [K.zeros(init_state.shape, dtype=np.float32, name=None)]\n",
        "\n",
        "if len(data_X.shape) == 3:\n",
        "    n_sample, seq_len, input_dim = data_X.shape\n",
        "else:\n",
        "    n_sample, seq_len, input_dim, _ = data_X.shape\n",
        "\n",
        "# Define an input sequence and process it.\n",
        "_input_layer = Input(shape=(seq_len, input_dim), name='Input_layer')\n",
        "\n",
        "_rnn_layer = SimpleRNN(units, return_sequences=False,\n",
        "                       return_state=True,\n",
        "                       name='RNN_layer')\n",
        "outputs, states = _rnn_layer(_input_layer)\n",
        "\n",
        "#_output_layer = Dense(1, activation='softmax', name='Output_layer')\n",
        "#_output_layer = Activation('softmax', name='Output_layer')\n",
        "#_outputs = _output_layer(outputs)\n",
        "\n",
        "# Define the model that will turn\n",
        "# `encoder_input_data` & `decoder_input_data` into `decoder_target_data`\n",
        "model = Model(inputs=_input_layer, outputs=[outputs, states])\n",
        "model.compile(optimizer='adam', loss='categorical_crossentropy', metrics=['acc'])\n",
        "\n",
        "pprint(model.weights)\n",
        "model.summary()"
      ],
      "execution_count": 0,
      "outputs": []
    },
    {
      "metadata": {
        "id": "QzSRjp9Dxvjt",
        "colab_type": "code",
        "colab": {}
      },
      "cell_type": "code",
      "source": [
        "model.output_shape"
      ],
      "execution_count": 0,
      "outputs": []
    },
    {
      "metadata": {
        "id": "ZcikP1cJxvju",
        "colab_type": "code",
        "colab": {}
      },
      "cell_type": "code",
      "source": [
        "model.input_shape"
      ],
      "execution_count": 0,
      "outputs": []
    },
    {
      "metadata": {
        "id": "fADCHOJtxvjw",
        "colab_type": "text"
      },
      "cell_type": "markdown",
      "source": [
        "* Create Session Error Exception"
      ]
    },
    {
      "metadata": {
        "id": "s4qDpUZhxvjw",
        "colab_type": "code",
        "colab": {}
      },
      "cell_type": "code",
      "source": [
        "try:\n",
        "    model.get_weights()\n",
        "except:\n",
        "    pass"
      ],
      "execution_count": 0,
      "outputs": []
    },
    {
      "metadata": {
        "id": "SVb9kEjYxvjy",
        "colab_type": "code",
        "colab": {}
      },
      "cell_type": "code",
      "source": [
        "kernel, recurrent_kernel, bias = _rnn_layer.get_weights()\n",
        "print(kernel, recurrent_kernel, bias, sep='\\n')\n",
        "print('Kernel_shape:', kernel.shape)\n",
        "print('Recurrent_Kernel_shape:', recurrent_kernel.shape)\n",
        "print('Bias_shape:', bias.shape)"
      ],
      "execution_count": 0,
      "outputs": []
    },
    {
      "metadata": {
        "id": "qjjLM5nKxvjy",
        "colab_type": "code",
        "colab": {}
      },
      "cell_type": "code",
      "source": [
        "_rnn_layer.get_initial_state(data_X)"
      ],
      "execution_count": 0,
      "outputs": []
    },
    {
      "metadata": {
        "id": "vGrL-Mmsxvj1",
        "colab_type": "code",
        "colab": {}
      },
      "cell_type": "code",
      "source": [
        "weight = ['h']\n",
        "\n",
        "my_kernel = (np.arange(input_dim * units* len(weight)) * .1 + .2).reshape(input_dim, units* len(weight))\n",
        "my_recurrent_kernel = (np.arange(units * units * len(weight)) * .01 - .05).reshape(units, units * len(weight))\n",
        "my_bias = np.zeros(units * len(weight)).reshape(units * len(weight), )\n",
        "\n",
        "print(my_kernel, my_recurrent_kernel, my_bias, sep='\\n')\n",
        "\n",
        "_rnn_layer.set_weights([my_kernel, my_recurrent_kernel, my_bias])"
      ],
      "execution_count": 0,
      "outputs": []
    },
    {
      "metadata": {
        "id": "dYkBRx6axvj3",
        "colab_type": "code",
        "colab": {}
      },
      "cell_type": "code",
      "source": [
        "kernel, recurrent_kernel, bias = model.get_weights()\n",
        "print(kernel, recurrent_kernel, bias, sep='\\n')\n",
        "\n",
        "return_sequence = False\n",
        "return_state = True\n",
        "\n",
        "\n",
        "sequence = []\n",
        "for _ in range(len(data_X[0])):\n",
        "    \n",
        "    inputs = data_X[0][_]\n",
        "    inputs = inputs.astype(np.float32)\n",
        "    print('inputs')\n",
        "    print(inputs.shape)\n",
        "    pprint(inputs)\n",
        "\n",
        "    print('h -----------')\n",
        "    h = np.dot(inputs, kernel) + bias\n",
        "    h = h.astype(np.float32)\n",
        "    print(h.shape)\n",
        "    pprint(h)\n",
        "    #print('\\nh:', h)\n",
        "\n",
        "    if _ == 0:\n",
        "        initial_state = [np.zeros(units, dtype=np.float32)]\n",
        "        states = initial_state\n",
        "    else:\n",
        "        states = [h]\n",
        "    prev_output = states[0]\n",
        "    print('prev --------')\n",
        "    print(prev_output.shape)\n",
        "    pprint(prev_output)\n",
        "    #print('\\nprev:', prev_output)\n",
        "\n",
        "    print('a -----------')\n",
        "    a = np.dot(prev_output, recurrent_kernel)\n",
        "    a = a.astype(np.float32)\n",
        "    print(a.shape)\n",
        "    pprint(a)\n",
        "\n",
        "    print('output ------')\n",
        "    output = h + a\n",
        "    output = output.astype(np.float32)\n",
        "    print(output.shape)\n",
        "    pprint(output)\n",
        "    \n",
        "    \n",
        "    print('\\nstep (%s)' % _ + '='*37)\n",
        "    print('h\\t\\t:', h)\n",
        "    print('prev\\t\\t:', prev_output)\n",
        "    print('output(%s)\\t: %s' % (_, output))\n",
        "    print('='*45 + '\\n')\n",
        "    \n",
        "    sequence.append(output)\n",
        "    \n",
        "    if return_sequence:\n",
        "        result = sequence\n",
        "    else:\n",
        "        result = sequence[-1]\n",
        "    \n",
        "    if return_state:\n",
        "        state = output\n",
        "    else:\n",
        "        state = []\n",
        "        \n",
        "        \n",
        "result = np.expand_dims(np.stack(result), axis=0)\n",
        "state = np.expand_dims(np.array(state), axis=0)\n",
        "\n",
        "print('\\nResult: [Output, State]')\n",
        "print('\\n=== Numpy ===')\n",
        "print([result, state])\n",
        "print('\\n=== Keras ===')\n",
        "print(model.predict(data_X))"
      ],
      "execution_count": 0,
      "outputs": []
    },
    {
      "metadata": {
        "id": "4TU6SQnSxvj4",
        "colab_type": "text"
      },
      "cell_type": "markdown",
      "source": [
        "#### `return_sequences=True`"
      ]
    },
    {
      "metadata": {
        "id": "MkjF20ntxvj4",
        "colab_type": "code",
        "colab": {}
      },
      "cell_type": "code",
      "source": [
        "units = units\n",
        "n_sample, seq_len, input_dim = data_X.shape\n",
        "\n",
        "# Define an input sequence and process it.\n",
        "_input_layer = Input(shape=(seq_len, input_dim), name='Input_layer')\n",
        "\n",
        "_rnn_layer = SimpleRNN(units, return_sequences=True, return_state=True, name='RNN_layer')\n",
        "outputs, states = _rnn_layer(_input_layer)\n",
        "\n",
        "#_output_layer = Dense(1, activation='softmax', name='Output_layer')\n",
        "#_output_layer = Activation('softmax', name='Output_layer')\n",
        "#_outputs = _output_layer(outputs)\n",
        "\n",
        "# Define the model that will turn\n",
        "# `encoder_input_data` & `decoder_input_data` into `decoder_target_data`\n",
        "model = Model(inputs=_input_layer, outputs=[outputs, states])\n",
        "model.compile(optimizer='adam', loss='categorical_crossentropy', metrics=['acc'])\n",
        "\n",
        "pprint(model.weights)\n",
        "model.summary()"
      ],
      "execution_count": 0,
      "outputs": []
    },
    {
      "metadata": {
        "id": "7oYYz87pxvj6",
        "colab_type": "code",
        "colab": {}
      },
      "cell_type": "code",
      "source": [
        "model.output_shape"
      ],
      "execution_count": 0,
      "outputs": []
    },
    {
      "metadata": {
        "id": "pplhmDerxvj8",
        "colab_type": "code",
        "colab": {}
      },
      "cell_type": "code",
      "source": [
        "model.input_shape"
      ],
      "execution_count": 0,
      "outputs": []
    },
    {
      "metadata": {
        "id": "GsQkrn-9xvj9",
        "colab_type": "code",
        "colab": {}
      },
      "cell_type": "code",
      "source": [
        "weight = ['h']\n",
        "\n",
        "my_kernel = (np.arange(input_dim * units* len(weight)) * .1 + .2).reshape(input_dim, units* len(weight)).astype(np.float32)\n",
        "my_recurrent_kernel = (np.arange(units * units * len(weight)) * .01 - .05).reshape(units, units * len(weight)).astype(np.float32)\n",
        "my_bias = np.zeros(units * len(weight)).reshape(units * len(weight), ).astype(np.float32)\n",
        "\n",
        "print(my_kernel, my_recurrent_kernel, my_bias, sep='\\n')\n",
        "\n",
        "_rnn_layer.set_weights([my_kernel, my_recurrent_kernel, my_bias])"
      ],
      "execution_count": 0,
      "outputs": []
    },
    {
      "metadata": {
        "id": "lYkIBmsjxvj_",
        "colab_type": "code",
        "colab": {}
      },
      "cell_type": "code",
      "source": [
        "kernel, recurrent_kernel, bias = model.get_weights()\n",
        "print(kernel, recurrent_kernel, bias, sep='\\n')\n",
        "\n",
        "return_sequence = True\n",
        "return_state = True\n",
        "\n",
        "\n",
        "sequence = []\n",
        "for _ in range(len(data_X[0])):\n",
        "    \n",
        "    inputs = data_X[0][_]\n",
        "    inputs = inputs.astype(np.float32)\n",
        "    print('inputs')\n",
        "    print(inputs.shape)\n",
        "    pprint(inputs)\n",
        "\n",
        "    print('h -----------')\n",
        "    h = np.dot(inputs, kernel) + bias\n",
        "    h = h.astype(np.float32)\n",
        "    print(h.shape)\n",
        "    pprint(h)\n",
        "    #print('\\nh:', h)\n",
        "\n",
        "    if _ == 0:\n",
        "        initial_state = [np.zeros(units, dtype=np.float32)]\n",
        "        states = initial_state\n",
        "    else:\n",
        "        states = [output]\n",
        "    prev_output = states[0]\n",
        "    print('prev --------')\n",
        "    print(prev_output.shape)\n",
        "    pprint(prev_output)\n",
        "    #print('\\nprev:', prev_output)\n",
        "\n",
        "    print('a -----------')\n",
        "    a = np.dot(prev_output, recurrent_kernel)\n",
        "    a = a.astype(np.float32)\n",
        "    print(a.shape)\n",
        "    pprint(a)\n",
        "\n",
        "    print('output ------')\n",
        "    output = h + a\n",
        "    output = output.astype(np.float32)\n",
        "    print(output.shape)\n",
        "    pprint(output)\n",
        "    \n",
        "    \n",
        "    print('\\nstep (%s)' % _ + '='*37)\n",
        "    print('h\\t\\t:', h)\n",
        "    print('prev\\t\\t:', prev_output)\n",
        "    print('output(%s)\\t: %s' % (_, output))\n",
        "    print('='*45 + '\\n')\n",
        "    \n",
        "    sequence.append(output)\n",
        "    \n",
        "    if return_sequence:\n",
        "        result = sequence\n",
        "    else:\n",
        "        result = sequence[-1]\n",
        "    \n",
        "    if return_state:\n",
        "        state = output\n",
        "    else:\n",
        "        state = []\n",
        "        \n",
        "        \n",
        "result = np.expand_dims(np.stack(result), axis=0)\n",
        "state = np.expand_dims(np.array(state), axis=0)\n",
        "\n",
        "print('\\nResult: [Output, State]')\n",
        "print('\\n=== Numpy ===')\n",
        "print([result, state])\n",
        "print('\\n=== Keras ===')\n",
        "print(model.predict(data_X))"
      ],
      "execution_count": 0,
      "outputs": []
    },
    {
      "metadata": {
        "id": "pl9qoursxvkA",
        "colab_type": "text"
      },
      "cell_type": "markdown",
      "source": [
        "Done."
      ]
    }
  ]
}